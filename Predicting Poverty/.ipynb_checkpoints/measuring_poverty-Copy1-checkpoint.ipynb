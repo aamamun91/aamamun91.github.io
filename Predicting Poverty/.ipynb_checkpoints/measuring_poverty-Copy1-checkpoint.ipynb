{
 "cells": [
  {
   "cell_type": "code",
   "execution_count": 1,
   "metadata": {
    "collapsed": true
   },
   "outputs": [],
   "source": [
    "%matplotlib inline\n",
    "\n",
    "import os\n",
    "\n",
    "import numpy as np\n",
    "import pandas as pd\n",
    "\n",
    "import matplotlib.pyplot as plt"
   ]
  },
  {
   "cell_type": "code",
   "execution_count": 2,
   "metadata": {},
   "outputs": [],
   "source": [
    "# data directory\n",
    "DATA_DIR = os.path.join('C:', 'data\\processed')"
   ]
  },
  {
   "cell_type": "code",
   "execution_count": 3,
   "metadata": {},
   "outputs": [
    {
     "data": {
      "text/plain": [
       "'C:data\\\\processed'"
      ]
     },
     "execution_count": 3,
     "metadata": {},
     "output_type": "execute_result"
    }
   ],
   "source": [
    "DATA_DIR"
   ]
  },
  {
   "cell_type": "code",
   "execution_count": 4,
   "metadata": {
    "collapsed": true
   },
   "outputs": [],
   "source": [
    "data_paths = {'A': {'train': os.path.join(DATA_DIR, 'A', 'A_hhold_train.csv'), \n",
    "                    'test':  os.path.join(DATA_DIR, 'A', 'A_hhold_test.csv')}, \n",
    "              \n",
    "              'B': {'train': os.path.join(DATA_DIR, 'B', 'B_hhold_train.csv'), \n",
    "                    'test':  os.path.join(DATA_DIR, 'B', 'B_hhold_test.csv')}, \n",
    "              \n",
    "              'C': {'train': os.path.join(DATA_DIR, 'C', 'C_hhold_train.csv'), \n",
    "                    'test':  os.path.join(DATA_DIR, 'C', 'C_hhold_test.csv')}}"
   ]
  },
  {
   "cell_type": "code",
   "execution_count": 5,
   "metadata": {},
   "outputs": [],
   "source": [
    "# load training data\n",
    "a_train = pd.read_csv(data_paths['A']['train'], index_col='id')\n",
    "b_train = pd.read_csv(data_paths['B']['train'], index_col='id')\n",
    "c_train = pd.read_csv(data_paths['C']['train'], index_col='id')"
   ]
  },
  {
   "cell_type": "code",
   "execution_count": 6,
   "metadata": {},
   "outputs": [
    {
     "data": {
      "text/plain": [
       "(8203, 345)"
      ]
     },
     "execution_count": 6,
     "metadata": {},
     "output_type": "execute_result"
    }
   ],
   "source": [
    "a_train.shape"
   ]
  },
  {
   "cell_type": "code",
   "execution_count": 7,
   "metadata": {},
   "outputs": [
    {
     "data": {
      "text/plain": [
       "{'A': {'test': 'C:data\\\\processed\\\\A\\\\A_hhold_test.csv',\n",
       "  'train': 'C:data\\\\processed\\\\A\\\\A_hhold_train.csv'},\n",
       " 'B': {'test': 'C:data\\\\processed\\\\B\\\\B_hhold_test.csv',\n",
       "  'train': 'C:data\\\\processed\\\\B\\\\B_hhold_train.csv'},\n",
       " 'C': {'test': 'C:data\\\\processed\\\\C\\\\C_hhold_test.csv',\n",
       "  'train': 'C:data\\\\processed\\\\C\\\\C_hhold_train.csv'}}"
      ]
     },
     "execution_count": 7,
     "metadata": {},
     "output_type": "execute_result"
    }
   ],
   "source": [
    "data_paths"
   ]
  },
  {
   "cell_type": "code",
   "execution_count": 8,
   "metadata": {},
   "outputs": [
    {
     "data": {
      "text/html": [
       "<div>\n",
       "<style>\n",
       "    .dataframe thead tr:only-child th {\n",
       "        text-align: right;\n",
       "    }\n",
       "\n",
       "    .dataframe thead th {\n",
       "        text-align: left;\n",
       "    }\n",
       "\n",
       "    .dataframe tbody tr th {\n",
       "        vertical-align: top;\n",
       "    }\n",
       "</style>\n",
       "<table border=\"1\" class=\"dataframe\">\n",
       "  <thead>\n",
       "    <tr style=\"text-align: right;\">\n",
       "      <th></th>\n",
       "      <th>wBXbHZmp</th>\n",
       "      <th>SlDKnCuu</th>\n",
       "      <th>KAJOWiiw</th>\n",
       "      <th>DsKacCdL</th>\n",
       "      <th>rtPrBBPl</th>\n",
       "      <th>tMJrvvut</th>\n",
       "      <th>jdetlNNF</th>\n",
       "      <th>maLAYXwi</th>\n",
       "      <th>vwpsXRGk</th>\n",
       "      <th>sArDRIyX</th>\n",
       "      <th>...</th>\n",
       "      <th>sDGibZrP</th>\n",
       "      <th>CsGvKKBJ</th>\n",
       "      <th>OLpGAaEu</th>\n",
       "      <th>LrDrWRjC</th>\n",
       "      <th>JCDeZBXq</th>\n",
       "      <th>HGPWuGlV</th>\n",
       "      <th>GDUPaBQs</th>\n",
       "      <th>WuwrCsIY</th>\n",
       "      <th>AlDbXTlZ</th>\n",
       "      <th>country</th>\n",
       "    </tr>\n",
       "    <tr>\n",
       "      <th>id</th>\n",
       "      <th></th>\n",
       "      <th></th>\n",
       "      <th></th>\n",
       "      <th></th>\n",
       "      <th></th>\n",
       "      <th></th>\n",
       "      <th></th>\n",
       "      <th></th>\n",
       "      <th></th>\n",
       "      <th></th>\n",
       "      <th></th>\n",
       "      <th></th>\n",
       "      <th></th>\n",
       "      <th></th>\n",
       "      <th></th>\n",
       "      <th></th>\n",
       "      <th></th>\n",
       "      <th></th>\n",
       "      <th></th>\n",
       "      <th></th>\n",
       "      <th></th>\n",
       "    </tr>\n",
       "  </thead>\n",
       "  <tbody>\n",
       "    <tr>\n",
       "      <th>46107</th>\n",
       "      <td>JhtDR</td>\n",
       "      <td>GUusz</td>\n",
       "      <td>TuovO</td>\n",
       "      <td>ZYabk</td>\n",
       "      <td>feupP</td>\n",
       "      <td>PHMVg</td>\n",
       "      <td>NDTCU</td>\n",
       "      <td>cLAGr</td>\n",
       "      <td>XAmOF</td>\n",
       "      <td>MwLvg</td>\n",
       "      <td>...</td>\n",
       "      <td>JqHnW</td>\n",
       "      <td>MaXfS</td>\n",
       "      <td>etZsD</td>\n",
       "      <td>idRwx</td>\n",
       "      <td>LPtkN</td>\n",
       "      <td>vkbkA</td>\n",
       "      <td>qQxrL</td>\n",
       "      <td>AITFl</td>\n",
       "      <td>aQeIm</td>\n",
       "      <td>A</td>\n",
       "    </tr>\n",
       "    <tr>\n",
       "      <th>82739</th>\n",
       "      <td>JhtDR</td>\n",
       "      <td>GUusz</td>\n",
       "      <td>TuovO</td>\n",
       "      <td>ZYabk</td>\n",
       "      <td>feupP</td>\n",
       "      <td>PHMVg</td>\n",
       "      <td>NDTCU</td>\n",
       "      <td>sehIp</td>\n",
       "      <td>lwCkE</td>\n",
       "      <td>MwLvg</td>\n",
       "      <td>...</td>\n",
       "      <td>JqHnW</td>\n",
       "      <td>MaXfS</td>\n",
       "      <td>HxnJy</td>\n",
       "      <td>idRwx</td>\n",
       "      <td>UyAms</td>\n",
       "      <td>vkbkA</td>\n",
       "      <td>qQxrL</td>\n",
       "      <td>AITFl</td>\n",
       "      <td>cecIq</td>\n",
       "      <td>A</td>\n",
       "    </tr>\n",
       "    <tr>\n",
       "      <th>9646</th>\n",
       "      <td>JhtDR</td>\n",
       "      <td>GUusz</td>\n",
       "      <td>BIZns</td>\n",
       "      <td>ZYabk</td>\n",
       "      <td>uxuSS</td>\n",
       "      <td>PHMVg</td>\n",
       "      <td>NDTCU</td>\n",
       "      <td>sehIp</td>\n",
       "      <td>qNABl</td>\n",
       "      <td>MwLvg</td>\n",
       "      <td>...</td>\n",
       "      <td>JqHnW</td>\n",
       "      <td>MaXfS</td>\n",
       "      <td>USRak</td>\n",
       "      <td>idRwx</td>\n",
       "      <td>UyAms</td>\n",
       "      <td>vkbkA</td>\n",
       "      <td>qQxrL</td>\n",
       "      <td>AITFl</td>\n",
       "      <td>cecIq</td>\n",
       "      <td>A</td>\n",
       "    </tr>\n",
       "    <tr>\n",
       "      <th>10975</th>\n",
       "      <td>JhtDR</td>\n",
       "      <td>GUusz</td>\n",
       "      <td>TuovO</td>\n",
       "      <td>ZYabk</td>\n",
       "      <td>feupP</td>\n",
       "      <td>PHMVg</td>\n",
       "      <td>NDTCU</td>\n",
       "      <td>sehIp</td>\n",
       "      <td>sPNOc</td>\n",
       "      <td>MwLvg</td>\n",
       "      <td>...</td>\n",
       "      <td>JqHnW</td>\n",
       "      <td>MaXfS</td>\n",
       "      <td>USRak</td>\n",
       "      <td>idRwx</td>\n",
       "      <td>UyAms</td>\n",
       "      <td>vkbkA</td>\n",
       "      <td>qQxrL</td>\n",
       "      <td>AITFl</td>\n",
       "      <td>cecIq</td>\n",
       "      <td>A</td>\n",
       "    </tr>\n",
       "    <tr>\n",
       "      <th>16463</th>\n",
       "      <td>JhtDR</td>\n",
       "      <td>alLXR</td>\n",
       "      <td>TuovO</td>\n",
       "      <td>ZYabk</td>\n",
       "      <td>feupP</td>\n",
       "      <td>PHMVg</td>\n",
       "      <td>NDTCU</td>\n",
       "      <td>cLAGr</td>\n",
       "      <td>NdlDR</td>\n",
       "      <td>MwLvg</td>\n",
       "      <td>...</td>\n",
       "      <td>JqHnW</td>\n",
       "      <td>MaXfS</td>\n",
       "      <td>etZsD</td>\n",
       "      <td>idRwx</td>\n",
       "      <td>UyAms</td>\n",
       "      <td>vkbkA</td>\n",
       "      <td>qQxrL</td>\n",
       "      <td>GAZGl</td>\n",
       "      <td>aQeIm</td>\n",
       "      <td>A</td>\n",
       "    </tr>\n",
       "  </tbody>\n",
       "</table>\n",
       "<p>5 rows × 345 columns</p>\n",
       "</div>"
      ],
      "text/plain": [
       "      wBXbHZmp SlDKnCuu KAJOWiiw DsKacCdL rtPrBBPl tMJrvvut jdetlNNF maLAYXwi  \\\n",
       "id                                                                              \n",
       "46107    JhtDR    GUusz    TuovO    ZYabk    feupP    PHMVg    NDTCU    cLAGr   \n",
       "82739    JhtDR    GUusz    TuovO    ZYabk    feupP    PHMVg    NDTCU    sehIp   \n",
       "9646     JhtDR    GUusz    BIZns    ZYabk    uxuSS    PHMVg    NDTCU    sehIp   \n",
       "10975    JhtDR    GUusz    TuovO    ZYabk    feupP    PHMVg    NDTCU    sehIp   \n",
       "16463    JhtDR    alLXR    TuovO    ZYabk    feupP    PHMVg    NDTCU    cLAGr   \n",
       "\n",
       "      vwpsXRGk sArDRIyX   ...   sDGibZrP CsGvKKBJ OLpGAaEu LrDrWRjC JCDeZBXq  \\\n",
       "id                        ...                                                  \n",
       "46107    XAmOF    MwLvg   ...      JqHnW    MaXfS    etZsD    idRwx    LPtkN   \n",
       "82739    lwCkE    MwLvg   ...      JqHnW    MaXfS    HxnJy    idRwx    UyAms   \n",
       "9646     qNABl    MwLvg   ...      JqHnW    MaXfS    USRak    idRwx    UyAms   \n",
       "10975    sPNOc    MwLvg   ...      JqHnW    MaXfS    USRak    idRwx    UyAms   \n",
       "16463    NdlDR    MwLvg   ...      JqHnW    MaXfS    etZsD    idRwx    UyAms   \n",
       "\n",
       "      HGPWuGlV GDUPaBQs WuwrCsIY AlDbXTlZ country  \n",
       "id                                                 \n",
       "46107    vkbkA    qQxrL    AITFl    aQeIm       A  \n",
       "82739    vkbkA    qQxrL    AITFl    cecIq       A  \n",
       "9646     vkbkA    qQxrL    AITFl    cecIq       A  \n",
       "10975    vkbkA    qQxrL    AITFl    cecIq       A  \n",
       "16463    vkbkA    qQxrL    GAZGl    aQeIm       A  \n",
       "\n",
       "[5 rows x 345 columns]"
      ]
     },
     "execution_count": 8,
     "metadata": {},
     "output_type": "execute_result"
    }
   ],
   "source": [
    "a_train.head()"
   ]
  },
  {
   "cell_type": "code",
   "execution_count": 9,
   "metadata": {},
   "outputs": [
    {
     "data": {
      "text/plain": [
       "Index(['wBXbHZmp', 'SlDKnCuu', 'KAJOWiiw', 'DsKacCdL', 'rtPrBBPl', 'tMJrvvut',\n",
       "       'jdetlNNF', 'maLAYXwi', 'vwpsXRGk', 'sArDRIyX',\n",
       "       ...\n",
       "       'sDGibZrP', 'CsGvKKBJ', 'OLpGAaEu', 'LrDrWRjC', 'JCDeZBXq', 'HGPWuGlV',\n",
       "       'GDUPaBQs', 'WuwrCsIY', 'AlDbXTlZ', 'country'],\n",
       "      dtype='object', length=345)"
      ]
     },
     "execution_count": 9,
     "metadata": {},
     "output_type": "execute_result"
    }
   ],
   "source": [
    "a_train.columns"
   ]
  },
  {
   "cell_type": "code",
   "execution_count": 10,
   "metadata": {},
   "outputs": [
    {
     "data": {
      "text/html": [
       "<div>\n",
       "<style>\n",
       "    .dataframe thead tr:only-child th {\n",
       "        text-align: right;\n",
       "    }\n",
       "\n",
       "    .dataframe thead th {\n",
       "        text-align: left;\n",
       "    }\n",
       "\n",
       "    .dataframe tbody tr th {\n",
       "        vertical-align: top;\n",
       "    }\n",
       "</style>\n",
       "<table border=\"1\" class=\"dataframe\">\n",
       "  <thead>\n",
       "    <tr style=\"text-align: right;\">\n",
       "      <th></th>\n",
       "      <th>RzaXNcgd</th>\n",
       "      <th>LfWEhutI</th>\n",
       "      <th>jXOqJdNL</th>\n",
       "      <th>wJthinfa</th>\n",
       "      <th>PTLgvdlQ</th>\n",
       "      <th>ZvEApWrk</th>\n",
       "      <th>euTESpHe</th>\n",
       "      <th>bDVMMSYY</th>\n",
       "      <th>aSzMhjgD</th>\n",
       "      <th>ZehDbxxy</th>\n",
       "      <th>...</th>\n",
       "      <th>YVMuyCUV</th>\n",
       "      <th>AZVtosGB</th>\n",
       "      <th>toZzckhe</th>\n",
       "      <th>BkiXyuSp</th>\n",
       "      <th>ggucvVUs</th>\n",
       "      <th>VMvwrYds</th>\n",
       "      <th>VlNidRNP</th>\n",
       "      <th>rljjAmaN</th>\n",
       "      <th>ChbSWYhO</th>\n",
       "      <th>country</th>\n",
       "    </tr>\n",
       "    <tr>\n",
       "      <th>id</th>\n",
       "      <th></th>\n",
       "      <th></th>\n",
       "      <th></th>\n",
       "      <th></th>\n",
       "      <th></th>\n",
       "      <th></th>\n",
       "      <th></th>\n",
       "      <th></th>\n",
       "      <th></th>\n",
       "      <th></th>\n",
       "      <th></th>\n",
       "      <th></th>\n",
       "      <th></th>\n",
       "      <th></th>\n",
       "      <th></th>\n",
       "      <th></th>\n",
       "      <th></th>\n",
       "      <th></th>\n",
       "      <th></th>\n",
       "      <th></th>\n",
       "      <th></th>\n",
       "    </tr>\n",
       "  </thead>\n",
       "  <tbody>\n",
       "    <tr>\n",
       "      <th>57071</th>\n",
       "      <td>zTghO</td>\n",
       "      <td>pYfmQ</td>\n",
       "      <td>lNhMv</td>\n",
       "      <td>42</td>\n",
       "      <td>RQnVj</td>\n",
       "      <td>103</td>\n",
       "      <td>jpSeC</td>\n",
       "      <td>FDqwJ</td>\n",
       "      <td>rxJJI</td>\n",
       "      <td>IbWRL</td>\n",
       "      <td>...</td>\n",
       "      <td>nZcTi</td>\n",
       "      <td>pdvWY</td>\n",
       "      <td>LLuZj</td>\n",
       "      <td>qpzpO</td>\n",
       "      <td>kZRgh</td>\n",
       "      <td>VwGOP</td>\n",
       "      <td>DScEf</td>\n",
       "      <td>SKBnS</td>\n",
       "      <td>Enull</td>\n",
       "      <td>B</td>\n",
       "    </tr>\n",
       "    <tr>\n",
       "      <th>18973</th>\n",
       "      <td>zTghO</td>\n",
       "      <td>pYfmQ</td>\n",
       "      <td>lNhMv</td>\n",
       "      <td>34</td>\n",
       "      <td>iuxWN</td>\n",
       "      <td>-2</td>\n",
       "      <td>OLVWN</td>\n",
       "      <td>FDqwJ</td>\n",
       "      <td>ufugi</td>\n",
       "      <td>IbWRL</td>\n",
       "      <td>...</td>\n",
       "      <td>nZcTi</td>\n",
       "      <td>XrijK</td>\n",
       "      <td>LLuZj</td>\n",
       "      <td>qpzpO</td>\n",
       "      <td>kZRgh</td>\n",
       "      <td>VwGOP</td>\n",
       "      <td>JOdCB</td>\n",
       "      <td>SKBnS</td>\n",
       "      <td>Enull</td>\n",
       "      <td>B</td>\n",
       "    </tr>\n",
       "    <tr>\n",
       "      <th>20151</th>\n",
       "      <td>zTghO</td>\n",
       "      <td>pYfmQ</td>\n",
       "      <td>lNhMv</td>\n",
       "      <td>34</td>\n",
       "      <td>iuxWN</td>\n",
       "      <td>313</td>\n",
       "      <td>OMRWa</td>\n",
       "      <td>FDqwJ</td>\n",
       "      <td>rxJJI</td>\n",
       "      <td>IbWRL</td>\n",
       "      <td>...</td>\n",
       "      <td>nZcTi</td>\n",
       "      <td>FEjSW</td>\n",
       "      <td>lmjln</td>\n",
       "      <td>qpzpO</td>\n",
       "      <td>kZRgh</td>\n",
       "      <td>VwGOP</td>\n",
       "      <td>JOdCB</td>\n",
       "      <td>SKBnS</td>\n",
       "      <td>Enull</td>\n",
       "      <td>B</td>\n",
       "    </tr>\n",
       "    <tr>\n",
       "      <th>5730</th>\n",
       "      <td>zTghO</td>\n",
       "      <td>pYfmQ</td>\n",
       "      <td>lNhMv</td>\n",
       "      <td>58</td>\n",
       "      <td>iuxWN</td>\n",
       "      <td>138</td>\n",
       "      <td>jpSeC</td>\n",
       "      <td>FDqwJ</td>\n",
       "      <td>rxJJI</td>\n",
       "      <td>IbWRL</td>\n",
       "      <td>...</td>\n",
       "      <td>nZcTi</td>\n",
       "      <td>XrijK</td>\n",
       "      <td>lmjln</td>\n",
       "      <td>ZZzXr</td>\n",
       "      <td>kZRgh</td>\n",
       "      <td>VwGOP</td>\n",
       "      <td>ZwQQe</td>\n",
       "      <td>SKBnS</td>\n",
       "      <td>Enull</td>\n",
       "      <td>B</td>\n",
       "    </tr>\n",
       "    <tr>\n",
       "      <th>35033</th>\n",
       "      <td>zTghO</td>\n",
       "      <td>pYfmQ</td>\n",
       "      <td>lNhMv</td>\n",
       "      <td>122</td>\n",
       "      <td>iuxWN</td>\n",
       "      <td>68</td>\n",
       "      <td>OLVWN</td>\n",
       "      <td>FDqwJ</td>\n",
       "      <td>rxJJI</td>\n",
       "      <td>IbWRL</td>\n",
       "      <td>...</td>\n",
       "      <td>nZcTi</td>\n",
       "      <td>CRHYU</td>\n",
       "      <td>lmjln</td>\n",
       "      <td>qpzpO</td>\n",
       "      <td>kZRgh</td>\n",
       "      <td>VwGOP</td>\n",
       "      <td>WFgZH</td>\n",
       "      <td>SKBnS</td>\n",
       "      <td>Enull</td>\n",
       "      <td>B</td>\n",
       "    </tr>\n",
       "  </tbody>\n",
       "</table>\n",
       "<p>5 rows × 442 columns</p>\n",
       "</div>"
      ],
      "text/plain": [
       "      RzaXNcgd LfWEhutI jXOqJdNL  wJthinfa PTLgvdlQ  ZvEApWrk euTESpHe  \\\n",
       "id                                                                       \n",
       "57071    zTghO    pYfmQ    lNhMv        42    RQnVj       103    jpSeC   \n",
       "18973    zTghO    pYfmQ    lNhMv        34    iuxWN        -2    OLVWN   \n",
       "20151    zTghO    pYfmQ    lNhMv        34    iuxWN       313    OMRWa   \n",
       "5730     zTghO    pYfmQ    lNhMv        58    iuxWN       138    jpSeC   \n",
       "35033    zTghO    pYfmQ    lNhMv       122    iuxWN        68    OLVWN   \n",
       "\n",
       "      bDVMMSYY aSzMhjgD ZehDbxxy   ...   YVMuyCUV AZVtosGB toZzckhe BkiXyuSp  \\\n",
       "id                                 ...                                         \n",
       "57071    FDqwJ    rxJJI    IbWRL   ...      nZcTi    pdvWY    LLuZj    qpzpO   \n",
       "18973    FDqwJ    ufugi    IbWRL   ...      nZcTi    XrijK    LLuZj    qpzpO   \n",
       "20151    FDqwJ    rxJJI    IbWRL   ...      nZcTi    FEjSW    lmjln    qpzpO   \n",
       "5730     FDqwJ    rxJJI    IbWRL   ...      nZcTi    XrijK    lmjln    ZZzXr   \n",
       "35033    FDqwJ    rxJJI    IbWRL   ...      nZcTi    CRHYU    lmjln    qpzpO   \n",
       "\n",
       "      ggucvVUs VMvwrYds VlNidRNP rljjAmaN ChbSWYhO country  \n",
       "id                                                          \n",
       "57071    kZRgh    VwGOP    DScEf    SKBnS    Enull       B  \n",
       "18973    kZRgh    VwGOP    JOdCB    SKBnS    Enull       B  \n",
       "20151    kZRgh    VwGOP    JOdCB    SKBnS    Enull       B  \n",
       "5730     kZRgh    VwGOP    ZwQQe    SKBnS    Enull       B  \n",
       "35033    kZRgh    VwGOP    WFgZH    SKBnS    Enull       B  \n",
       "\n",
       "[5 rows x 442 columns]"
      ]
     },
     "execution_count": 10,
     "metadata": {},
     "output_type": "execute_result"
    }
   ],
   "source": [
    "b_train.head()"
   ]
  },
  {
   "cell_type": "code",
   "execution_count": 11,
   "metadata": {},
   "outputs": [
    {
     "data": {
      "text/html": [
       "<div>\n",
       "<style>\n",
       "    .dataframe thead tr:only-child th {\n",
       "        text-align: right;\n",
       "    }\n",
       "\n",
       "    .dataframe thead th {\n",
       "        text-align: left;\n",
       "    }\n",
       "\n",
       "    .dataframe tbody tr th {\n",
       "        vertical-align: top;\n",
       "    }\n",
       "</style>\n",
       "<table border=\"1\" class=\"dataframe\">\n",
       "  <thead>\n",
       "    <tr style=\"text-align: right;\">\n",
       "      <th></th>\n",
       "      <th>GRGAYimk</th>\n",
       "      <th>DNnBfiSI</th>\n",
       "      <th>cNDTCUPU</th>\n",
       "      <th>GvTJUYOo</th>\n",
       "      <th>vmKoAlVH</th>\n",
       "      <th>LhUIIEHQ</th>\n",
       "      <th>DTNyjXJp</th>\n",
       "      <th>PNAiwXUz</th>\n",
       "      <th>ABnhybHK</th>\n",
       "      <th>yiuxBjHP</th>\n",
       "      <th>...</th>\n",
       "      <th>AJHrHUkH</th>\n",
       "      <th>PaEKIlvv</th>\n",
       "      <th>bFEsoTgJ</th>\n",
       "      <th>ihACfisf</th>\n",
       "      <th>obIQUcpS</th>\n",
       "      <th>lAvdypjD</th>\n",
       "      <th>ARWytYMz</th>\n",
       "      <th>eqJPmiPb</th>\n",
       "      <th>mmoCpqWS</th>\n",
       "      <th>country</th>\n",
       "    </tr>\n",
       "    <tr>\n",
       "      <th>id</th>\n",
       "      <th></th>\n",
       "      <th></th>\n",
       "      <th></th>\n",
       "      <th></th>\n",
       "      <th></th>\n",
       "      <th></th>\n",
       "      <th></th>\n",
       "      <th></th>\n",
       "      <th></th>\n",
       "      <th></th>\n",
       "      <th></th>\n",
       "      <th></th>\n",
       "      <th></th>\n",
       "      <th></th>\n",
       "      <th></th>\n",
       "      <th></th>\n",
       "      <th></th>\n",
       "      <th></th>\n",
       "      <th></th>\n",
       "      <th></th>\n",
       "      <th></th>\n",
       "    </tr>\n",
       "  </thead>\n",
       "  <tbody>\n",
       "    <tr>\n",
       "      <th>57211</th>\n",
       "      <td>RslOh</td>\n",
       "      <td>SuNUt</td>\n",
       "      <td>gJLrc</td>\n",
       "      <td>EPKkJ</td>\n",
       "      <td>qKiiE</td>\n",
       "      <td>7</td>\n",
       "      <td>XuMYE</td>\n",
       "      <td>-5</td>\n",
       "      <td>QqETe</td>\n",
       "      <td>umyco</td>\n",
       "      <td>...</td>\n",
       "      <td>laFxs</td>\n",
       "      <td>kBQRJ</td>\n",
       "      <td>qcUVH</td>\n",
       "      <td>AmPtx</td>\n",
       "      <td>YXwVA</td>\n",
       "      <td>jSoky</td>\n",
       "      <td>NwjRA</td>\n",
       "      <td>wnPqZ</td>\n",
       "      <td>52</td>\n",
       "      <td>C</td>\n",
       "    </tr>\n",
       "    <tr>\n",
       "      <th>62519</th>\n",
       "      <td>jPUAt</td>\n",
       "      <td>boDkI</td>\n",
       "      <td>gJLrc</td>\n",
       "      <td>EPKkJ</td>\n",
       "      <td>YXkKd</td>\n",
       "      <td>7</td>\n",
       "      <td>XuMYE</td>\n",
       "      <td>331</td>\n",
       "      <td>sEJgr</td>\n",
       "      <td>yYwlq</td>\n",
       "      <td>...</td>\n",
       "      <td>laFxs</td>\n",
       "      <td>kBQRJ</td>\n",
       "      <td>eusFW</td>\n",
       "      <td>AmPtx</td>\n",
       "      <td>LSPRW</td>\n",
       "      <td>jSoky</td>\n",
       "      <td>NwjRA</td>\n",
       "      <td>wnPqZ</td>\n",
       "      <td>100</td>\n",
       "      <td>C</td>\n",
       "    </tr>\n",
       "    <tr>\n",
       "      <th>11614</th>\n",
       "      <td>OpTiw</td>\n",
       "      <td>boDkI</td>\n",
       "      <td>vURog</td>\n",
       "      <td>EPKkJ</td>\n",
       "      <td>qKiiE</td>\n",
       "      <td>9</td>\n",
       "      <td>XuMYE</td>\n",
       "      <td>-1</td>\n",
       "      <td>sEJgr</td>\n",
       "      <td>umyco</td>\n",
       "      <td>...</td>\n",
       "      <td>laFxs</td>\n",
       "      <td>oUXSJ</td>\n",
       "      <td>eusFW</td>\n",
       "      <td>AmPtx</td>\n",
       "      <td>YXwVA</td>\n",
       "      <td>jSoky</td>\n",
       "      <td>NwjRA</td>\n",
       "      <td>wnPqZ</td>\n",
       "      <td>70</td>\n",
       "      <td>C</td>\n",
       "    </tr>\n",
       "    <tr>\n",
       "      <th>6470</th>\n",
       "      <td>RslOh</td>\n",
       "      <td>VgxgY</td>\n",
       "      <td>gJLrc</td>\n",
       "      <td>EPKkJ</td>\n",
       "      <td>YXkKd</td>\n",
       "      <td>9</td>\n",
       "      <td>zfhKi</td>\n",
       "      <td>-5</td>\n",
       "      <td>sEJgr</td>\n",
       "      <td>umyco</td>\n",
       "      <td>...</td>\n",
       "      <td>laFxs</td>\n",
       "      <td>kBQRJ</td>\n",
       "      <td>jqrBN</td>\n",
       "      <td>AmPtx</td>\n",
       "      <td>YXwVA</td>\n",
       "      <td>jSoky</td>\n",
       "      <td>NwjRA</td>\n",
       "      <td>wnPqZ</td>\n",
       "      <td>10</td>\n",
       "      <td>C</td>\n",
       "    </tr>\n",
       "    <tr>\n",
       "      <th>33558</th>\n",
       "      <td>IXFlv</td>\n",
       "      <td>VgxgY</td>\n",
       "      <td>kPTaD</td>\n",
       "      <td>EPKkJ</td>\n",
       "      <td>YXkKd</td>\n",
       "      <td>9</td>\n",
       "      <td>XuMYE</td>\n",
       "      <td>23</td>\n",
       "      <td>sEJgr</td>\n",
       "      <td>umyco</td>\n",
       "      <td>...</td>\n",
       "      <td>laFxs</td>\n",
       "      <td>kBQRJ</td>\n",
       "      <td>eusFW</td>\n",
       "      <td>AmPtx</td>\n",
       "      <td>LSPRW</td>\n",
       "      <td>jSoky</td>\n",
       "      <td>herus</td>\n",
       "      <td>wnPqZ</td>\n",
       "      <td>-5</td>\n",
       "      <td>C</td>\n",
       "    </tr>\n",
       "  </tbody>\n",
       "</table>\n",
       "<p>5 rows × 164 columns</p>\n",
       "</div>"
      ],
      "text/plain": [
       "      GRGAYimk DNnBfiSI cNDTCUPU GvTJUYOo vmKoAlVH  LhUIIEHQ DTNyjXJp  \\\n",
       "id                                                                      \n",
       "57211    RslOh    SuNUt    gJLrc    EPKkJ    qKiiE         7    XuMYE   \n",
       "62519    jPUAt    boDkI    gJLrc    EPKkJ    YXkKd         7    XuMYE   \n",
       "11614    OpTiw    boDkI    vURog    EPKkJ    qKiiE         9    XuMYE   \n",
       "6470     RslOh    VgxgY    gJLrc    EPKkJ    YXkKd         9    zfhKi   \n",
       "33558    IXFlv    VgxgY    kPTaD    EPKkJ    YXkKd         9    XuMYE   \n",
       "\n",
       "       PNAiwXUz ABnhybHK yiuxBjHP   ...   AJHrHUkH PaEKIlvv bFEsoTgJ ihACfisf  \\\n",
       "id                                  ...                                         \n",
       "57211        -5    QqETe    umyco   ...      laFxs    kBQRJ    qcUVH    AmPtx   \n",
       "62519       331    sEJgr    yYwlq   ...      laFxs    kBQRJ    eusFW    AmPtx   \n",
       "11614        -1    sEJgr    umyco   ...      laFxs    oUXSJ    eusFW    AmPtx   \n",
       "6470         -5    sEJgr    umyco   ...      laFxs    kBQRJ    jqrBN    AmPtx   \n",
       "33558        23    sEJgr    umyco   ...      laFxs    kBQRJ    eusFW    AmPtx   \n",
       "\n",
       "      obIQUcpS  lAvdypjD  ARWytYMz eqJPmiPb mmoCpqWS country  \n",
       "id                                                            \n",
       "57211    YXwVA     jSoky     NwjRA    wnPqZ       52       C  \n",
       "62519    LSPRW     jSoky     NwjRA    wnPqZ      100       C  \n",
       "11614    YXwVA     jSoky     NwjRA    wnPqZ       70       C  \n",
       "6470     YXwVA     jSoky     NwjRA    wnPqZ       10       C  \n",
       "33558    LSPRW     jSoky     herus    wnPqZ       -5       C  \n",
       "\n",
       "[5 rows x 164 columns]"
      ]
     },
     "execution_count": 11,
     "metadata": {},
     "output_type": "execute_result"
    }
   ],
   "source": [
    "c_train.head()"
   ]
  },
  {
   "cell_type": "code",
   "execution_count": 12,
   "metadata": {},
   "outputs": [
    {
     "data": {
      "text/plain": [
       "<matplotlib.axes._subplots.AxesSubplot at 0x18524f3a908>"
      ]
     },
     "execution_count": 12,
     "metadata": {},
     "output_type": "execute_result"
    },
    {
     "data": {
      "image/png": "[encoded data removed]",
      "text/plain": [
       "<matplotlib.figure.Figure at 0x18524ffb940>"
      ]
     },
     "metadata": {},
     "output_type": "display_data"
    }
   ],
   "source": [
    "a_train.poor.value_counts().plot.bar(title='Number of Poor for country A')"
   ]
  },
  {
   "cell_type": "code",
   "execution_count": 13,
   "metadata": {},
   "outputs": [
    {
     "data": {
      "text/plain": [
       "<matplotlib.axes._subplots.AxesSubplot at 0x185256ed6a0>"
      ]
     },
     "execution_count": 13,
     "metadata": {},
     "output_type": "execute_result"
    },
    {
     "data": {
      "image/png": "[encoded data removed]",
      "text/plain": [
       "<matplotlib.figure.Figure at 0x18525713c88>"
      ]
     },
     "metadata": {},
     "output_type": "display_data"
    }
   ],
   "source": [
    "b_train.poor.value_counts().plot.bar(title='Number of Poor for country B')"
   ]
  },
  {
   "cell_type": "code",
   "execution_count": 14,
   "metadata": {},
   "outputs": [
    {
     "data": {
      "text/plain": [
       "<matplotlib.axes._subplots.AxesSubplot at 0x185258927f0>"
      ]
     },
     "execution_count": 14,
     "metadata": {},
     "output_type": "execute_result"
    },
    {
     "data": {
      "image/png": "[encoded data removed]",
      "text/plain": [
       "<matplotlib.figure.Figure at 0x185258e6668>"
      ]
     },
     "metadata": {},
     "output_type": "display_data"
    }
   ],
   "source": [
    "c_train.poor.value_counts().plot.bar(title='Number of Poor for country C')"
   ]
  },
  {
   "cell_type": "code",
   "execution_count": 15,
   "metadata": {},
   "outputs": [
    {
     "name": "stdout",
     "output_type": "stream",
     "text": [
      "<class 'pandas.core.frame.DataFrame'>\n",
      "Int64Index: 8203 entries, 46107 to 39832\n",
      "Columns: 345 entries, wBXbHZmp to country\n",
      "dtypes: bool(1), float64(2), int64(2), object(340)\n",
      "memory usage: 21.6+ MB\n"
     ]
    }
   ],
   "source": [
    "a_train.info()"
   ]
  },
  {
   "cell_type": "code",
   "execution_count": 16,
   "metadata": {},
   "outputs": [
    {
     "name": "stdout",
     "output_type": "stream",
     "text": [
      "<class 'pandas.core.frame.DataFrame'>\n",
      "Int64Index: 3255 entries, 57071 to 4923\n",
      "Columns: 442 entries, RzaXNcgd to country\n",
      "dtypes: bool(1), float64(9), int64(14), object(418)\n",
      "memory usage: 11.0+ MB\n"
     ]
    }
   ],
   "source": [
    "b_train.info()"
   ]
  },
  {
   "cell_type": "code",
   "execution_count": 17,
   "metadata": {},
   "outputs": [
    {
     "name": "stdout",
     "output_type": "stream",
     "text": [
      "<class 'pandas.core.frame.DataFrame'>\n",
      "Int64Index: 6469 entries, 57211 to 7646\n",
      "Columns: 164 entries, GRGAYimk to country\n",
      "dtypes: bool(1), float64(1), int64(29), object(133)\n",
      "memory usage: 8.1+ MB\n"
     ]
    }
   ],
   "source": [
    "c_train.info()"
   ]
  },
  {
   "cell_type": "code",
   "execution_count": 18,
   "metadata": {
    "collapsed": true
   },
   "outputs": [],
   "source": [
    "# Standardize features\n",
    "def standardize(df, numeric_only=True):\n",
    "    numeric = df.select_dtypes(include=['int64', 'float64'])\n",
    "    \n",
    "    # subtracy mean and divide by std\n",
    "    df[numeric.columns] = (numeric - numeric.mean()) / numeric.std()\n",
    "    \n",
    "    return df\n",
    "    \n",
    "\n",
    "def pre_process_data(df, enforce_cols=None):\n",
    "    print(\"Input shape:\\t{}\".format(df.shape))\n",
    "        \n",
    "\n",
    "    df = standardize(df)\n",
    "    print(\"After standardization {}\".format(df.shape))\n",
    "        \n",
    "    # create dummy variables for categoricals\n",
    "    df = pd.get_dummies(df)\n",
    "    print(\"After converting categoricals:\\t{}\".format(df.shape))\n",
    "    \n",
    "\n",
    "    # match test set and training set columns\n",
    "    if enforce_cols is not None:\n",
    "        to_drop = np.setdiff1d(df.columns, enforce_cols)\n",
    "        to_add = np.setdiff1d(enforce_cols, df.columns)\n",
    "\n",
    "        df.drop(to_drop, axis=1, inplace=True)\n",
    "        df = df.assign(**{c: 0 for c in to_add})\n",
    "    \n",
    "    df.fillna(0, inplace=True)\n",
    "    \n",
    "    return df"
   ]
  },
  {
   "cell_type": "code",
   "execution_count": 19,
   "metadata": {},
   "outputs": [
    {
     "name": "stdout",
     "output_type": "stream",
     "text": [
      "Country A\n",
      "Input shape:\t(8203, 344)\n",
      "After standardization (8203, 344)\n",
      "After converting categoricals:\t(8203, 859)\n",
      "\n",
      "Country B\n",
      "Input shape:\t(3255, 441)\n",
      "After standardization (3255, 441)\n",
      "After converting categoricals:\t(3255, 1432)\n",
      "\n",
      "Country C\n",
      "Input shape:\t(6469, 163)\n",
      "After standardization (6469, 163)\n",
      "After converting categoricals:\t(6469, 795)\n"
     ]
    }
   ],
   "source": [
    "print(\"Country A\")\n",
    "aX_train = pre_process_data(a_train.drop('poor', axis=1))\n",
    "ay_train = np.ravel(a_train.poor)\n",
    "\n",
    "print(\"\\nCountry B\")\n",
    "bX_train = pre_process_data(b_train.drop('poor', axis=1))\n",
    "by_train = np.ravel(b_train.poor)\n",
    "\n",
    "print(\"\\nCountry C\")\n",
    "cX_train = pre_process_data(c_train.drop('poor', axis=1))\n",
    "cy_train = np.ravel(c_train.poor)"
   ]
  },
  {
   "cell_type": "code",
   "execution_count": 41,
   "metadata": {},
   "outputs": [
    {
     "data": {
      "text/plain": [
       "(8203, 859)"
      ]
     },
     "execution_count": 41,
     "metadata": {},
     "output_type": "execute_result"
    }
   ],
   "source": [
    "aX_train.shape"
   ]
  },
  {
   "cell_type": "code",
   "execution_count": 47,
   "metadata": {},
   "outputs": [
    {
     "data": {
      "text/plain": [
       "Index(['wBXbHZmp', 'SlDKnCuu', 'KAJOWiiw', 'DsKacCdL', 'rtPrBBPl', 'tMJrvvut',\n",
       "       'jdetlNNF', 'maLAYXwi', 'vwpsXRGk', 'sArDRIyX',\n",
       "       ...\n",
       "       'sDGibZrP', 'CsGvKKBJ', 'OLpGAaEu', 'LrDrWRjC', 'JCDeZBXq', 'HGPWuGlV',\n",
       "       'GDUPaBQs', 'WuwrCsIY', 'AlDbXTlZ', 'country'],\n",
       "      dtype='object', length=345)"
      ]
     },
     "execution_count": 47,
     "metadata": {},
     "output_type": "execute_result"
    }
   ],
   "source": [
    "a_train.columns"
   ]
  },
  {
   "cell_type": "code",
   "execution_count": 45,
   "metadata": {},
   "outputs": [
    {
     "data": {
      "text/plain": [
       "<memory at 0x000001852B54A108>"
      ]
     },
     "execution_count": 45,
     "metadata": {},
     "output_type": "execute_result"
    }
   ],
   "source": [
    "ay_train.data"
   ]
  },
  {
   "cell_type": "code",
   "execution_count": 23,
   "metadata": {
    "collapsed": true
   },
   "outputs": [],
   "source": [
    "from sklearn.ensemble import RandomForestClassifier\n",
    "\n",
    "def train_model(features, labels, **kwargs):\n",
    "    \n",
    "    # instantiate model\n",
    "    model = RandomForestClassifier(n_estimators=50, random_state=0)\n",
    "    \n",
    "    # train model\n",
    "    model.fit(features, labels)\n",
    "    \n",
    "    # get a (not-very-useful) sense of performance\n",
    "    accuracy = model.score(features, labels)\n",
    "    print(f\"In-sample accuracy: {accuracy:0.2%}\")\n",
    "    \n",
    "    return model"
   ]
  },
  {
   "cell_type": "code",
   "execution_count": 24,
   "metadata": {},
   "outputs": [
    {
     "name": "stdout",
     "output_type": "stream",
     "text": [
      "In-sample accuracy: 100.00%\n"
     ]
    }
   ],
   "source": [
    "model_a = train_model(aX_train, ay_train)"
   ]
  },
  {
   "cell_type": "code",
   "execution_count": 25,
   "metadata": {},
   "outputs": [
    {
     "name": "stdout",
     "output_type": "stream",
     "text": [
      "In-sample accuracy: 99.94%\n"
     ]
    }
   ],
   "source": [
    "model_b = train_model(bX_train, by_train)"
   ]
  },
  {
   "cell_type": "code",
   "execution_count": 26,
   "metadata": {},
   "outputs": [
    {
     "name": "stdout",
     "output_type": "stream",
     "text": [
      "In-sample accuracy: 100.00%\n"
     ]
    }
   ],
   "source": [
    "model_c = train_model(cX_train, cy_train)"
   ]
  },
  {
   "cell_type": "code",
   "execution_count": 31,
   "metadata": {},
   "outputs": [],
   "source": [
    "a_test = pd.read_csv(data_paths['A']['test'], index_col='id')\n",
    "b_test = pd.read_csv(data_paths['B']['test'], index_col='id')\n",
    "c_test = pd.read_csv(data_paths['C']['test'], index_col='id')"
   ]
  },
  {
   "cell_type": "code",
   "execution_count": 32,
   "metadata": {},
   "outputs": [
    {
     "name": "stdout",
     "output_type": "stream",
     "text": [
      "Input shape:\t(4041, 344)\n",
      "After standardization (4041, 344)\n",
      "After converting categoricals:\t(4041, 851)\n",
      "Input shape:\t(1604, 441)\n",
      "After standardization (1604, 441)\n",
      "After converting categoricals:\t(1604, 1419)\n",
      "Input shape:\t(3187, 163)\n",
      "After standardization (3187, 163)\n",
      "After converting categoricals:\t(3187, 773)\n"
     ]
    }
   ],
   "source": [
    "a_test = pre_process_data(a_test, enforce_cols=aX_train.columns)\n",
    "b_test = pre_process_data(b_test, enforce_cols=bX_train.columns)\n",
    "c_test = pre_process_data(c_test, enforce_cols=cX_train.columns)"
   ]
  },
  {
   "cell_type": "code",
   "execution_count": 33,
   "metadata": {
    "collapsed": true
   },
   "outputs": [],
   "source": [
    "a_preds = model_a.predict_proba(a_test)\n",
    "b_preds = model_b.predict_proba(b_test)\n",
    "c_preds = model_c.predict_proba(c_test)"
   ]
  },
  {
   "cell_type": "code",
   "execution_count": 34,
   "metadata": {
    "collapsed": true
   },
   "outputs": [],
   "source": [
    "def make_country_sub(preds, test_feat, country):\n",
    "    # make sure we code the country correctly\n",
    "    country_codes = ['A', 'B', 'C']\n",
    "    \n",
    "    # get just the poor probabilities\n",
    "    country_sub = pd.DataFrame(data=preds[:, 1],  # proba p=1\n",
    "                               columns=['poor'], \n",
    "                               index=test_feat.index)\n",
    "\n",
    "    \n",
    "    # add the country code for joining later\n",
    "    country_sub[\"country\"] = country\n",
    "    return country_sub[[\"country\", \"poor\"]]"
   ]
  },
  {
   "cell_type": "code",
   "execution_count": 35,
   "metadata": {
    "collapsed": true
   },
   "outputs": [],
   "source": [
    "# convert preds to data frames\n",
    "a_sub = make_country_sub(a_preds, a_test, 'A')\n",
    "b_sub = make_country_sub(b_preds, b_test, 'B')\n",
    "c_sub = make_country_sub(c_preds, c_test, 'C')"
   ]
  },
  {
   "cell_type": "code",
   "execution_count": 36,
   "metadata": {
    "collapsed": true
   },
   "outputs": [],
   "source": [
    "submission = pd.concat([a_sub, b_sub, c_sub])"
   ]
  },
  {
   "cell_type": "code",
   "execution_count": 37,
   "metadata": {},
   "outputs": [
    {
     "data": {
      "text/html": [
       "<div>\n",
       "<style>\n",
       "    .dataframe thead tr:only-child th {\n",
       "        text-align: right;\n",
       "    }\n",
       "\n",
       "    .dataframe thead th {\n",
       "        text-align: left;\n",
       "    }\n",
       "\n",
       "    .dataframe tbody tr th {\n",
       "        vertical-align: top;\n",
       "    }\n",
       "</style>\n",
       "<table border=\"1\" class=\"dataframe\">\n",
       "  <thead>\n",
       "    <tr style=\"text-align: right;\">\n",
       "      <th></th>\n",
       "      <th>country</th>\n",
       "      <th>poor</th>\n",
       "    </tr>\n",
       "    <tr>\n",
       "      <th>id</th>\n",
       "      <th></th>\n",
       "      <th></th>\n",
       "    </tr>\n",
       "  </thead>\n",
       "  <tbody>\n",
       "    <tr>\n",
       "      <th>418</th>\n",
       "      <td>A</td>\n",
       "      <td>0.32</td>\n",
       "    </tr>\n",
       "    <tr>\n",
       "      <th>41249</th>\n",
       "      <td>A</td>\n",
       "      <td>0.28</td>\n",
       "    </tr>\n",
       "    <tr>\n",
       "      <th>16205</th>\n",
       "      <td>A</td>\n",
       "      <td>0.26</td>\n",
       "    </tr>\n",
       "    <tr>\n",
       "      <th>97501</th>\n",
       "      <td>A</td>\n",
       "      <td>0.36</td>\n",
       "    </tr>\n",
       "    <tr>\n",
       "      <th>67756</th>\n",
       "      <td>A</td>\n",
       "      <td>0.26</td>\n",
       "    </tr>\n",
       "  </tbody>\n",
       "</table>\n",
       "</div>"
      ],
      "text/plain": [
       "      country  poor\n",
       "id                 \n",
       "418         A  0.32\n",
       "41249       A  0.28\n",
       "16205       A  0.26\n",
       "97501       A  0.36\n",
       "67756       A  0.26"
      ]
     },
     "execution_count": 37,
     "metadata": {},
     "output_type": "execute_result"
    }
   ],
   "source": [
    "submission.head()"
   ]
  },
  {
   "cell_type": "code",
   "execution_count": 38,
   "metadata": {},
   "outputs": [
    {
     "data": {
      "text/plain": [
       "(8832, 2)"
      ]
     },
     "execution_count": 38,
     "metadata": {},
     "output_type": "execute_result"
    }
   ],
   "source": [
    "submission.shape"
   ]
  },
  {
   "cell_type": "code",
   "execution_count": 39,
   "metadata": {},
   "outputs": [
    {
     "data": {
      "text/html": [
       "<div>\n",
       "<style>\n",
       "    .dataframe thead tr:only-child th {\n",
       "        text-align: right;\n",
       "    }\n",
       "\n",
       "    .dataframe thead th {\n",
       "        text-align: left;\n",
       "    }\n",
       "\n",
       "    .dataframe tbody tr th {\n",
       "        vertical-align: top;\n",
       "    }\n",
       "</style>\n",
       "<table border=\"1\" class=\"dataframe\">\n",
       "  <thead>\n",
       "    <tr style=\"text-align: right;\">\n",
       "      <th></th>\n",
       "      <th>country</th>\n",
       "      <th>poor</th>\n",
       "    </tr>\n",
       "    <tr>\n",
       "      <th>id</th>\n",
       "      <th></th>\n",
       "      <th></th>\n",
       "    </tr>\n",
       "  </thead>\n",
       "  <tbody>\n",
       "    <tr>\n",
       "      <th>6775</th>\n",
       "      <td>C</td>\n",
       "      <td>0.30</td>\n",
       "    </tr>\n",
       "    <tr>\n",
       "      <th>88300</th>\n",
       "      <td>C</td>\n",
       "      <td>0.20</td>\n",
       "    </tr>\n",
       "    <tr>\n",
       "      <th>35424</th>\n",
       "      <td>C</td>\n",
       "      <td>0.20</td>\n",
       "    </tr>\n",
       "    <tr>\n",
       "      <th>81668</th>\n",
       "      <td>C</td>\n",
       "      <td>0.28</td>\n",
       "    </tr>\n",
       "    <tr>\n",
       "      <th>98377</th>\n",
       "      <td>C</td>\n",
       "      <td>0.18</td>\n",
       "    </tr>\n",
       "  </tbody>\n",
       "</table>\n",
       "</div>"
      ],
      "text/plain": [
       "      country  poor\n",
       "id                 \n",
       "6775        C  0.30\n",
       "88300       C  0.20\n",
       "35424       C  0.20\n",
       "81668       C  0.28\n",
       "98377       C  0.18"
      ]
     },
     "execution_count": 39,
     "metadata": {},
     "output_type": "execute_result"
    }
   ],
   "source": [
    "submission.tail()"
   ]
  },
  {
   "cell_type": "code",
   "execution_count": 40,
   "metadata": {
    "collapsed": true
   },
   "outputs": [],
   "source": [
    "submission.to_csv('submission.csv')"
   ]
  },
  {
   "cell_type": "code",
   "execution_count": 48,
   "metadata": {
    "collapsed": true
   },
   "outputs": [],
   "source": [
    "data_paths_ind = {'A': {'train': os.path.join(DATA_DIR, 'A', 'A_indiv_train.csv'), \n",
    "                        'test':  os.path.join(DATA_DIR, 'A', 'A_indiv_test.csv')}, \n",
    "              \n",
    "                  'B': {'train': os.path.join(DATA_DIR, 'B', 'B_indiv_train.csv'), \n",
    "                        'test':  os.path.join(DATA_DIR, 'B', 'B_indv_test.csv')}, \n",
    "              \n",
    "                  'C': {'train': os.path.join(DATA_DIR, 'C', 'C_indiv_train.csv'), \n",
    "                        'test':  os.path.join(DATA_DIR, 'C', 'C_indiv_test.csv')}}"
   ]
  },
  {
   "cell_type": "code",
   "execution_count": 49,
   "metadata": {
    "collapsed": true
   },
   "outputs": [],
   "source": [
    "# load training data\n",
    "a_indiv_train = pd.read_csv(data_paths_ind['A']['train'], index_col=['id','iid'])\n",
    "b_indiv_train = pd.read_csv(data_paths_ind['B']['train'], index_col=['id','iid'])\n",
    "c_indiv_train = pd.read_csv(data_paths_ind['C']['train'], index_col=['id','iid'])"
   ]
  },
  {
   "cell_type": "code",
   "execution_count": 55,
   "metadata": {},
   "outputs": [
    {
     "data": {
      "text/plain": [
       "(37560, 42)"
      ]
     },
     "execution_count": 55,
     "metadata": {},
     "output_type": "execute_result"
    }
   ],
   "source": [
    "a_indiv_train.shape"
   ]
  },
  {
   "cell_type": "code",
   "execution_count": 56,
   "metadata": {},
   "outputs": [
    {
     "data": {
      "text/plain": [
       "(8203, 345)"
      ]
     },
     "execution_count": 56,
     "metadata": {},
     "output_type": "execute_result"
    }
   ],
   "source": [
    "a_train.shape"
   ]
  },
  {
   "cell_type": "code",
   "execution_count": 57,
   "metadata": {},
   "outputs": [
    {
     "name": "stdout",
     "output_type": "stream",
     "text": [
      "Country A\n",
      "Input shape:\t(37560, 41)\n",
      "After standardization (37560, 41)\n",
      "After converting categoricals:\t(37560, 274)\n",
      "\n",
      "Country B\n",
      "Input shape:\t(20252, 224)\n",
      "After standardization (20252, 224)\n",
      "After converting categoricals:\t(20252, 1641)\n",
      "\n",
      "Country C\n",
      "Input shape:\t(29913, 41)\n",
      "After standardization (29913, 41)\n",
      "After converting categoricals:\t(29913, 300)\n"
     ]
    }
   ],
   "source": [
    "print(\"Country A\")\n",
    "aX_indiv_train = pre_process_data(a_indiv_train.drop('poor', axis=1))\n",
    "ay_indiv_train = np.ravel(a_indiv_train.poor)\n",
    "\n",
    "print(\"\\nCountry B\")\n",
    "bX_indiv_train = pre_process_data(b_indiv_train.drop('poor', axis=1))\n",
    "by_indiv_train = np.ravel(b_indiv_train.poor)\n",
    "\n",
    "print(\"\\nCountry C\")\n",
    "cX_indiv_train = pre_process_data(c_indiv_train.drop('poor', axis=1))\n",
    "cy_indiv_train = np.ravel(c_indiv_train.poor)"
   ]
  },
  {
   "cell_type": "code",
   "execution_count": 58,
   "metadata": {},
   "outputs": [
    {
     "data": {
      "text/html": [
       "<div>\n",
       "<style>\n",
       "    .dataframe thead tr:only-child th {\n",
       "        text-align: right;\n",
       "    }\n",
       "\n",
       "    .dataframe thead th {\n",
       "        text-align: left;\n",
       "    }\n",
       "\n",
       "    .dataframe tbody tr th {\n",
       "        vertical-align: top;\n",
       "    }\n",
       "</style>\n",
       "<table border=\"1\" class=\"dataframe\">\n",
       "  <thead>\n",
       "    <tr style=\"text-align: right;\">\n",
       "      <th></th>\n",
       "      <th></th>\n",
       "      <th>OdXpbPGJ</th>\n",
       "      <th>ukWqmeSS</th>\n",
       "      <th>HeUgMnzF_BNCcM</th>\n",
       "      <th>HeUgMnzF_HUpWg</th>\n",
       "      <th>HeUgMnzF_JMXQx</th>\n",
       "      <th>HeUgMnzF_PAVsH</th>\n",
       "      <th>HeUgMnzF_SJPkb</th>\n",
       "      <th>HeUgMnzF_SlRmt</th>\n",
       "      <th>HeUgMnzF_TRFeI</th>\n",
       "      <th>HeUgMnzF_XJgvq</th>\n",
       "      <th>...</th>\n",
       "      <th>rQWIpTiG_xUYIC</th>\n",
       "      <th>XizJGmbu_FUUXv</th>\n",
       "      <th>XizJGmbu_GtHel</th>\n",
       "      <th>XizJGmbu_juMSt</th>\n",
       "      <th>xqUooaNJ_ALcKg</th>\n",
       "      <th>xqUooaNJ_JTCKs</th>\n",
       "      <th>xqUooaNJ_UaIsy</th>\n",
       "      <th>xqUooaNJ_dSJoN</th>\n",
       "      <th>xqUooaNJ_vhhVz</th>\n",
       "      <th>country_A</th>\n",
       "    </tr>\n",
       "    <tr>\n",
       "      <th>id</th>\n",
       "      <th>iid</th>\n",
       "      <th></th>\n",
       "      <th></th>\n",
       "      <th></th>\n",
       "      <th></th>\n",
       "      <th></th>\n",
       "      <th></th>\n",
       "      <th></th>\n",
       "      <th></th>\n",
       "      <th></th>\n",
       "      <th></th>\n",
       "      <th></th>\n",
       "      <th></th>\n",
       "      <th></th>\n",
       "      <th></th>\n",
       "      <th></th>\n",
       "      <th></th>\n",
       "      <th></th>\n",
       "      <th></th>\n",
       "      <th></th>\n",
       "      <th></th>\n",
       "      <th></th>\n",
       "    </tr>\n",
       "  </thead>\n",
       "  <tbody>\n",
       "    <tr>\n",
       "      <th rowspan=\"4\" valign=\"top\">80389</th>\n",
       "      <th>1</th>\n",
       "      <td>-0.223762</td>\n",
       "      <td>0.805895</td>\n",
       "      <td>0</td>\n",
       "      <td>0</td>\n",
       "      <td>0</td>\n",
       "      <td>0</td>\n",
       "      <td>0</td>\n",
       "      <td>0</td>\n",
       "      <td>0</td>\n",
       "      <td>0</td>\n",
       "      <td>...</td>\n",
       "      <td>1</td>\n",
       "      <td>0</td>\n",
       "      <td>0</td>\n",
       "      <td>1</td>\n",
       "      <td>0</td>\n",
       "      <td>0</td>\n",
       "      <td>0</td>\n",
       "      <td>1</td>\n",
       "      <td>0</td>\n",
       "      <td>1</td>\n",
       "    </tr>\n",
       "    <tr>\n",
       "      <th>2</th>\n",
       "      <td>-0.223762</td>\n",
       "      <td>0.370142</td>\n",
       "      <td>0</td>\n",
       "      <td>0</td>\n",
       "      <td>0</td>\n",
       "      <td>0</td>\n",
       "      <td>0</td>\n",
       "      <td>0</td>\n",
       "      <td>0</td>\n",
       "      <td>0</td>\n",
       "      <td>...</td>\n",
       "      <td>1</td>\n",
       "      <td>0</td>\n",
       "      <td>0</td>\n",
       "      <td>1</td>\n",
       "      <td>0</td>\n",
       "      <td>1</td>\n",
       "      <td>0</td>\n",
       "      <td>0</td>\n",
       "      <td>0</td>\n",
       "      <td>1</td>\n",
       "    </tr>\n",
       "    <tr>\n",
       "      <th>3</th>\n",
       "      <td>-0.223762</td>\n",
       "      <td>-0.719240</td>\n",
       "      <td>0</td>\n",
       "      <td>0</td>\n",
       "      <td>0</td>\n",
       "      <td>0</td>\n",
       "      <td>0</td>\n",
       "      <td>0</td>\n",
       "      <td>1</td>\n",
       "      <td>0</td>\n",
       "      <td>...</td>\n",
       "      <td>0</td>\n",
       "      <td>0</td>\n",
       "      <td>0</td>\n",
       "      <td>1</td>\n",
       "      <td>0</td>\n",
       "      <td>1</td>\n",
       "      <td>0</td>\n",
       "      <td>0</td>\n",
       "      <td>0</td>\n",
       "      <td>1</td>\n",
       "    </tr>\n",
       "    <tr>\n",
       "      <th>4</th>\n",
       "      <td>0.000000</td>\n",
       "      <td>-0.991586</td>\n",
       "      <td>0</td>\n",
       "      <td>0</td>\n",
       "      <td>0</td>\n",
       "      <td>0</td>\n",
       "      <td>0</td>\n",
       "      <td>0</td>\n",
       "      <td>0</td>\n",
       "      <td>0</td>\n",
       "      <td>...</td>\n",
       "      <td>0</td>\n",
       "      <td>0</td>\n",
       "      <td>1</td>\n",
       "      <td>0</td>\n",
       "      <td>0</td>\n",
       "      <td>1</td>\n",
       "      <td>0</td>\n",
       "      <td>0</td>\n",
       "      <td>0</td>\n",
       "      <td>1</td>\n",
       "    </tr>\n",
       "    <tr>\n",
       "      <th>39883</th>\n",
       "      <th>1</th>\n",
       "      <td>-0.223762</td>\n",
       "      <td>2.984660</td>\n",
       "      <td>0</td>\n",
       "      <td>0</td>\n",
       "      <td>0</td>\n",
       "      <td>0</td>\n",
       "      <td>0</td>\n",
       "      <td>0</td>\n",
       "      <td>0</td>\n",
       "      <td>0</td>\n",
       "      <td>...</td>\n",
       "      <td>1</td>\n",
       "      <td>0</td>\n",
       "      <td>0</td>\n",
       "      <td>1</td>\n",
       "      <td>0</td>\n",
       "      <td>0</td>\n",
       "      <td>1</td>\n",
       "      <td>0</td>\n",
       "      <td>0</td>\n",
       "      <td>1</td>\n",
       "    </tr>\n",
       "  </tbody>\n",
       "</table>\n",
       "<p>5 rows × 274 columns</p>\n",
       "</div>"
      ],
      "text/plain": [
       "           OdXpbPGJ  ukWqmeSS  HeUgMnzF_BNCcM  HeUgMnzF_HUpWg  HeUgMnzF_JMXQx  \\\n",
       "id    iid                                                                       \n",
       "80389 1   -0.223762  0.805895               0               0               0   \n",
       "      2   -0.223762  0.370142               0               0               0   \n",
       "      3   -0.223762 -0.719240               0               0               0   \n",
       "      4    0.000000 -0.991586               0               0               0   \n",
       "39883 1   -0.223762  2.984660               0               0               0   \n",
       "\n",
       "           HeUgMnzF_PAVsH  HeUgMnzF_SJPkb  HeUgMnzF_SlRmt  HeUgMnzF_TRFeI  \\\n",
       "id    iid                                                                   \n",
       "80389 1                 0               0               0               0   \n",
       "      2                 0               0               0               0   \n",
       "      3                 0               0               0               1   \n",
       "      4                 0               0               0               0   \n",
       "39883 1                 0               0               0               0   \n",
       "\n",
       "           HeUgMnzF_XJgvq    ...      rQWIpTiG_xUYIC  XizJGmbu_FUUXv  \\\n",
       "id    iid                    ...                                       \n",
       "80389 1                 0    ...                   1               0   \n",
       "      2                 0    ...                   1               0   \n",
       "      3                 0    ...                   0               0   \n",
       "      4                 0    ...                   0               0   \n",
       "39883 1                 0    ...                   1               0   \n",
       "\n",
       "           XizJGmbu_GtHel  XizJGmbu_juMSt  xqUooaNJ_ALcKg  xqUooaNJ_JTCKs  \\\n",
       "id    iid                                                                   \n",
       "80389 1                 0               1               0               0   \n",
       "      2                 0               1               0               1   \n",
       "      3                 0               1               0               1   \n",
       "      4                 1               0               0               1   \n",
       "39883 1                 0               1               0               0   \n",
       "\n",
       "           xqUooaNJ_UaIsy  xqUooaNJ_dSJoN  xqUooaNJ_vhhVz  country_A  \n",
       "id    iid                                                             \n",
       "80389 1                 0               1               0          1  \n",
       "      2                 0               0               0          1  \n",
       "      3                 0               0               0          1  \n",
       "      4                 0               0               0          1  \n",
       "39883 1                 1               0               0          1  \n",
       "\n",
       "[5 rows x 274 columns]"
      ]
     },
     "execution_count": 58,
     "metadata": {},
     "output_type": "execute_result"
    }
   ],
   "source": [
    "aX_indiv_train.head()"
   ]
  },
  {
   "cell_type": "code",
   "execution_count": 59,
   "metadata": {},
   "outputs": [
    {
     "data": {
      "text/html": [
       "<div>\n",
       "<style>\n",
       "    .dataframe thead tr:only-child th {\n",
       "        text-align: right;\n",
       "    }\n",
       "\n",
       "    .dataframe thead th {\n",
       "        text-align: left;\n",
       "    }\n",
       "\n",
       "    .dataframe tbody tr th {\n",
       "        vertical-align: top;\n",
       "    }\n",
       "</style>\n",
       "<table border=\"1\" class=\"dataframe\">\n",
       "  <thead>\n",
       "    <tr style=\"text-align: right;\">\n",
       "      <th></th>\n",
       "      <th>nEsgxvAq</th>\n",
       "      <th>OMtioXZZ</th>\n",
       "      <th>YFMZwKrU</th>\n",
       "      <th>TiwRslOh</th>\n",
       "      <th>wBXbHZmp_DkQlr</th>\n",
       "      <th>wBXbHZmp_JhtDR</th>\n",
       "      <th>SlDKnCuu_GUusz</th>\n",
       "      <th>SlDKnCuu_alLXR</th>\n",
       "      <th>KAJOWiiw_BIZns</th>\n",
       "      <th>KAJOWiiw_TuovO</th>\n",
       "      <th>...</th>\n",
       "      <th>JCDeZBXq_UyAms</th>\n",
       "      <th>HGPWuGlV_WKNwg</th>\n",
       "      <th>HGPWuGlV_vkbkA</th>\n",
       "      <th>GDUPaBQs_qCEuA</th>\n",
       "      <th>GDUPaBQs_qQxrL</th>\n",
       "      <th>WuwrCsIY_AITFl</th>\n",
       "      <th>WuwrCsIY_GAZGl</th>\n",
       "      <th>AlDbXTlZ_aQeIm</th>\n",
       "      <th>AlDbXTlZ_cecIq</th>\n",
       "      <th>country_A</th>\n",
       "    </tr>\n",
       "    <tr>\n",
       "      <th>id</th>\n",
       "      <th></th>\n",
       "      <th></th>\n",
       "      <th></th>\n",
       "      <th></th>\n",
       "      <th></th>\n",
       "      <th></th>\n",
       "      <th></th>\n",
       "      <th></th>\n",
       "      <th></th>\n",
       "      <th></th>\n",
       "      <th></th>\n",
       "      <th></th>\n",
       "      <th></th>\n",
       "      <th></th>\n",
       "      <th></th>\n",
       "      <th></th>\n",
       "      <th></th>\n",
       "      <th></th>\n",
       "      <th></th>\n",
       "      <th></th>\n",
       "      <th></th>\n",
       "    </tr>\n",
       "  </thead>\n",
       "  <tbody>\n",
       "    <tr>\n",
       "      <th>46107</th>\n",
       "      <td>-1.447160</td>\n",
       "      <td>0.325746</td>\n",
       "      <td>1.099716</td>\n",
       "      <td>-0.628045</td>\n",
       "      <td>0</td>\n",
       "      <td>1</td>\n",
       "      <td>1</td>\n",
       "      <td>0</td>\n",
       "      <td>0</td>\n",
       "      <td>1</td>\n",
       "      <td>...</td>\n",
       "      <td>0</td>\n",
       "      <td>0</td>\n",
       "      <td>1</td>\n",
       "      <td>0</td>\n",
       "      <td>1</td>\n",
       "      <td>1</td>\n",
       "      <td>0</td>\n",
       "      <td>1</td>\n",
       "      <td>0</td>\n",
       "      <td>1</td>\n",
       "    </tr>\n",
       "    <tr>\n",
       "      <th>82739</th>\n",
       "      <td>-0.414625</td>\n",
       "      <td>-0.503468</td>\n",
       "      <td>-0.016050</td>\n",
       "      <td>0.713467</td>\n",
       "      <td>0</td>\n",
       "      <td>1</td>\n",
       "      <td>1</td>\n",
       "      <td>0</td>\n",
       "      <td>0</td>\n",
       "      <td>1</td>\n",
       "      <td>...</td>\n",
       "      <td>1</td>\n",
       "      <td>0</td>\n",
       "      <td>1</td>\n",
       "      <td>0</td>\n",
       "      <td>1</td>\n",
       "      <td>1</td>\n",
       "      <td>0</td>\n",
       "      <td>0</td>\n",
       "      <td>1</td>\n",
       "      <td>1</td>\n",
       "    </tr>\n",
       "    <tr>\n",
       "      <th>9646</th>\n",
       "      <td>0.617910</td>\n",
       "      <td>-0.503468</td>\n",
       "      <td>-0.016050</td>\n",
       "      <td>-0.628045</td>\n",
       "      <td>0</td>\n",
       "      <td>1</td>\n",
       "      <td>1</td>\n",
       "      <td>0</td>\n",
       "      <td>1</td>\n",
       "      <td>0</td>\n",
       "      <td>...</td>\n",
       "      <td>1</td>\n",
       "      <td>0</td>\n",
       "      <td>1</td>\n",
       "      <td>0</td>\n",
       "      <td>1</td>\n",
       "      <td>1</td>\n",
       "      <td>0</td>\n",
       "      <td>0</td>\n",
       "      <td>1</td>\n",
       "      <td>1</td>\n",
       "    </tr>\n",
       "    <tr>\n",
       "      <th>10975</th>\n",
       "      <td>0.617910</td>\n",
       "      <td>-1.332682</td>\n",
       "      <td>-1.131816</td>\n",
       "      <td>0.713467</td>\n",
       "      <td>0</td>\n",
       "      <td>1</td>\n",
       "      <td>1</td>\n",
       "      <td>0</td>\n",
       "      <td>0</td>\n",
       "      <td>1</td>\n",
       "      <td>...</td>\n",
       "      <td>1</td>\n",
       "      <td>0</td>\n",
       "      <td>1</td>\n",
       "      <td>0</td>\n",
       "      <td>1</td>\n",
       "      <td>1</td>\n",
       "      <td>0</td>\n",
       "      <td>0</td>\n",
       "      <td>1</td>\n",
       "      <td>1</td>\n",
       "    </tr>\n",
       "    <tr>\n",
       "      <th>16463</th>\n",
       "      <td>0.617910</td>\n",
       "      <td>0.325746</td>\n",
       "      <td>-1.131816</td>\n",
       "      <td>-0.180874</td>\n",
       "      <td>0</td>\n",
       "      <td>1</td>\n",
       "      <td>0</td>\n",
       "      <td>1</td>\n",
       "      <td>0</td>\n",
       "      <td>1</td>\n",
       "      <td>...</td>\n",
       "      <td>1</td>\n",
       "      <td>0</td>\n",
       "      <td>1</td>\n",
       "      <td>0</td>\n",
       "      <td>1</td>\n",
       "      <td>0</td>\n",
       "      <td>1</td>\n",
       "      <td>1</td>\n",
       "      <td>0</td>\n",
       "      <td>1</td>\n",
       "    </tr>\n",
       "  </tbody>\n",
       "</table>\n",
       "<p>5 rows × 859 columns</p>\n",
       "</div>"
      ],
      "text/plain": [
       "       nEsgxvAq  OMtioXZZ  YFMZwKrU  TiwRslOh  wBXbHZmp_DkQlr  wBXbHZmp_JhtDR  \\\n",
       "id                                                                              \n",
       "46107 -1.447160  0.325746  1.099716 -0.628045               0               1   \n",
       "82739 -0.414625 -0.503468 -0.016050  0.713467               0               1   \n",
       "9646   0.617910 -0.503468 -0.016050 -0.628045               0               1   \n",
       "10975  0.617910 -1.332682 -1.131816  0.713467               0               1   \n",
       "16463  0.617910  0.325746 -1.131816 -0.180874               0               1   \n",
       "\n",
       "       SlDKnCuu_GUusz  SlDKnCuu_alLXR  KAJOWiiw_BIZns  KAJOWiiw_TuovO  \\\n",
       "id                                                                      \n",
       "46107               1               0               0               1   \n",
       "82739               1               0               0               1   \n",
       "9646                1               0               1               0   \n",
       "10975               1               0               0               1   \n",
       "16463               0               1               0               1   \n",
       "\n",
       "         ...      JCDeZBXq_UyAms  HGPWuGlV_WKNwg  HGPWuGlV_vkbkA  \\\n",
       "id       ...                                                       \n",
       "46107    ...                   0               0               1   \n",
       "82739    ...                   1               0               1   \n",
       "9646     ...                   1               0               1   \n",
       "10975    ...                   1               0               1   \n",
       "16463    ...                   1               0               1   \n",
       "\n",
       "       GDUPaBQs_qCEuA  GDUPaBQs_qQxrL  WuwrCsIY_AITFl  WuwrCsIY_GAZGl  \\\n",
       "id                                                                      \n",
       "46107               0               1               1               0   \n",
       "82739               0               1               1               0   \n",
       "9646                0               1               1               0   \n",
       "10975               0               1               1               0   \n",
       "16463               0               1               0               1   \n",
       "\n",
       "       AlDbXTlZ_aQeIm  AlDbXTlZ_cecIq  country_A  \n",
       "id                                                \n",
       "46107               1               0          1  \n",
       "82739               0               1          1  \n",
       "9646                0               1          1  \n",
       "10975               0               1          1  \n",
       "16463               1               0          1  \n",
       "\n",
       "[5 rows x 859 columns]"
      ]
     },
     "execution_count": 59,
     "metadata": {},
     "output_type": "execute_result"
    }
   ],
   "source": [
    "aX_train.head()"
   ]
  },
  {
   "cell_type": "code",
   "execution_count": 62,
   "metadata": {},
   "outputs": [],
   "source": [
    "aX_indiv_train_group = aX_indiv_train.groupby(['id']).sum()\n",
    "bX_indiv_train_group = bX_indiv_train.groupby(['id']).sum()\n",
    "cX_indiv_train_group = cX_indiv_train.groupby(['id']).sum()"
   ]
  },
  {
   "cell_type": "code",
   "execution_count": 69,
   "metadata": {},
   "outputs": [
    {
     "data": {
      "text/html": [
       "<div>\n",
       "<style>\n",
       "    .dataframe thead tr:only-child th {\n",
       "        text-align: right;\n",
       "    }\n",
       "\n",
       "    .dataframe thead th {\n",
       "        text-align: left;\n",
       "    }\n",
       "\n",
       "    .dataframe tbody tr th {\n",
       "        vertical-align: top;\n",
       "    }\n",
       "</style>\n",
       "<table border=\"1\" class=\"dataframe\">\n",
       "  <thead>\n",
       "    <tr style=\"text-align: right;\">\n",
       "      <th></th>\n",
       "      <th>OdXpbPGJ</th>\n",
       "      <th>ukWqmeSS</th>\n",
       "      <th>HeUgMnzF_BNCcM</th>\n",
       "      <th>HeUgMnzF_HUpWg</th>\n",
       "      <th>HeUgMnzF_JMXQx</th>\n",
       "      <th>HeUgMnzF_PAVsH</th>\n",
       "      <th>HeUgMnzF_SJPkb</th>\n",
       "      <th>HeUgMnzF_SlRmt</th>\n",
       "      <th>HeUgMnzF_TRFeI</th>\n",
       "      <th>HeUgMnzF_XJgvq</th>\n",
       "      <th>...</th>\n",
       "      <th>rQWIpTiG_xUYIC</th>\n",
       "      <th>XizJGmbu_FUUXv</th>\n",
       "      <th>XizJGmbu_GtHel</th>\n",
       "      <th>XizJGmbu_juMSt</th>\n",
       "      <th>xqUooaNJ_ALcKg</th>\n",
       "      <th>xqUooaNJ_JTCKs</th>\n",
       "      <th>xqUooaNJ_UaIsy</th>\n",
       "      <th>xqUooaNJ_dSJoN</th>\n",
       "      <th>xqUooaNJ_vhhVz</th>\n",
       "      <th>country_A</th>\n",
       "    </tr>\n",
       "    <tr>\n",
       "      <th>id</th>\n",
       "      <th></th>\n",
       "      <th></th>\n",
       "      <th></th>\n",
       "      <th></th>\n",
       "      <th></th>\n",
       "      <th></th>\n",
       "      <th></th>\n",
       "      <th></th>\n",
       "      <th></th>\n",
       "      <th></th>\n",
       "      <th></th>\n",
       "      <th></th>\n",
       "      <th></th>\n",
       "      <th></th>\n",
       "      <th></th>\n",
       "      <th></th>\n",
       "      <th></th>\n",
       "      <th></th>\n",
       "      <th></th>\n",
       "      <th></th>\n",
       "      <th></th>\n",
       "    </tr>\n",
       "  </thead>\n",
       "  <tbody>\n",
       "    <tr>\n",
       "      <th>14</th>\n",
       "      <td>-0.447524</td>\n",
       "      <td>4.226308</td>\n",
       "      <td>0</td>\n",
       "      <td>0</td>\n",
       "      <td>0</td>\n",
       "      <td>0</td>\n",
       "      <td>0</td>\n",
       "      <td>0</td>\n",
       "      <td>0</td>\n",
       "      <td>0</td>\n",
       "      <td>...</td>\n",
       "      <td>2</td>\n",
       "      <td>0</td>\n",
       "      <td>0</td>\n",
       "      <td>2</td>\n",
       "      <td>0</td>\n",
       "      <td>1</td>\n",
       "      <td>1</td>\n",
       "      <td>0</td>\n",
       "      <td>0</td>\n",
       "      <td>2</td>\n",
       "    </tr>\n",
       "    <tr>\n",
       "      <th>18</th>\n",
       "      <td>-0.671286</td>\n",
       "      <td>-0.196833</td>\n",
       "      <td>0</td>\n",
       "      <td>0</td>\n",
       "      <td>0</td>\n",
       "      <td>0</td>\n",
       "      <td>0</td>\n",
       "      <td>0</td>\n",
       "      <td>0</td>\n",
       "      <td>0</td>\n",
       "      <td>...</td>\n",
       "      <td>2</td>\n",
       "      <td>0</td>\n",
       "      <td>0</td>\n",
       "      <td>3</td>\n",
       "      <td>0</td>\n",
       "      <td>3</td>\n",
       "      <td>0</td>\n",
       "      <td>0</td>\n",
       "      <td>0</td>\n",
       "      <td>3</td>\n",
       "    </tr>\n",
       "    <tr>\n",
       "      <th>36</th>\n",
       "      <td>7.761288</td>\n",
       "      <td>3.310235</td>\n",
       "      <td>0</td>\n",
       "      <td>0</td>\n",
       "      <td>0</td>\n",
       "      <td>0</td>\n",
       "      <td>0</td>\n",
       "      <td>1</td>\n",
       "      <td>0</td>\n",
       "      <td>0</td>\n",
       "      <td>...</td>\n",
       "      <td>2</td>\n",
       "      <td>0</td>\n",
       "      <td>0</td>\n",
       "      <td>6</td>\n",
       "      <td>0</td>\n",
       "      <td>6</td>\n",
       "      <td>0</td>\n",
       "      <td>0</td>\n",
       "      <td>0</td>\n",
       "      <td>6</td>\n",
       "    </tr>\n",
       "    <tr>\n",
       "      <th>39</th>\n",
       "      <td>-1.566334</td>\n",
       "      <td>-2.224572</td>\n",
       "      <td>0</td>\n",
       "      <td>0</td>\n",
       "      <td>0</td>\n",
       "      <td>0</td>\n",
       "      <td>0</td>\n",
       "      <td>0</td>\n",
       "      <td>1</td>\n",
       "      <td>0</td>\n",
       "      <td>...</td>\n",
       "      <td>3</td>\n",
       "      <td>0</td>\n",
       "      <td>2</td>\n",
       "      <td>7</td>\n",
       "      <td>0</td>\n",
       "      <td>9</td>\n",
       "      <td>0</td>\n",
       "      <td>0</td>\n",
       "      <td>0</td>\n",
       "      <td>9</td>\n",
       "    </tr>\n",
       "    <tr>\n",
       "      <th>58</th>\n",
       "      <td>-0.895048</td>\n",
       "      <td>3.713803</td>\n",
       "      <td>0</td>\n",
       "      <td>0</td>\n",
       "      <td>0</td>\n",
       "      <td>0</td>\n",
       "      <td>0</td>\n",
       "      <td>0</td>\n",
       "      <td>0</td>\n",
       "      <td>0</td>\n",
       "      <td>...</td>\n",
       "      <td>2</td>\n",
       "      <td>3</td>\n",
       "      <td>0</td>\n",
       "      <td>1</td>\n",
       "      <td>0</td>\n",
       "      <td>4</td>\n",
       "      <td>0</td>\n",
       "      <td>0</td>\n",
       "      <td>0</td>\n",
       "      <td>4</td>\n",
       "    </tr>\n",
       "  </tbody>\n",
       "</table>\n",
       "<p>5 rows × 274 columns</p>\n",
       "</div>"
      ],
      "text/plain": [
       "    OdXpbPGJ  ukWqmeSS  HeUgMnzF_BNCcM  HeUgMnzF_HUpWg  HeUgMnzF_JMXQx  \\\n",
       "id                                                                       \n",
       "14 -0.447524  4.226308               0               0               0   \n",
       "18 -0.671286 -0.196833               0               0               0   \n",
       "36  7.761288  3.310235               0               0               0   \n",
       "39 -1.566334 -2.224572               0               0               0   \n",
       "58 -0.895048  3.713803               0               0               0   \n",
       "\n",
       "    HeUgMnzF_PAVsH  HeUgMnzF_SJPkb  HeUgMnzF_SlRmt  HeUgMnzF_TRFeI  \\\n",
       "id                                                                   \n",
       "14               0               0               0               0   \n",
       "18               0               0               0               0   \n",
       "36               0               0               1               0   \n",
       "39               0               0               0               1   \n",
       "58               0               0               0               0   \n",
       "\n",
       "    HeUgMnzF_XJgvq    ...      rQWIpTiG_xUYIC  XizJGmbu_FUUXv  XizJGmbu_GtHel  \\\n",
       "id                    ...                                                       \n",
       "14               0    ...                   2               0               0   \n",
       "18               0    ...                   2               0               0   \n",
       "36               0    ...                   2               0               0   \n",
       "39               0    ...                   3               0               2   \n",
       "58               0    ...                   2               3               0   \n",
       "\n",
       "    XizJGmbu_juMSt  xqUooaNJ_ALcKg  xqUooaNJ_JTCKs  xqUooaNJ_UaIsy  \\\n",
       "id                                                                   \n",
       "14               2               0               1               1   \n",
       "18               3               0               3               0   \n",
       "36               6               0               6               0   \n",
       "39               7               0               9               0   \n",
       "58               1               0               4               0   \n",
       "\n",
       "    xqUooaNJ_dSJoN  xqUooaNJ_vhhVz  country_A  \n",
       "id                                             \n",
       "14               0               0          2  \n",
       "18               0               0          3  \n",
       "36               0               0          6  \n",
       "39               0               0          9  \n",
       "58               0               0          4  \n",
       "\n",
       "[5 rows x 274 columns]"
      ]
     },
     "execution_count": 69,
     "metadata": {},
     "output_type": "execute_result"
    }
   ],
   "source": [
    "aX_indiv_train_group.head()"
   ]
  },
  {
   "cell_type": "code",
   "execution_count": 75,
   "metadata": {},
   "outputs": [
    {
     "data": {
      "text/plain": [
       "(8203, 274)"
      ]
     },
     "execution_count": 75,
     "metadata": {},
     "output_type": "execute_result"
    }
   ],
   "source": [
    "aX_indiv_train_group.shape"
   ]
  },
  {
   "cell_type": "code",
   "execution_count": 65,
   "metadata": {},
   "outputs": [
    {
     "data": {
      "text/plain": [
       "(6469, 300)"
      ]
     },
     "execution_count": 65,
     "metadata": {},
     "output_type": "execute_result"
    }
   ],
   "source": [
    "cX_indiv_train_group.shape"
   ]
  },
  {
   "cell_type": "code",
   "execution_count": 66,
   "metadata": {},
   "outputs": [
    {
     "data": {
      "text/plain": [
       "(3255, 1432)"
      ]
     },
     "execution_count": 66,
     "metadata": {},
     "output_type": "execute_result"
    }
   ],
   "source": [
    "bX_train.shape"
   ]
  },
  {
   "cell_type": "code",
   "execution_count": 74,
   "metadata": {},
   "outputs": [
    {
     "data": {
      "text/plain": [
       "(8203, 859)"
      ]
     },
     "execution_count": 74,
     "metadata": {},
     "output_type": "execute_result"
    }
   ],
   "source": [
    "aX_train.shape"
   ]
  },
  {
   "cell_type": "code",
   "execution_count": 72,
   "metadata": {},
   "outputs": [],
   "source": [
    "aX_train_merge = aX_train.merge(aX_indiv_train_group, how='outer', left_index=True, right_index=True)"
   ]
  },
  {
   "cell_type": "code",
   "execution_count": 73,
   "metadata": {},
   "outputs": [
    {
     "data": {
      "text/plain": [
       "(8203, 1133)"
      ]
     },
     "execution_count": 73,
     "metadata": {},
     "output_type": "execute_result"
    }
   ],
   "source": [
    "aX_train_merge.shape"
   ]
  },
  {
   "cell_type": "code",
   "execution_count": null,
   "metadata": {
    "collapsed": true
   },
   "outputs": [],
   "source": []
  }
 ],
 "metadata": {
  "kernelspec": {
   "display_name": "Python [conda env:PythonData]",
   "language": "python",
   "name": "conda-env-PythonData-py"
  },
  "language_info": {
   "codemirror_mode": {
    "name": "ipython",
    "version": 3
   },
   "file_extension": ".py",
   "mimetype": "text/x-python",
   "name": "python",
   "nbconvert_exporter": "python",
   "pygments_lexer": "ipython3",
   "version": "3.6.2"
  }
 },
 "nbformat": 4,
 "nbformat_minor": 2
}
