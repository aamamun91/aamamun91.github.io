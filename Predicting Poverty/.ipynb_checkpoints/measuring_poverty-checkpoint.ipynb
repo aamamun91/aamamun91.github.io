{
 "cells": [
  {
   "cell_type": "code",
   "execution_count": 1,
   "metadata": {
    "collapsed": true
   },
   "outputs": [],
   "source": [
    "%matplotlib inline\n",
    "\n",
    "import os\n",
    "\n",
    "import numpy as np\n",
    "import pandas as pd\n",
    "\n",
    "import matplotlib.pyplot as plt"
   ]
  },
  {
   "cell_type": "code",
   "execution_count": 2,
   "metadata": {
    "collapsed": true
   },
   "outputs": [],
   "source": [
    "# data directory\n",
    "DATA_DIR = os.path.join('C:', 'data\\processed')"
   ]
  },
  {
   "cell_type": "code",
   "execution_count": 3,
   "metadata": {},
   "outputs": [
    {
     "data": {
      "text/plain": [
       "'C:data\\\\processed'"
      ]
     },
     "execution_count": 3,
     "metadata": {},
     "output_type": "execute_result"
    }
   ],
   "source": [
    "DATA_DIR"
   ]
  },
  {
   "cell_type": "code",
   "execution_count": 4,
   "metadata": {
    "collapsed": true
   },
   "outputs": [],
   "source": [
    "data_paths = {'A': {'train': os.path.join(DATA_DIR, 'A', 'A_hhold_train.csv'), \n",
    "                    'test':  os.path.join(DATA_DIR, 'A', 'A_hhold_test.csv')}, \n",
    "              \n",
    "              'B': {'train': os.path.join(DATA_DIR, 'B', 'B_hhold_train.csv'), \n",
    "                    'test':  os.path.join(DATA_DIR, 'B', 'B_hhold_test.csv')}, \n",
    "              \n",
    "              'C': {'train': os.path.join(DATA_DIR, 'C', 'C_hhold_train.csv'), \n",
    "                    'test':  os.path.join(DATA_DIR, 'C', 'C_hhold_test.csv')}}"
   ]
  },
  {
   "cell_type": "code",
   "execution_count": 5,
   "metadata": {
    "collapsed": true
   },
   "outputs": [],
   "source": [
    "# load training data\n",
    "a_train = pd.read_csv(data_paths['A']['train'], index_col='id')\n",
    "b_train = pd.read_csv(data_paths['B']['train'], index_col='id')\n",
    "c_train = pd.read_csv(data_paths['C']['train'], index_col='id')"
   ]
  },
  {
   "cell_type": "code",
   "execution_count": 6,
   "metadata": {},
   "outputs": [
    {
     "data": {
      "text/plain": [
       "(8203, 345)"
      ]
     },
     "execution_count": 6,
     "metadata": {},
     "output_type": "execute_result"
    }
   ],
   "source": [
    "a_train.shape"
   ]
  },
  {
   "cell_type": "code",
   "execution_count": 7,
   "metadata": {},
   "outputs": [
    {
     "data": {
      "text/plain": [
       "{'A': {'test': 'C:data\\\\processed\\\\A\\\\A_hhold_test.csv',\n",
       "  'train': 'C:data\\\\processed\\\\A\\\\A_hhold_train.csv'},\n",
       " 'B': {'test': 'C:data\\\\processed\\\\B\\\\B_hhold_test.csv',\n",
       "  'train': 'C:data\\\\processed\\\\B\\\\B_hhold_train.csv'},\n",
       " 'C': {'test': 'C:data\\\\processed\\\\C\\\\C_hhold_test.csv',\n",
       "  'train': 'C:data\\\\processed\\\\C\\\\C_hhold_train.csv'}}"
      ]
     },
     "execution_count": 7,
     "metadata": {},
     "output_type": "execute_result"
    }
   ],
   "source": [
    "data_paths"
   ]
  },
  {
   "cell_type": "code",
   "execution_count": 8,
   "metadata": {},
   "outputs": [
    {
     "data": {
      "text/html": [
       "<div>\n",
       "<style>\n",
       "    .dataframe thead tr:only-child th {\n",
       "        text-align: right;\n",
       "    }\n",
       "\n",
       "    .dataframe thead th {\n",
       "        text-align: left;\n",
       "    }\n",
       "\n",
       "    .dataframe tbody tr th {\n",
       "        vertical-align: top;\n",
       "    }\n",
       "</style>\n",
       "<table border=\"1\" class=\"dataframe\">\n",
       "  <thead>\n",
       "    <tr style=\"text-align: right;\">\n",
       "      <th></th>\n",
       "      <th>wBXbHZmp</th>\n",
       "      <th>SlDKnCuu</th>\n",
       "      <th>KAJOWiiw</th>\n",
       "      <th>DsKacCdL</th>\n",
       "      <th>rtPrBBPl</th>\n",
       "      <th>tMJrvvut</th>\n",
       "      <th>jdetlNNF</th>\n",
       "      <th>maLAYXwi</th>\n",
       "      <th>vwpsXRGk</th>\n",
       "      <th>sArDRIyX</th>\n",
       "      <th>...</th>\n",
       "      <th>sDGibZrP</th>\n",
       "      <th>CsGvKKBJ</th>\n",
       "      <th>OLpGAaEu</th>\n",
       "      <th>LrDrWRjC</th>\n",
       "      <th>JCDeZBXq</th>\n",
       "      <th>HGPWuGlV</th>\n",
       "      <th>GDUPaBQs</th>\n",
       "      <th>WuwrCsIY</th>\n",
       "      <th>AlDbXTlZ</th>\n",
       "      <th>country</th>\n",
       "    </tr>\n",
       "    <tr>\n",
       "      <th>id</th>\n",
       "      <th></th>\n",
       "      <th></th>\n",
       "      <th></th>\n",
       "      <th></th>\n",
       "      <th></th>\n",
       "      <th></th>\n",
       "      <th></th>\n",
       "      <th></th>\n",
       "      <th></th>\n",
       "      <th></th>\n",
       "      <th></th>\n",
       "      <th></th>\n",
       "      <th></th>\n",
       "      <th></th>\n",
       "      <th></th>\n",
       "      <th></th>\n",
       "      <th></th>\n",
       "      <th></th>\n",
       "      <th></th>\n",
       "      <th></th>\n",
       "      <th></th>\n",
       "    </tr>\n",
       "  </thead>\n",
       "  <tbody>\n",
       "    <tr>\n",
       "      <th>46107</th>\n",
       "      <td>JhtDR</td>\n",
       "      <td>GUusz</td>\n",
       "      <td>TuovO</td>\n",
       "      <td>ZYabk</td>\n",
       "      <td>feupP</td>\n",
       "      <td>PHMVg</td>\n",
       "      <td>NDTCU</td>\n",
       "      <td>cLAGr</td>\n",
       "      <td>XAmOF</td>\n",
       "      <td>MwLvg</td>\n",
       "      <td>...</td>\n",
       "      <td>JqHnW</td>\n",
       "      <td>MaXfS</td>\n",
       "      <td>etZsD</td>\n",
       "      <td>idRwx</td>\n",
       "      <td>LPtkN</td>\n",
       "      <td>vkbkA</td>\n",
       "      <td>qQxrL</td>\n",
       "      <td>AITFl</td>\n",
       "      <td>aQeIm</td>\n",
       "      <td>A</td>\n",
       "    </tr>\n",
       "    <tr>\n",
       "      <th>82739</th>\n",
       "      <td>JhtDR</td>\n",
       "      <td>GUusz</td>\n",
       "      <td>TuovO</td>\n",
       "      <td>ZYabk</td>\n",
       "      <td>feupP</td>\n",
       "      <td>PHMVg</td>\n",
       "      <td>NDTCU</td>\n",
       "      <td>sehIp</td>\n",
       "      <td>lwCkE</td>\n",
       "      <td>MwLvg</td>\n",
       "      <td>...</td>\n",
       "      <td>JqHnW</td>\n",
       "      <td>MaXfS</td>\n",
       "      <td>HxnJy</td>\n",
       "      <td>idRwx</td>\n",
       "      <td>UyAms</td>\n",
       "      <td>vkbkA</td>\n",
       "      <td>qQxrL</td>\n",
       "      <td>AITFl</td>\n",
       "      <td>cecIq</td>\n",
       "      <td>A</td>\n",
       "    </tr>\n",
       "    <tr>\n",
       "      <th>9646</th>\n",
       "      <td>JhtDR</td>\n",
       "      <td>GUusz</td>\n",
       "      <td>BIZns</td>\n",
       "      <td>ZYabk</td>\n",
       "      <td>uxuSS</td>\n",
       "      <td>PHMVg</td>\n",
       "      <td>NDTCU</td>\n",
       "      <td>sehIp</td>\n",
       "      <td>qNABl</td>\n",
       "      <td>MwLvg</td>\n",
       "      <td>...</td>\n",
       "      <td>JqHnW</td>\n",
       "      <td>MaXfS</td>\n",
       "      <td>USRak</td>\n",
       "      <td>idRwx</td>\n",
       "      <td>UyAms</td>\n",
       "      <td>vkbkA</td>\n",
       "      <td>qQxrL</td>\n",
       "      <td>AITFl</td>\n",
       "      <td>cecIq</td>\n",
       "      <td>A</td>\n",
       "    </tr>\n",
       "    <tr>\n",
       "      <th>10975</th>\n",
       "      <td>JhtDR</td>\n",
       "      <td>GUusz</td>\n",
       "      <td>TuovO</td>\n",
       "      <td>ZYabk</td>\n",
       "      <td>feupP</td>\n",
       "      <td>PHMVg</td>\n",
       "      <td>NDTCU</td>\n",
       "      <td>sehIp</td>\n",
       "      <td>sPNOc</td>\n",
       "      <td>MwLvg</td>\n",
       "      <td>...</td>\n",
       "      <td>JqHnW</td>\n",
       "      <td>MaXfS</td>\n",
       "      <td>USRak</td>\n",
       "      <td>idRwx</td>\n",
       "      <td>UyAms</td>\n",
       "      <td>vkbkA</td>\n",
       "      <td>qQxrL</td>\n",
       "      <td>AITFl</td>\n",
       "      <td>cecIq</td>\n",
       "      <td>A</td>\n",
       "    </tr>\n",
       "    <tr>\n",
       "      <th>16463</th>\n",
       "      <td>JhtDR</td>\n",
       "      <td>alLXR</td>\n",
       "      <td>TuovO</td>\n",
       "      <td>ZYabk</td>\n",
       "      <td>feupP</td>\n",
       "      <td>PHMVg</td>\n",
       "      <td>NDTCU</td>\n",
       "      <td>cLAGr</td>\n",
       "      <td>NdlDR</td>\n",
       "      <td>MwLvg</td>\n",
       "      <td>...</td>\n",
       "      <td>JqHnW</td>\n",
       "      <td>MaXfS</td>\n",
       "      <td>etZsD</td>\n",
       "      <td>idRwx</td>\n",
       "      <td>UyAms</td>\n",
       "      <td>vkbkA</td>\n",
       "      <td>qQxrL</td>\n",
       "      <td>GAZGl</td>\n",
       "      <td>aQeIm</td>\n",
       "      <td>A</td>\n",
       "    </tr>\n",
       "  </tbody>\n",
       "</table>\n",
       "<p>5 rows × 345 columns</p>\n",
       "</div>"
      ],
      "text/plain": [
       "      wBXbHZmp SlDKnCuu KAJOWiiw DsKacCdL rtPrBBPl tMJrvvut jdetlNNF maLAYXwi  \\\n",
       "id                                                                              \n",
       "46107    JhtDR    GUusz    TuovO    ZYabk    feupP    PHMVg    NDTCU    cLAGr   \n",
       "82739    JhtDR    GUusz    TuovO    ZYabk    feupP    PHMVg    NDTCU    sehIp   \n",
       "9646     JhtDR    GUusz    BIZns    ZYabk    uxuSS    PHMVg    NDTCU    sehIp   \n",
       "10975    JhtDR    GUusz    TuovO    ZYabk    feupP    PHMVg    NDTCU    sehIp   \n",
       "16463    JhtDR    alLXR    TuovO    ZYabk    feupP    PHMVg    NDTCU    cLAGr   \n",
       "\n",
       "      vwpsXRGk sArDRIyX   ...   sDGibZrP CsGvKKBJ OLpGAaEu LrDrWRjC JCDeZBXq  \\\n",
       "id                        ...                                                  \n",
       "46107    XAmOF    MwLvg   ...      JqHnW    MaXfS    etZsD    idRwx    LPtkN   \n",
       "82739    lwCkE    MwLvg   ...      JqHnW    MaXfS    HxnJy    idRwx    UyAms   \n",
       "9646     qNABl    MwLvg   ...      JqHnW    MaXfS    USRak    idRwx    UyAms   \n",
       "10975    sPNOc    MwLvg   ...      JqHnW    MaXfS    USRak    idRwx    UyAms   \n",
       "16463    NdlDR    MwLvg   ...      JqHnW    MaXfS    etZsD    idRwx    UyAms   \n",
       "\n",
       "      HGPWuGlV GDUPaBQs WuwrCsIY AlDbXTlZ country  \n",
       "id                                                 \n",
       "46107    vkbkA    qQxrL    AITFl    aQeIm       A  \n",
       "82739    vkbkA    qQxrL    AITFl    cecIq       A  \n",
       "9646     vkbkA    qQxrL    AITFl    cecIq       A  \n",
       "10975    vkbkA    qQxrL    AITFl    cecIq       A  \n",
       "16463    vkbkA    qQxrL    GAZGl    aQeIm       A  \n",
       "\n",
       "[5 rows x 345 columns]"
      ]
     },
     "execution_count": 8,
     "metadata": {},
     "output_type": "execute_result"
    }
   ],
   "source": [
    "a_train.head()"
   ]
  },
  {
   "cell_type": "code",
   "execution_count": 9,
   "metadata": {},
   "outputs": [
    {
     "data": {
      "text/plain": [
       "Index(['wBXbHZmp', 'SlDKnCuu', 'KAJOWiiw', 'DsKacCdL', 'rtPrBBPl', 'tMJrvvut',\n",
       "       'jdetlNNF', 'maLAYXwi', 'vwpsXRGk', 'sArDRIyX',\n",
       "       ...\n",
       "       'sDGibZrP', 'CsGvKKBJ', 'OLpGAaEu', 'LrDrWRjC', 'JCDeZBXq', 'HGPWuGlV',\n",
       "       'GDUPaBQs', 'WuwrCsIY', 'AlDbXTlZ', 'country'],\n",
       "      dtype='object', length=345)"
      ]
     },
     "execution_count": 9,
     "metadata": {},
     "output_type": "execute_result"
    }
   ],
   "source": [
    "a_train.columns"
   ]
  },
  {
   "cell_type": "code",
   "execution_count": 12,
   "metadata": {},
   "outputs": [
    {
     "data": {
      "text/plain": [
       "<matplotlib.axes._subplots.AxesSubplot at 0x2424aca5ba8>"
      ]
     },
     "execution_count": 12,
     "metadata": {},
     "output_type": "execute_result"
    },
    {
     "data": {
      "image/png": "[encoded data removed]",
      "text/plain": [
       "<matplotlib.figure.Figure at 0x2424aafdb00>"
      ]
     },
     "metadata": {},
     "output_type": "display_data"
    }
   ],
   "source": [
    "a_train.poor.value_counts().plot.bar(title='Number of Poor for country A')"
   ]
  },
  {
   "cell_type": "code",
   "execution_count": 13,
   "metadata": {},
   "outputs": [
    {
     "data": {
      "text/plain": [
       "<matplotlib.axes._subplots.AxesSubplot at 0x2424aafdd30>"
      ]
     },
     "execution_count": 13,
     "metadata": {},
     "output_type": "execute_result"
    },
    {
     "data": {
      "image/png": "[encoded data removed]",
      "text/plain": [
       "<matplotlib.figure.Figure at 0x2424aff6a90>"
      ]
     },
     "metadata": {},
     "output_type": "display_data"
    }
   ],
   "source": [
    "b_train.poor.value_counts().plot.bar(title='Number of Poor for country B')"
   ]
  },
  {
   "cell_type": "code",
   "execution_count": 14,
   "metadata": {},
   "outputs": [
    {
     "data": {
      "text/plain": [
       "<matplotlib.axes._subplots.AxesSubplot at 0x2424b3dd860>"
      ]
     },
     "execution_count": 14,
     "metadata": {},
     "output_type": "execute_result"
    },
    {
     "data": {
      "image/png": "[encoded data removed]",
      "text/plain": [
       "<matplotlib.figure.Figure at 0x2424b43af60>"
      ]
     },
     "metadata": {},
     "output_type": "display_data"
    }
   ],
   "source": [
    "c_train.poor.value_counts().plot.bar(title='Number of Poor for country C')"
   ]
  },
  {
   "cell_type": "code",
   "execution_count": 15,
   "metadata": {},
   "outputs": [
    {
     "name": "stdout",
     "output_type": "stream",
     "text": [
      "<class 'pandas.core.frame.DataFrame'>\n",
      "Int64Index: 8203 entries, 46107 to 39832\n",
      "Columns: 345 entries, wBXbHZmp to country\n",
      "dtypes: bool(1), float64(2), int64(2), object(340)\n",
      "memory usage: 21.6+ MB\n"
     ]
    }
   ],
   "source": [
    "a_train.info()"
   ]
  },
  {
   "cell_type": "code",
   "execution_count": 16,
   "metadata": {},
   "outputs": [
    {
     "name": "stdout",
     "output_type": "stream",
     "text": [
      "<class 'pandas.core.frame.DataFrame'>\n",
      "Int64Index: 3255 entries, 57071 to 4923\n",
      "Columns: 442 entries, RzaXNcgd to country\n",
      "dtypes: bool(1), float64(9), int64(14), object(418)\n",
      "memory usage: 11.0+ MB\n"
     ]
    }
   ],
   "source": [
    "b_train.info()"
   ]
  },
  {
   "cell_type": "code",
   "execution_count": 17,
   "metadata": {},
   "outputs": [
    {
     "name": "stdout",
     "output_type": "stream",
     "text": [
      "<class 'pandas.core.frame.DataFrame'>\n",
      "Int64Index: 6469 entries, 57211 to 7646\n",
      "Columns: 164 entries, GRGAYimk to country\n",
      "dtypes: bool(1), float64(1), int64(29), object(133)\n",
      "memory usage: 8.1+ MB\n"
     ]
    }
   ],
   "source": [
    "c_train.info()"
   ]
  },
  {
   "cell_type": "code",
   "execution_count": 18,
   "metadata": {
    "collapsed": true
   },
   "outputs": [],
   "source": [
    "# Standardize features\n",
    "def standardize(df, numeric_only=True):\n",
    "    numeric = df.select_dtypes(include=['int64', 'float64'])\n",
    "    \n",
    "    # subtracy mean and divide by std\n",
    "    df[numeric.columns] = (numeric - numeric.mean()) / numeric.std()\n",
    "    \n",
    "    return df\n",
    "    \n",
    "\n",
    "def pre_process_data(df, enforce_cols=None):\n",
    "    print(\"Input shape:\\t{}\".format(df.shape))\n",
    "        \n",
    "\n",
    "    df = standardize(df)\n",
    "    print(\"After standardization {}\".format(df.shape))\n",
    "        \n",
    "    # create dummy variables for categoricals\n",
    "    df = pd.get_dummies(df)\n",
    "    print(\"After converting categoricals:\\t{}\".format(df.shape))\n",
    "    \n",
    "\n",
    "    # match test set and training set columns\n",
    "    if enforce_cols is not None:\n",
    "        to_drop = np.setdiff1d(df.columns, enforce_cols)\n",
    "        to_add = np.setdiff1d(enforce_cols, df.columns)\n",
    "\n",
    "        df.drop(to_drop, axis=1, inplace=True)\n",
    "        df = df.assign(**{c: 0 for c in to_add})\n",
    "    \n",
    "    df.fillna(0, inplace=True)\n",
    "    \n",
    "    return df"
   ]
  },
  {
   "cell_type": "code",
   "execution_count": 19,
   "metadata": {},
   "outputs": [
    {
     "name": "stdout",
     "output_type": "stream",
     "text": [
      "Country A\n",
      "Input shape:\t(8203, 344)\n",
      "After standardization (8203, 344)\n",
      "After converting categoricals:\t(8203, 859)\n",
      "\n",
      "Country B\n",
      "Input shape:\t(3255, 441)\n",
      "After standardization (3255, 441)\n",
      "After converting categoricals:\t(3255, 1432)\n",
      "\n",
      "Country C\n",
      "Input shape:\t(6469, 163)\n",
      "After standardization (6469, 163)\n",
      "After converting categoricals:\t(6469, 795)\n"
     ]
    }
   ],
   "source": [
    "print(\"Country A\")\n",
    "aX_train = pre_process_data(a_train.drop('poor', axis=1))\n",
    "ay_train = np.ravel(a_train.poor)\n",
    "\n",
    "print(\"\\nCountry B\")\n",
    "bX_train = pre_process_data(b_train.drop('poor', axis=1))\n",
    "by_train = np.ravel(b_train.poor)\n",
    "\n",
    "print(\"\\nCountry C\")\n",
    "cX_train = pre_process_data(c_train.drop('poor', axis=1))\n",
    "cy_train = np.ravel(c_train.poor)"
   ]
  },
  {
   "cell_type": "code",
   "execution_count": 20,
   "metadata": {},
   "outputs": [
    {
     "data": {
      "text/plain": [
       "(8203, 859)"
      ]
     },
     "execution_count": 20,
     "metadata": {},
     "output_type": "execute_result"
    }
   ],
   "source": [
    "aX_train.shape"
   ]
  },
  {
   "cell_type": "code",
   "execution_count": 21,
   "metadata": {},
   "outputs": [
    {
     "data": {
      "text/plain": [
       "Index(['wBXbHZmp', 'SlDKnCuu', 'KAJOWiiw', 'DsKacCdL', 'rtPrBBPl', 'tMJrvvut',\n",
       "       'jdetlNNF', 'maLAYXwi', 'vwpsXRGk', 'sArDRIyX',\n",
       "       ...\n",
       "       'sDGibZrP', 'CsGvKKBJ', 'OLpGAaEu', 'LrDrWRjC', 'JCDeZBXq', 'HGPWuGlV',\n",
       "       'GDUPaBQs', 'WuwrCsIY', 'AlDbXTlZ', 'country'],\n",
       "      dtype='object', length=345)"
      ]
     },
     "execution_count": 21,
     "metadata": {},
     "output_type": "execute_result"
    }
   ],
   "source": [
    "a_train.columns"
   ]
  },
  {
   "cell_type": "code",
   "execution_count": 22,
   "metadata": {},
   "outputs": [
    {
     "data": {
      "text/plain": [
       "<memory at 0x000002424AA26648>"
      ]
     },
     "execution_count": 22,
     "metadata": {},
     "output_type": "execute_result"
    }
   ],
   "source": [
    "ay_train.data"
   ]
  },
  {
   "cell_type": "code",
   "execution_count": 23,
   "metadata": {
    "collapsed": true
   },
   "outputs": [],
   "source": [
    "from sklearn.ensemble import RandomForestClassifier\n",
    "\n",
    "def train_model(features, labels, **kwargs):\n",
    "    \n",
    "    # instantiate model\n",
    "    model = RandomForestClassifier(n_estimators=50, random_state=0)\n",
    "    \n",
    "    # train model\n",
    "    model.fit(features, labels)\n",
    "    \n",
    "    # get a (not-very-useful) sense of performance\n",
    "    accuracy = model.score(features, labels)\n",
    "    print(f\"In-sample accuracy: {accuracy:0.2%}\")\n",
    "    \n",
    "    return model"
   ]
  },
  {
   "cell_type": "code",
   "execution_count": 24,
   "metadata": {},
   "outputs": [
    {
     "name": "stdout",
     "output_type": "stream",
     "text": [
      "In-sample accuracy: 100.00%\n"
     ]
    }
   ],
   "source": [
    "model_a = train_model(aX_train, ay_train)"
   ]
  },
  {
   "cell_type": "code",
   "execution_count": 84,
   "metadata": {
    "collapsed": true
   },
   "outputs": [],
   "source": [
    "from sklearn.model_selection import train_test_split\n",
    "from sklearn import datasets\n",
    "from sklearn import svm\n",
    "from sklearn import metrics"
   ]
  },
  {
   "cell_type": "code",
   "execution_count": 82,
   "metadata": {},
   "outputs": [
    {
     "data": {
      "text/plain": [
       "array([False, False,  True, ...,  True,  True, False], dtype=bool)"
      ]
     },
     "execution_count": 82,
     "metadata": {},
     "output_type": "execute_result"
    }
   ],
   "source": []
  },
  {
   "cell_type": "code",
   "execution_count": 26,
   "metadata": {},
   "outputs": [
    {
     "name": "stdout",
     "output_type": "stream",
     "text": [
      "In-sample accuracy: 99.94%\n"
     ]
    }
   ],
   "source": [
    "model_b = train_model(bX_train, by_train)"
   ]
  },
  {
   "cell_type": "code",
   "execution_count": 27,
   "metadata": {},
   "outputs": [
    {
     "name": "stdout",
     "output_type": "stream",
     "text": [
      "In-sample accuracy: 100.00%\n"
     ]
    }
   ],
   "source": [
    "model_c = train_model(cX_train, cy_train)"
   ]
  },
  {
   "cell_type": "code",
   "execution_count": 28,
   "metadata": {
    "collapsed": true
   },
   "outputs": [],
   "source": [
    "a_test = pd.read_csv(data_paths['A']['test'], index_col='id')\n",
    "b_test = pd.read_csv(data_paths['B']['test'], index_col='id')\n",
    "c_test = pd.read_csv(data_paths['C']['test'], index_col='id')"
   ]
  },
  {
   "cell_type": "code",
   "execution_count": 29,
   "metadata": {},
   "outputs": [
    {
     "name": "stdout",
     "output_type": "stream",
     "text": [
      "Input shape:\t(4041, 344)\n",
      "After standardization (4041, 344)\n",
      "After converting categoricals:\t(4041, 851)\n",
      "Input shape:\t(1604, 441)\n",
      "After standardization (1604, 441)\n",
      "After converting categoricals:\t(1604, 1419)\n",
      "Input shape:\t(3187, 163)\n",
      "After standardization (3187, 163)\n",
      "After converting categoricals:\t(3187, 773)\n"
     ]
    }
   ],
   "source": [
    "a_test = pre_process_data(a_test, enforce_cols=aX_train.columns)\n",
    "b_test = pre_process_data(b_test, enforce_cols=bX_train.columns)\n",
    "c_test = pre_process_data(c_test, enforce_cols=cX_train.columns)"
   ]
  },
  {
   "cell_type": "code",
   "execution_count": 30,
   "metadata": {
    "collapsed": true
   },
   "outputs": [],
   "source": [
    "a_preds = model_a.predict_proba(a_test)\n",
    "b_preds = model_b.predict_proba(b_test)\n",
    "c_preds = model_c.predict_proba(c_test)"
   ]
  },
  {
   "cell_type": "code",
   "execution_count": 31,
   "metadata": {
    "collapsed": true
   },
   "outputs": [],
   "source": [
    "def make_country_sub(preds, test_feat, country):\n",
    "    # make sure we code the country correctly\n",
    "    country_codes = ['A', 'B', 'C']\n",
    "    \n",
    "    # get just the poor probabilities\n",
    "    country_sub = pd.DataFrame(data=preds[:, 1],  # proba p=1\n",
    "                               columns=['poor'], \n",
    "                               index=test_feat.index)\n",
    "\n",
    "    \n",
    "    # add the country code for joining later\n",
    "    country_sub[\"country\"] = country\n",
    "    return country_sub[[\"country\", \"poor\"]]"
   ]
  },
  {
   "cell_type": "code",
   "execution_count": 32,
   "metadata": {
    "collapsed": true
   },
   "outputs": [],
   "source": [
    "# convert preds to data frames\n",
    "a_sub = make_country_sub(a_preds, a_test, 'A')\n",
    "b_sub = make_country_sub(b_preds, b_test, 'B')\n",
    "c_sub = make_country_sub(c_preds, c_test, 'C')"
   ]
  },
  {
   "cell_type": "code",
   "execution_count": 147,
   "metadata": {},
   "outputs": [
    {
     "data": {
      "text/plain": [
       "array([[ 0.68,  0.32],\n",
       "       [ 0.72,  0.28],\n",
       "       [ 0.74,  0.26],\n",
       "       ..., \n",
       "       [ 0.66,  0.34],\n",
       "       [ 0.68,  0.32],\n",
       "       [ 0.76,  0.24]])"
      ]
     },
     "execution_count": 147,
     "metadata": {},
     "output_type": "execute_result"
    }
   ],
   "source": [
    "a_preds"
   ]
  },
  {
   "cell_type": "code",
   "execution_count": 33,
   "metadata": {
    "collapsed": true
   },
   "outputs": [],
   "source": [
    "submission = pd.concat([a_sub, b_sub, c_sub])"
   ]
  },
  {
   "cell_type": "code",
   "execution_count": 35,
   "metadata": {},
   "outputs": [
    {
     "data": {
      "text/plain": [
       "(8832, 2)"
      ]
     },
     "execution_count": 35,
     "metadata": {},
     "output_type": "execute_result"
    }
   ],
   "source": [
    "submission.shape"
   ]
  },
  {
   "cell_type": "code",
   "execution_count": 37,
   "metadata": {
    "collapsed": true
   },
   "outputs": [],
   "source": [
    "submission.to_csv('submission.csv')"
   ]
  },
  {
   "cell_type": "code",
   "execution_count": 38,
   "metadata": {
    "collapsed": true
   },
   "outputs": [],
   "source": [
    "data_paths_ind = {'A': {'train': os.path.join(DATA_DIR, 'A', 'A_indiv_train.csv'), \n",
    "                        'test':  os.path.join(DATA_DIR, 'A', 'A_indiv_test.csv')}, \n",
    "              \n",
    "                  'B': {'train': os.path.join(DATA_DIR, 'B', 'B_indiv_train.csv'), \n",
    "                        'test':  os.path.join(DATA_DIR, 'B', 'B_indiv_test.csv')}, \n",
    "              \n",
    "                  'C': {'train': os.path.join(DATA_DIR, 'C', 'C_indiv_train.csv'), \n",
    "                        'test':  os.path.join(DATA_DIR, 'C', 'C_indiv_test.csv')}}"
   ]
  },
  {
   "cell_type": "code",
   "execution_count": 39,
   "metadata": {
    "collapsed": true
   },
   "outputs": [],
   "source": [
    "# load training data\n",
    "a_indiv_train = pd.read_csv(data_paths_ind['A']['train'], index_col=['id','iid'])\n",
    "b_indiv_train = pd.read_csv(data_paths_ind['B']['train'], index_col=['id','iid'])\n",
    "c_indiv_train = pd.read_csv(data_paths_ind['C']['train'], index_col=['id','iid'])"
   ]
  },
  {
   "cell_type": "code",
   "execution_count": 40,
   "metadata": {},
   "outputs": [
    {
     "data": {
      "text/plain": [
       "(37560, 42)"
      ]
     },
     "execution_count": 40,
     "metadata": {},
     "output_type": "execute_result"
    }
   ],
   "source": [
    "a_indiv_train.shape"
   ]
  },
  {
   "cell_type": "code",
   "execution_count": 41,
   "metadata": {},
   "outputs": [
    {
     "data": {
      "text/plain": [
       "(8203, 345)"
      ]
     },
     "execution_count": 41,
     "metadata": {},
     "output_type": "execute_result"
    }
   ],
   "source": [
    "a_train.shape"
   ]
  },
  {
   "cell_type": "code",
   "execution_count": 42,
   "metadata": {},
   "outputs": [
    {
     "name": "stdout",
     "output_type": "stream",
     "text": [
      "Country A\n",
      "Input shape:\t(37560, 41)\n",
      "After standardization (37560, 41)\n",
      "After converting categoricals:\t(37560, 274)\n",
      "\n",
      "Country B\n",
      "Input shape:\t(20252, 224)\n",
      "After standardization (20252, 224)\n",
      "After converting categoricals:\t(20252, 1641)\n",
      "\n",
      "Country C\n",
      "Input shape:\t(29913, 41)\n",
      "After standardization (29913, 41)\n",
      "After converting categoricals:\t(29913, 300)\n"
     ]
    }
   ],
   "source": [
    "print(\"Country A\")\n",
    "aX_indiv_train = pre_process_data(a_indiv_train.drop('poor', axis=1))\n",
    "ay_indiv_train = np.ravel(a_indiv_train.poor)\n",
    "\n",
    "print(\"\\nCountry B\")\n",
    "bX_indiv_train = pre_process_data(b_indiv_train.drop('poor', axis=1))\n",
    "by_indiv_train = np.ravel(b_indiv_train.poor)\n",
    "\n",
    "print(\"\\nCountry C\")\n",
    "cX_indiv_train = pre_process_data(c_indiv_train.drop('poor', axis=1))\n",
    "cy_indiv_train = np.ravel(c_indiv_train.poor)"
   ]
  },
  {
   "cell_type": "code",
   "execution_count": 45,
   "metadata": {
    "collapsed": true
   },
   "outputs": [],
   "source": [
    "aX_indiv_train_group = aX_indiv_train.groupby(['id']).sum()\n",
    "bX_indiv_train_group = bX_indiv_train.groupby(['id']).sum()\n",
    "cX_indiv_train_group = cX_indiv_train.groupby(['id']).sum()"
   ]
  },
  {
   "cell_type": "code",
   "execution_count": 51,
   "metadata": {
    "collapsed": true
   },
   "outputs": [],
   "source": [
    "aX_train_merge = aX_train.merge(aX_indiv_train_group, how='outer', left_index=True, right_index=True)"
   ]
  },
  {
   "cell_type": "code",
   "execution_count": 52,
   "metadata": {},
   "outputs": [
    {
     "data": {
      "text/plain": [
       "(8203, 1133)"
      ]
     },
     "execution_count": 52,
     "metadata": {},
     "output_type": "execute_result"
    }
   ],
   "source": [
    "aX_train_merge.shape"
   ]
  },
  {
   "cell_type": "code",
   "execution_count": 53,
   "metadata": {
    "collapsed": true
   },
   "outputs": [],
   "source": [
    "bX_train_merge = bX_train.merge(bX_indiv_train_group, how='outer', left_index=True, right_index=True)\n",
    "cX_train_merge = cX_train.merge(cX_indiv_train_group, how='outer', left_index=True, right_index=True)"
   ]
  },
  {
   "cell_type": "code",
   "execution_count": 54,
   "metadata": {},
   "outputs": [
    {
     "name": "stdout",
     "output_type": "stream",
     "text": [
      "In-sample accuracy: 100.00%\n"
     ]
    }
   ],
   "source": [
    "model_a_merge = train_model(aX_train_merge, ay_train)"
   ]
  },
  {
   "cell_type": "code",
   "execution_count": 55,
   "metadata": {},
   "outputs": [
    {
     "name": "stdout",
     "output_type": "stream",
     "text": [
      "In-sample accuracy: 99.88%\n"
     ]
    }
   ],
   "source": [
    "model_b_merge = train_model(bX_train_merge, by_train)"
   ]
  },
  {
   "cell_type": "code",
   "execution_count": 56,
   "metadata": {},
   "outputs": [
    {
     "name": "stdout",
     "output_type": "stream",
     "text": [
      "In-sample accuracy: 99.92%\n"
     ]
    }
   ],
   "source": [
    "model_c_merge = train_model(cX_train_merge, cy_train)"
   ]
  },
  {
   "cell_type": "code",
   "execution_count": 57,
   "metadata": {
    "collapsed": true
   },
   "outputs": [],
   "source": [
    "a_indiv_test = pd.read_csv(data_paths_ind['A']['test'], index_col=['id','iid'])\n",
    "b_indiv_test = pd.read_csv(data_paths_ind['B']['test'], index_col=['id','iid'])\n",
    "c_indiv_test = pd.read_csv(data_paths_ind['C']['test'], index_col=['id','iid'])"
   ]
  },
  {
   "cell_type": "code",
   "execution_count": 58,
   "metadata": {},
   "outputs": [
    {
     "name": "stdout",
     "output_type": "stream",
     "text": [
      "Input shape:\t(18535, 41)\n",
      "After standardization (18535, 41)\n",
      "After converting categoricals:\t(18535, 273)\n",
      "Input shape:\t(10066, 224)\n",
      "After standardization (10066, 224)\n",
      "After converting categoricals:\t(10066, 1534)\n",
      "Input shape:\t(14701, 41)\n",
      "After standardization (14701, 41)\n",
      "After converting categoricals:\t(14701, 301)\n"
     ]
    }
   ],
   "source": [
    "a_indiv_test = pre_process_data(a_indiv_test, enforce_cols=aX_indiv_train.columns)\n",
    "b_indiv_test = pre_process_data(b_indiv_test, enforce_cols=bX_indiv_train.columns)\n",
    "c_indiv_test = pre_process_data(c_indiv_test, enforce_cols=cX_indiv_train.columns)"
   ]
  },
  {
   "cell_type": "code",
   "execution_count": 59,
   "metadata": {
    "collapsed": true
   },
   "outputs": [],
   "source": [
    "a_indiv_test_group = a_indiv_test.groupby(['id']).sum()\n",
    "b_indiv_test_group = b_indiv_test.groupby(['id']).sum()\n",
    "c_indiv_test_group = c_indiv_test.groupby(['id']).sum()"
   ]
  },
  {
   "cell_type": "code",
   "execution_count": 60,
   "metadata": {
    "collapsed": true
   },
   "outputs": [],
   "source": [
    "a_test_merge = a_test.merge(a_indiv_test_group, how='outer', left_index=True, right_index=True)\n",
    "b_test_merge = b_test.merge(b_indiv_test_group, how='outer', left_index=True, right_index=True)\n",
    "c_test_merge = c_test.merge(c_indiv_test_group, how='outer', left_index=True, right_index=True)"
   ]
  },
  {
   "cell_type": "code",
   "execution_count": 61,
   "metadata": {
    "collapsed": true
   },
   "outputs": [],
   "source": [
    "a_merge_preds = model_a_merge.predict_proba(a_test_merge)\n",
    "b_merge_preds = model_b_merge.predict_proba(b_test_merge)\n",
    "c_merge_preds = model_c_merge.predict_proba(c_test_merge)"
   ]
  },
  {
   "cell_type": "code",
   "execution_count": 62,
   "metadata": {
    "collapsed": true
   },
   "outputs": [],
   "source": [
    "# convert preds to data frames\n",
    "a_merge_sub = make_country_sub(a_merge_preds, a_test_merge, 'A')\n",
    "b_merge_sub = make_country_sub(b_merge_preds, b_test_merge, 'B')\n",
    "c_merge_sub = make_country_sub(c_merge_preds, c_test_merge, 'C')"
   ]
  },
  {
   "cell_type": "code",
   "execution_count": 63,
   "metadata": {
    "collapsed": true
   },
   "outputs": [],
   "source": [
    "submission_merge = pd.concat([a_merge_sub, b_merge_sub, c_merge_sub])"
   ]
  },
  {
   "cell_type": "code",
   "execution_count": 64,
   "metadata": {},
   "outputs": [
    {
     "data": {
      "text/html": [
       "<div>\n",
       "<style>\n",
       "    .dataframe thead tr:only-child th {\n",
       "        text-align: right;\n",
       "    }\n",
       "\n",
       "    .dataframe thead th {\n",
       "        text-align: left;\n",
       "    }\n",
       "\n",
       "    .dataframe tbody tr th {\n",
       "        vertical-align: top;\n",
       "    }\n",
       "</style>\n",
       "<table border=\"1\" class=\"dataframe\">\n",
       "  <thead>\n",
       "    <tr style=\"text-align: right;\">\n",
       "      <th></th>\n",
       "      <th>country</th>\n",
       "      <th>poor</th>\n",
       "    </tr>\n",
       "    <tr>\n",
       "      <th>id</th>\n",
       "      <th></th>\n",
       "      <th></th>\n",
       "    </tr>\n",
       "  </thead>\n",
       "  <tbody>\n",
       "    <tr>\n",
       "      <th>8</th>\n",
       "      <td>A</td>\n",
       "      <td>0.60</td>\n",
       "    </tr>\n",
       "    <tr>\n",
       "      <th>65</th>\n",
       "      <td>A</td>\n",
       "      <td>0.58</td>\n",
       "    </tr>\n",
       "    <tr>\n",
       "      <th>71</th>\n",
       "      <td>A</td>\n",
       "      <td>0.54</td>\n",
       "    </tr>\n",
       "    <tr>\n",
       "      <th>80</th>\n",
       "      <td>A</td>\n",
       "      <td>0.64</td>\n",
       "    </tr>\n",
       "    <tr>\n",
       "      <th>167</th>\n",
       "      <td>A</td>\n",
       "      <td>0.56</td>\n",
       "    </tr>\n",
       "  </tbody>\n",
       "</table>\n",
       "</div>"
      ],
      "text/plain": [
       "    country  poor\n",
       "id               \n",
       "8         A  0.60\n",
       "65        A  0.58\n",
       "71        A  0.54\n",
       "80        A  0.64\n",
       "167       A  0.56"
      ]
     },
     "execution_count": 64,
     "metadata": {},
     "output_type": "execute_result"
    }
   ],
   "source": [
    "submission_merge.head()"
   ]
  },
  {
   "cell_type": "code",
   "execution_count": 66,
   "metadata": {
    "collapsed": true
   },
   "outputs": [],
   "source": [
    "submission_merge.to_csv('submission_merge.csv')"
   ]
  },
  {
   "cell_type": "code",
   "execution_count": 69,
   "metadata": {
    "collapsed": true
   },
   "outputs": [],
   "source": [
    "tt = pd.concat([submission, submission_merge], axis=1)"
   ]
  },
  {
   "cell_type": "code",
   "execution_count": 71,
   "metadata": {},
   "outputs": [
    {
     "data": {
      "text/plain": [
       "country     object\n",
       "poor       float64\n",
       "dtype: object"
      ]
     },
     "execution_count": 71,
     "metadata": {},
     "output_type": "execute_result"
    }
   ],
   "source": [
    "submission.dtypes"
   ]
  },
  {
   "cell_type": "code",
   "execution_count": 72,
   "metadata": {
    "collapsed": true
   },
   "outputs": [],
   "source": [
    "temp = submission_merge.reset_index(drop=True)"
   ]
  },
  {
   "cell_type": "code",
   "execution_count": 73,
   "metadata": {},
   "outputs": [
    {
     "data": {
      "text/plain": [
       "country     object\n",
       "poor       float64\n",
       "dtype: object"
      ]
     },
     "execution_count": 73,
     "metadata": {},
     "output_type": "execute_result"
    }
   ],
   "source": [
    "temp.dtypes"
   ]
  },
  {
   "cell_type": "code",
   "execution_count": 74,
   "metadata": {
    "collapsed": true
   },
   "outputs": [],
   "source": [
    "submission_merge.to_csv('submission_merge.csv')"
   ]
  },
  {
   "cell_type": "code",
   "execution_count": 75,
   "metadata": {
    "collapsed": true
   },
   "outputs": [],
   "source": [
    "submission.rename(columns={'country':'country_x', 'poor':'poor_x'}, inplace=True)"
   ]
  },
  {
   "cell_type": "code",
   "execution_count": 76,
   "metadata": {
    "collapsed": true
   },
   "outputs": [],
   "source": [
    "submission_merge.rename(columns={'country':'country_y', 'poor':'poor_y'}, inplace=True)"
   ]
  },
  {
   "cell_type": "code",
   "execution_count": 77,
   "metadata": {
    "collapsed": true
   },
   "outputs": [],
   "source": [
    "temp = submission.join(submission_merge, sort=False)"
   ]
  },
  {
   "cell_type": "code",
   "execution_count": 78,
   "metadata": {
    "collapsed": true
   },
   "outputs": [],
   "source": [
    "temp.drop(['country_y', 'poor_x'], axis=1, inplace=True)\n",
    "temp.rename(columns={'country_x':'country', 'poor_y':'poor'}, inplace=True)"
   ]
  },
  {
   "cell_type": "code",
   "execution_count": 80,
   "metadata": {
    "collapsed": true
   },
   "outputs": [],
   "source": [
    "temp.to_csv('submission_rev.csv')"
   ]
  },
  {
   "cell_type": "code",
   "execution_count": 90,
   "metadata": {},
   "outputs": [
    {
     "data": {
      "text/plain": [
       "(8203, 859)"
      ]
     },
     "execution_count": 90,
     "metadata": {},
     "output_type": "execute_result"
    }
   ],
   "source": [
    "aX_train.shape"
   ]
  },
  {
   "cell_type": "code",
   "execution_count": 96,
   "metadata": {},
   "outputs": [
    {
     "data": {
      "text/plain": [
       "array([False, False,  True, ...,  True,  True, False], dtype=bool)"
      ]
     },
     "execution_count": 96,
     "metadata": {},
     "output_type": "execute_result"
    }
   ],
   "source": [
    "ay_train"
   ]
  },
  {
   "cell_type": "code",
   "execution_count": 99,
   "metadata": {
    "collapsed": true
   },
   "outputs": [],
   "source": [
    "aX_train_sp, aX_test_sp, ay_train_sp, ay_test_sp = train_test_split(aX_train, ay_train, test_size=0.4, random_state=0)"
   ]
  },
  {
   "cell_type": "code",
   "execution_count": 158,
   "metadata": {
    "collapsed": true
   },
   "outputs": [],
   "source": [
    "bX_train_sp, bX_test_sp, by_train_sp, by_test_sp = train_test_split(bX_train, by_train, test_size=0.4, random_state=0)"
   ]
  },
  {
   "cell_type": "code",
   "execution_count": 159,
   "metadata": {
    "collapsed": true
   },
   "outputs": [],
   "source": [
    "cX_train_sp, cX_test_sp, cy_train_sp, cy_test_sp = train_test_split(cX_train, cy_train, test_size=0.4, random_state=0)"
   ]
  },
  {
   "cell_type": "code",
   "execution_count": 105,
   "metadata": {
    "collapsed": true
   },
   "outputs": [],
   "source": [
    "clf = svm.SVC(kernel='linear', C=1).fit(aX_train_sp, ay_train_sp)"
   ]
  },
  {
   "cell_type": "code",
   "execution_count": 106,
   "metadata": {},
   "outputs": [
    {
     "data": {
      "text/plain": [
       "0.85953686776355875"
      ]
     },
     "execution_count": 106,
     "metadata": {},
     "output_type": "execute_result"
    }
   ],
   "source": [
    "clf.score(aX_test_sp, ay_test_sp)"
   ]
  },
  {
   "cell_type": "code",
   "execution_count": 107,
   "metadata": {
    "collapsed": true
   },
   "outputs": [],
   "source": [
    "from sklearn.model_selection import cross_val_score"
   ]
  },
  {
   "cell_type": "code",
   "execution_count": 108,
   "metadata": {
    "collapsed": true
   },
   "outputs": [],
   "source": [
    "clf = svm.SVC(kernel='linear', C=1)"
   ]
  },
  {
   "cell_type": "code",
   "execution_count": 109,
   "metadata": {
    "collapsed": true
   },
   "outputs": [],
   "source": [
    "scores = cross_val_score(clf, aX_train, ay_train, cv=5)"
   ]
  },
  {
   "cell_type": "code",
   "execution_count": 110,
   "metadata": {},
   "outputs": [
    {
     "data": {
      "text/plain": [
       "array([ 0.86288848,  0.8702011 ,  0.8622791 ,  0.875     ,  0.85365854])"
      ]
     },
     "execution_count": 110,
     "metadata": {},
     "output_type": "execute_result"
    }
   ],
   "source": [
    "scores"
   ]
  },
  {
   "cell_type": "code",
   "execution_count": 111,
   "metadata": {},
   "outputs": [
    {
     "name": "stdout",
     "output_type": "stream",
     "text": [
      "Accuracy: 0.86 (+/- 0.01)\n"
     ]
    }
   ],
   "source": [
    "print(\"Accuracy: %0.2f (+/- %0.2f)\" % (scores.mean(), scores.std() * 2))"
   ]
  },
  {
   "cell_type": "code",
   "execution_count": 112,
   "metadata": {
    "collapsed": true
   },
   "outputs": [],
   "source": [
    "from sklearn import metrics"
   ]
  },
  {
   "cell_type": "code",
   "execution_count": 200,
   "metadata": {
    "collapsed": true
   },
   "outputs": [],
   "source": [
    "scores = cross_val_score(clf, aX_train, ay_train, cv=5, scoring='f1_macro')"
   ]
  },
  {
   "cell_type": "code",
   "execution_count": 201,
   "metadata": {},
   "outputs": [
    {
     "data": {
      "text/plain": [
       "array([ 0.86119536,  0.86772332,  0.8607961 ,  0.87521697,  0.85878498])"
      ]
     },
     "execution_count": 201,
     "metadata": {},
     "output_type": "execute_result"
    }
   ],
   "source": [
    "scores"
   ]
  },
  {
   "cell_type": "code",
   "execution_count": 202,
   "metadata": {
    "collapsed": true
   },
   "outputs": [],
   "source": [
    "clf = svm.SVC(C=1).fit(aX_train, ay_train)"
   ]
  },
  {
   "cell_type": "code",
   "execution_count": 203,
   "metadata": {},
   "outputs": [
    {
     "data": {
      "text/plain": [
       "0.86898232784887264"
      ]
     },
     "execution_count": 203,
     "metadata": {},
     "output_type": "execute_result"
    }
   ],
   "source": [
    "clf.score(aX_test_sp, ay_test_sp)  "
   ]
  },
  {
   "cell_type": "code",
   "execution_count": 206,
   "metadata": {},
   "outputs": [
    {
     "name": "stdout",
     "output_type": "stream",
     "text": [
      "Accuracy: 0.8647 (+/- 0.0121)\n"
     ]
    }
   ],
   "source": [
    "print(\"Accuracy: %0.4f (+/- %0.4f)\" % (scores.mean(), scores.std() * 2))"
   ]
  },
  {
   "cell_type": "code",
   "execution_count": 207,
   "metadata": {},
   "outputs": [
    {
     "data": {
      "text/plain": [
       "array([False, False, False, ...,  True, False, False], dtype=bool)"
      ]
     },
     "execution_count": 207,
     "metadata": {},
     "output_type": "execute_result"
    }
   ],
   "source": [
    "cross_val_predict(clf, aX_train, ay_train, cv=cv)"
   ]
  },
  {
   "cell_type": "code",
   "execution_count": 208,
   "metadata": {},
   "outputs": [
    {
     "data": {
      "text/plain": [
       "array([False, False,  True, ...,  True,  True, False], dtype=bool)"
      ]
     },
     "execution_count": 208,
     "metadata": {},
     "output_type": "execute_result"
    }
   ],
   "source": [
    "ay_train"
   ]
  },
  {
   "cell_type": "code",
   "execution_count": 209,
   "metadata": {},
   "outputs": [
    {
     "data": {
      "text/plain": [
       "array([False, False, False, ..., False, False, False], dtype=bool)"
      ]
     },
     "execution_count": 209,
     "metadata": {},
     "output_type": "execute_result"
    }
   ],
   "source": [
    "clf.predict(a_test)"
   ]
  },
  {
   "cell_type": "code",
   "execution_count": 212,
   "metadata": {},
   "outputs": [
    {
     "data": {
      "text/plain": [
       "array([-3.33639911, -4.71494669, -2.37225247, ..., -2.44561318,\n",
       "       -4.89208596, -2.95085588])"
      ]
     },
     "execution_count": 212,
     "metadata": {},
     "output_type": "execute_result"
    }
   ],
   "source": [
    "clf.decision_function(a_test)"
   ]
  },
  {
   "cell_type": "code",
   "execution_count": 213,
   "metadata": {},
   "outputs": [
    {
     "data": {
      "text/plain": [
       "array([False, False, False, ..., False, False, False], dtype=bool)"
      ]
     },
     "execution_count": 213,
     "metadata": {},
     "output_type": "execute_result"
    }
   ],
   "source": [
    "clf.predict(a_test)"
   ]
  },
  {
   "cell_type": "code",
   "execution_count": 118,
   "metadata": {
    "collapsed": true
   },
   "outputs": [],
   "source": [
    "from sklearn.pipeline import make_pipeline"
   ]
  },
  {
   "cell_type": "code",
   "execution_count": 122,
   "metadata": {
    "collapsed": true
   },
   "outputs": [],
   "source": [
    "from sklearn.model_selection import cross_val_predict"
   ]
  },
  {
   "cell_type": "code",
   "execution_count": 131,
   "metadata": {},
   "outputs": [
    {
     "name": "stderr",
     "output_type": "stream",
     "text": [
      "C:\\Users\\AMAMUN\\AppData\\Local\\conda\\conda\\envs\\PythonData\\lib\\site-packages\\sklearn\\cross_validation.py:41: DeprecationWarning: This module was deprecated in version 0.18 in favor of the model_selection module into which all the refactored classes and functions are moved. Also note that the interface of the new CV iterators are different from that of this module. This module will be removed in 0.20.\n",
      "  \"This module will be removed in 0.20.\", DeprecationWarning)\n"
     ]
    }
   ],
   "source": [
    "from sklearn.linear_model import LogisticRegression\n",
    "from sklearn.cross_validation import (StratifiedKFold, cross_val_score,\n",
    "                                      train_test_split)"
   ]
  },
  {
   "cell_type": "code",
   "execution_count": 150,
   "metadata": {
    "collapsed": true
   },
   "outputs": [],
   "source": [
    "# setup model\n",
    "a_cv = StratifiedKFold(ay_train, 10)\n",
    "logreg = LogisticRegression()"
   ]
  },
  {
   "cell_type": "code",
   "execution_count": 155,
   "metadata": {
    "collapsed": true
   },
   "outputs": [],
   "source": [
    "b_cv = StratifiedKFold(by_train, 10)\n",
    "logreg = LogisticRegression()"
   ]
  },
  {
   "cell_type": "code",
   "execution_count": 156,
   "metadata": {
    "collapsed": true
   },
   "outputs": [],
   "source": [
    "c_cv = StratifiedKFold(cy_train, 10)\n",
    "logreg = LogisticRegression()"
   ]
  },
  {
   "cell_type": "code",
   "execution_count": 166,
   "metadata": {
    "collapsed": true
   },
   "outputs": [],
   "source": [
    "logreg.fit(aX_train, ay_train)\n",
    "a_prob = logreg.predict_proba(a_test)"
   ]
  },
  {
   "cell_type": "code",
   "execution_count": 165,
   "metadata": {
    "collapsed": true
   },
   "outputs": [],
   "source": [
    "logreg.fit(bX_train, by_train)\n",
    "b_prob = logreg.predict_proba(b_test)"
   ]
  },
  {
   "cell_type": "code",
   "execution_count": 167,
   "metadata": {
    "collapsed": true
   },
   "outputs": [],
   "source": [
    "logreg.fit(cX_train, cy_train)\n",
    "c_prob = logreg.predict_proba(c_test)"
   ]
  },
  {
   "cell_type": "code",
   "execution_count": 152,
   "metadata": {
    "collapsed": true
   },
   "outputs": [],
   "source": [
    "logreg.fit(aX_train, ay_train)\n",
    "proba = logreg.predict_proba(a_test)"
   ]
  },
  {
   "cell_type": "code",
   "execution_count": 171,
   "metadata": {
    "collapsed": true
   },
   "outputs": [],
   "source": [
    "a_sub=make_country_sub(a_prob, a_test, 'A')"
   ]
  },
  {
   "cell_type": "code",
   "execution_count": 172,
   "metadata": {
    "collapsed": true
   },
   "outputs": [],
   "source": [
    "b_sub= make_country_sub(b_prob, b_test, 'A')\n",
    "c_sub = make_country_sub(c_prob, c_test, 'A')"
   ]
  },
  {
   "cell_type": "code",
   "execution_count": 173,
   "metadata": {
    "collapsed": true
   },
   "outputs": [],
   "source": [
    "submission3 = pd.concat([a_sub, b_sub, c_sub])"
   ]
  },
  {
   "cell_type": "code",
   "execution_count": 174,
   "metadata": {
    "collapsed": true
   },
   "outputs": [],
   "source": [
    "submission3.rename(columns={'country':'country_y', 'poor':'poor_y'}, inplace=True)"
   ]
  },
  {
   "cell_type": "code",
   "execution_count": 175,
   "metadata": {
    "collapsed": true
   },
   "outputs": [],
   "source": [
    "s3 = submission.join(submission3, sort=False)\n",
    "s3.drop(['country_y', 'poor_x'], axis=1, inplace=True)\n",
    "s3.rename(columns={'country_x':'country', 'poor_y':'poor'}, inplace=True)"
   ]
  },
  {
   "cell_type": "code",
   "execution_count": 176,
   "metadata": {
    "collapsed": true
   },
   "outputs": [],
   "source": [
    "s3.to_csv('submission3.csv')"
   ]
  },
  {
   "cell_type": "code",
   "execution_count": 135,
   "metadata": {
    "collapsed": true
   },
   "outputs": [],
   "source": [
    "class proba_logreg(LogisticRegression):\n",
    "    def predict(self, X):\n",
    "        return LogisticRegression.predict_proba(self, X)"
   ]
  },
  {
   "cell_type": "code",
   "execution_count": 180,
   "metadata": {
    "collapsed": true
   },
   "outputs": [],
   "source": [
    "# cross validation probabilities\n",
    "probas = cross_val_predict(proba_logreg(), aX_train, ay_train, cv=cv)"
   ]
  },
  {
   "cell_type": "code",
   "execution_count": 182,
   "metadata": {},
   "outputs": [
    {
     "data": {
      "text/plain": [
       "4041"
      ]
     },
     "execution_count": 182,
     "metadata": {},
     "output_type": "execute_result"
    }
   ],
   "source": [
    "len(a_test)"
   ]
  },
  {
   "cell_type": "code",
   "execution_count": 178,
   "metadata": {},
   "outputs": [
    {
     "data": {
      "text/plain": [
       "array([[  9.99999869e-01,   1.31008092e-07],\n",
       "       [  1.00000000e+00,   2.16644216e-11],\n",
       "       [  9.99997821e-01,   2.17903578e-06],\n",
       "       ..., \n",
       "       [  9.99993372e-01,   6.62843181e-06],\n",
       "       [  1.00000000e+00,   2.01599311e-10],\n",
       "       [  9.99999175e-01,   8.25231301e-07]])"
      ]
     },
     "execution_count": 178,
     "metadata": {},
     "output_type": "execute_result"
    }
   ],
   "source": [
    "a_prob"
   ]
  },
  {
   "cell_type": "code",
   "execution_count": 183,
   "metadata": {
    "collapsed": true
   },
   "outputs": [],
   "source": [
    "# setup model\n",
    "a_cv = StratifiedKFold(ay_train_sp, 10)\n",
    "logreg = LogisticRegression()"
   ]
  },
  {
   "cell_type": "code",
   "execution_count": 185,
   "metadata": {
    "collapsed": true
   },
   "outputs": [],
   "source": [
    "b_cv = StratifiedKFold(by_train_sp, 10)\n",
    "logreg = LogisticRegression()"
   ]
  },
  {
   "cell_type": "code",
   "execution_count": 186,
   "metadata": {
    "collapsed": true
   },
   "outputs": [],
   "source": [
    "c_cv = StratifiedKFold(cy_train_sp, 10)\n",
    "logreg = LogisticRegression()"
   ]
  },
  {
   "cell_type": "code",
   "execution_count": 187,
   "metadata": {
    "collapsed": true
   },
   "outputs": [],
   "source": [
    "logreg.fit(aX_train_sp, ay_train_sp)\n",
    "a_prob = logreg.predict_proba(a_test)"
   ]
  },
  {
   "cell_type": "code",
   "execution_count": 193,
   "metadata": {
    "collapsed": true
   },
   "outputs": [],
   "source": [
    "logreg.fit(bX_train_sp, by_train_sp)\n",
    "b_prob = logreg.predict_proba(b_test)"
   ]
  },
  {
   "cell_type": "code",
   "execution_count": 194,
   "metadata": {
    "collapsed": true
   },
   "outputs": [],
   "source": [
    "logreg.fit(cX_train_sp, cy_train_sp)\n",
    "c_prob = logreg.predict_proba(c_test)"
   ]
  },
  {
   "cell_type": "code",
   "execution_count": 189,
   "metadata": {},
   "outputs": [
    {
     "data": {
      "text/plain": [
       "array([[  9.99985428e-01,   1.45715613e-05],\n",
       "       [  9.99999966e-01,   3.35472104e-08],\n",
       "       [  9.96428319e-01,   3.57168130e-03],\n",
       "       ..., \n",
       "       [  9.97636857e-01,   2.36314289e-03],\n",
       "       [  9.99999645e-01,   3.54649383e-07],\n",
       "       [  9.97663609e-01,   2.33639130e-03]])"
      ]
     },
     "execution_count": 189,
     "metadata": {},
     "output_type": "execute_result"
    }
   ],
   "source": [
    "a_prob"
   ]
  },
  {
   "cell_type": "code",
   "execution_count": 190,
   "metadata": {
    "collapsed": true
   },
   "outputs": [],
   "source": [
    "a_sub=make_country_sub(a_prob, a_test, 'A')"
   ]
  },
  {
   "cell_type": "code",
   "execution_count": 195,
   "metadata": {
    "collapsed": true
   },
   "outputs": [],
   "source": [
    "b_sub= make_country_sub(b_prob, b_test, 'A')\n",
    "c_sub = make_country_sub(c_prob, c_test, 'A')"
   ]
  },
  {
   "cell_type": "code",
   "execution_count": 197,
   "metadata": {
    "collapsed": true
   },
   "outputs": [],
   "source": [
    "submission4 = pd.concat([a_sub, b_sub, c_sub])\n",
    "submission4.rename(columns={'country':'country_y', 'poor':'poor_y'}, inplace=True)\n",
    "s4 = submission.join(submission4, sort=False)\n",
    "s4.drop(['country_y', 'poor_x'], axis=1, inplace=True)\n",
    "s4.rename(columns={'country_x':'country', 'poor_y':'poor'}, inplace=True)"
   ]
  },
  {
   "cell_type": "code",
   "execution_count": 198,
   "metadata": {
    "collapsed": true
   },
   "outputs": [],
   "source": [
    "s4.to_csv('submission4.csv')"
   ]
  },
  {
   "cell_type": "code",
   "execution_count": 1,
   "metadata": {},
   "outputs": [
    {
     "name": "stderr",
     "output_type": "stream",
     "text": [
      "C:\\Users\\AMAMUN\\AppData\\Local\\conda\\conda\\envs\\PythonData\\lib\\site-packages\\sklearn\\cross_validation.py:41: DeprecationWarning: This module was deprecated in version 0.18 in favor of the model_selection module into which all the refactored classes and functions are moved. Also note that the interface of the new CV iterators are different from that of this module. This module will be removed in 0.20.\n",
      "  \"This module will be removed in 0.20.\", DeprecationWarning)\n"
     ]
    }
   ],
   "source": [
    "from xgboost import XGBClassifier"
   ]
  },
  {
   "cell_type": "code",
   "execution_count": 2,
   "metadata": {
    "collapsed": true
   },
   "outputs": [],
   "source": [
    "from catboost import CatBoostRegressor"
   ]
  },
  {
   "cell_type": "code",
   "execution_count": null,
   "metadata": {
    "collapsed": true
   },
   "outputs": [],
   "source": []
  }
 ],
 "metadata": {
  "kernelspec": {
   "display_name": "Python [conda env:PythonData]",
   "language": "python",
   "name": "conda-env-PythonData-py"
  },
  "language_info": {
   "codemirror_mode": {
    "name": "ipython",
    "version": 3
   },
   "file_extension": ".py",
   "mimetype": "text/x-python",
   "name": "python",
   "nbconvert_exporter": "python",
   "pygments_lexer": "ipython3",
   "version": "3.6.2"
  }
 },
 "nbformat": 4,
 "nbformat_minor": 2
}
