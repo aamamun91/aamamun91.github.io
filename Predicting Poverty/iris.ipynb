{
 "cells": [
  {
   "cell_type": "code",
   "execution_count": 1,
   "metadata": {
    "collapsed": true
   },
   "outputs": [],
   "source": [
    "%matplotlib inline\n",
    "\n",
    "import os\n",
    "\n",
    "import numpy as np\n",
    "import pandas as pd\n",
    "\n",
    "import matplotlib.pyplot as plt\n",
    "from sklearn.model_selection import train_test_split\n",
    "from sklearn import datasets\n",
    "from sklearn import svm"
   ]
  },
  {
   "cell_type": "code",
   "execution_count": 2,
   "metadata": {
    "collapsed": true
   },
   "outputs": [],
   "source": [
    "iris = datasets.load_iris()"
   ]
  },
  {
   "cell_type": "code",
   "execution_count": 5,
   "metadata": {},
   "outputs": [
    {
     "data": {
      "text/plain": [
       "sklearn.utils.Bunch"
      ]
     },
     "execution_count": 5,
     "metadata": {},
     "output_type": "execute_result"
    }
   ],
   "source": [
    "type(iris)"
   ]
  },
  {
   "cell_type": "code",
   "execution_count": 6,
   "metadata": {},
   "outputs": [
    {
     "data": {
      "text/plain": [
       "(150, 4)"
      ]
     },
     "execution_count": 6,
     "metadata": {},
     "output_type": "execute_result"
    }
   ],
   "source": [
    "iris.data.shape"
   ]
  },
  {
   "cell_type": "code",
   "execution_count": 7,
   "metadata": {},
   "outputs": [
    {
     "data": {
      "text/plain": [
       "(150,)"
      ]
     },
     "execution_count": 7,
     "metadata": {},
     "output_type": "execute_result"
    }
   ],
   "source": [
    "iris.target.shape"
   ]
  },
  {
   "cell_type": "code",
   "execution_count": 8,
   "metadata": {
    "collapsed": true
   },
   "outputs": [],
   "source": [
    "X_train, X_test, y_train, y_test = train_test_split(iris.data, iris.target, test_size=0.4, random_state=0)"
   ]
  },
  {
   "cell_type": "code",
   "execution_count": 71,
   "metadata": {},
   "outputs": [
    {
     "data": {
      "text/plain": [
       "array([0, 0, 0, 0, 0, 0, 0, 0, 0, 0, 0, 0, 0, 0, 0, 0, 0, 0, 0, 0, 0, 0, 0,\n",
       "       0, 0, 0, 0, 0, 0, 0, 0, 0, 0, 0, 0, 0, 0, 0, 0, 0, 0, 0, 0, 0, 0, 0,\n",
       "       0, 0, 0, 0, 1, 1, 1, 1, 1, 1, 1, 1, 1, 1, 1, 1, 1, 1, 1, 1, 1, 1, 1,\n",
       "       1, 1, 1, 1, 1, 1, 1, 1, 1, 1, 1, 1, 1, 1, 1, 1, 1, 1, 1, 1, 1, 1, 1,\n",
       "       1, 1, 1, 1, 1, 1, 1, 1, 2, 2, 2, 2, 2, 2, 2, 2, 2, 2, 2, 2, 2, 2, 2,\n",
       "       2, 2, 2, 2, 2, 2, 2, 2, 2, 2, 2, 2, 2, 2, 2, 2, 2, 2, 2, 2, 2, 2, 2,\n",
       "       2, 2, 2, 2, 2, 2, 2, 2, 2, 2, 2, 2])"
      ]
     },
     "execution_count": 71,
     "metadata": {},
     "output_type": "execute_result"
    }
   ],
   "source": [
    "iris.target"
   ]
  },
  {
   "cell_type": "code",
   "execution_count": 16,
   "metadata": {},
   "outputs": [
    {
     "data": {
      "text/plain": [
       "array([[ 5.8,  2.8,  5.1,  2.4],\n",
       "       [ 6. ,  2.2,  4. ,  1. ],\n",
       "       [ 5.5,  4.2,  1.4,  0.2],\n",
       "       [ 7.3,  2.9,  6.3,  1.8],\n",
       "       [ 5. ,  3.4,  1.5,  0.2],\n",
       "       [ 6.3,  3.3,  6. ,  2.5],\n",
       "       [ 5. ,  3.5,  1.3,  0.3],\n",
       "       [ 6.7,  3.1,  4.7,  1.5],\n",
       "       [ 6.8,  2.8,  4.8,  1.4],\n",
       "       [ 6.1,  2.8,  4. ,  1.3]])"
      ]
     },
     "execution_count": 16,
     "metadata": {},
     "output_type": "execute_result"
    }
   ],
   "source": [
    "X_test[0:10]"
   ]
  },
  {
   "cell_type": "code",
   "execution_count": 18,
   "metadata": {},
   "outputs": [
    {
     "data": {
      "text/plain": [
       "array([1, 0, 2, 1, 1, 1, 1, 2, 0, 0])"
      ]
     },
     "execution_count": 18,
     "metadata": {},
     "output_type": "execute_result"
    }
   ],
   "source": [
    "y_train[0:10]"
   ]
  },
  {
   "cell_type": "code",
   "execution_count": 19,
   "metadata": {},
   "outputs": [
    {
     "data": {
      "text/plain": [
       "90"
      ]
     },
     "execution_count": 19,
     "metadata": {},
     "output_type": "execute_result"
    }
   ],
   "source": [
    "len(y_train)"
   ]
  },
  {
   "cell_type": "code",
   "execution_count": 20,
   "metadata": {},
   "outputs": [
    {
     "data": {
      "text/plain": [
       "60"
      ]
     },
     "execution_count": 20,
     "metadata": {},
     "output_type": "execute_result"
    }
   ],
   "source": [
    "len(y_test)"
   ]
  },
  {
   "cell_type": "code",
   "execution_count": 21,
   "metadata": {},
   "outputs": [
    {
     "data": {
      "text/plain": [
       "array([2, 1, 0, 2, 0, 2, 0, 1, 1, 1])"
      ]
     },
     "execution_count": 21,
     "metadata": {},
     "output_type": "execute_result"
    }
   ],
   "source": [
    "y_test[0:10]"
   ]
  },
  {
   "cell_type": "code",
   "execution_count": 22,
   "metadata": {},
   "outputs": [
    {
     "data": {
      "text/plain": [
       "((90, 4), (90,))"
      ]
     },
     "execution_count": 22,
     "metadata": {},
     "output_type": "execute_result"
    }
   ],
   "source": [
    "X_train.shape, y_train.shape"
   ]
  },
  {
   "cell_type": "code",
   "execution_count": 23,
   "metadata": {},
   "outputs": [
    {
     "data": {
      "text/plain": [
       "((60, 4), (60,))"
      ]
     },
     "execution_count": 23,
     "metadata": {},
     "output_type": "execute_result"
    }
   ],
   "source": [
    "X_test.shape, y_test.shape"
   ]
  },
  {
   "cell_type": "code",
   "execution_count": 24,
   "metadata": {
    "collapsed": true
   },
   "outputs": [],
   "source": [
    "clf = svm.SVC(kernel='linear', C=1).fit(X_train, y_train)"
   ]
  },
  {
   "cell_type": "code",
   "execution_count": 25,
   "metadata": {},
   "outputs": [
    {
     "data": {
      "text/plain": [
       "SVC(C=1, cache_size=200, class_weight=None, coef0=0.0,\n",
       "  decision_function_shape='ovr', degree=3, gamma='auto', kernel='linear',\n",
       "  max_iter=-1, probability=False, random_state=None, shrinking=True,\n",
       "  tol=0.001, verbose=False)"
      ]
     },
     "execution_count": 25,
     "metadata": {},
     "output_type": "execute_result"
    }
   ],
   "source": [
    "clf"
   ]
  },
  {
   "cell_type": "code",
   "execution_count": 26,
   "metadata": {},
   "outputs": [
    {
     "data": {
      "text/plain": [
       "0.96666666666666667"
      ]
     },
     "execution_count": 26,
     "metadata": {},
     "output_type": "execute_result"
    }
   ],
   "source": [
    "clf.score(X_test, y_test)"
   ]
  },
  {
   "cell_type": "code",
   "execution_count": 27,
   "metadata": {
    "collapsed": true
   },
   "outputs": [],
   "source": [
    "from sklearn.model_selection import cross_val_score"
   ]
  },
  {
   "cell_type": "code",
   "execution_count": 28,
   "metadata": {
    "collapsed": true
   },
   "outputs": [],
   "source": [
    "clf = svm.SVC(kernel='linear', C=1)"
   ]
  },
  {
   "cell_type": "code",
   "execution_count": 29,
   "metadata": {},
   "outputs": [
    {
     "data": {
      "text/plain": [
       "SVC(C=1, cache_size=200, class_weight=None, coef0=0.0,\n",
       "  decision_function_shape='ovr', degree=3, gamma='auto', kernel='linear',\n",
       "  max_iter=-1, probability=False, random_state=None, shrinking=True,\n",
       "  tol=0.001, verbose=False)"
      ]
     },
     "execution_count": 29,
     "metadata": {},
     "output_type": "execute_result"
    }
   ],
   "source": [
    "clf"
   ]
  },
  {
   "cell_type": "code",
   "execution_count": 30,
   "metadata": {
    "collapsed": true
   },
   "outputs": [],
   "source": [
    "scores = cross_val_score(clf, iris.data, iris.target, cv=5)"
   ]
  },
  {
   "cell_type": "code",
   "execution_count": 31,
   "metadata": {},
   "outputs": [
    {
     "data": {
      "text/plain": [
       "array([ 0.96666667,  1.        ,  0.96666667,  0.96666667,  1.        ])"
      ]
     },
     "execution_count": 31,
     "metadata": {},
     "output_type": "execute_result"
    }
   ],
   "source": [
    "scores"
   ]
  },
  {
   "cell_type": "code",
   "execution_count": 32,
   "metadata": {},
   "outputs": [
    {
     "name": "stdout",
     "output_type": "stream",
     "text": [
      "Accuracy: 0.98 (+/- 0.03)\n"
     ]
    }
   ],
   "source": [
    "print(\"Accuracy: %0.2f (+/- %0.2f)\" % (scores.mean(), scores.std() * 2))"
   ]
  },
  {
   "cell_type": "code",
   "execution_count": 34,
   "metadata": {
    "collapsed": true
   },
   "outputs": [],
   "source": [
    "from sklearn import metrics"
   ]
  },
  {
   "cell_type": "code",
   "execution_count": 35,
   "metadata": {
    "collapsed": true
   },
   "outputs": [],
   "source": [
    " scores = cross_val_score(clf, iris.data, iris.target, cv=5, scoring='f1_macro')"
   ]
  },
  {
   "cell_type": "code",
   "execution_count": 36,
   "metadata": {},
   "outputs": [
    {
     "data": {
      "text/plain": [
       "array([ 0.96658312,  1.        ,  0.96658312,  0.96658312,  1.        ])"
      ]
     },
     "execution_count": 36,
     "metadata": {},
     "output_type": "execute_result"
    }
   ],
   "source": [
    "scores"
   ]
  },
  {
   "cell_type": "code",
   "execution_count": 37,
   "metadata": {
    "collapsed": true
   },
   "outputs": [],
   "source": [
    "from sklearn import preprocessing"
   ]
  },
  {
   "cell_type": "code",
   "execution_count": 38,
   "metadata": {
    "collapsed": true
   },
   "outputs": [],
   "source": [
    "X_train, X_test, y_train, y_test = train_test_split(iris.data, iris.target, test_size=0.4, random_state=0)"
   ]
  },
  {
   "cell_type": "code",
   "execution_count": 39,
   "metadata": {
    "collapsed": true
   },
   "outputs": [],
   "source": [
    "scaler = preprocessing.StandardScaler().fit(X_train)"
   ]
  },
  {
   "cell_type": "code",
   "execution_count": 40,
   "metadata": {},
   "outputs": [
    {
     "data": {
      "text/plain": [
       "StandardScaler(copy=True, with_mean=True, with_std=True)"
      ]
     },
     "execution_count": 40,
     "metadata": {},
     "output_type": "execute_result"
    }
   ],
   "source": [
    "scaler"
   ]
  },
  {
   "cell_type": "code",
   "execution_count": 41,
   "metadata": {
    "collapsed": true
   },
   "outputs": [],
   "source": [
    "X_train_transformed = scaler.transform(X_train)"
   ]
  },
  {
   "cell_type": "code",
   "execution_count": 43,
   "metadata": {},
   "outputs": [
    {
     "data": {
      "text/plain": [
       "array([[ 0.18206758,  0.71103882,  0.45664061,  0.5584109 ],\n",
       "       [-1.17402201,  0.00522823, -1.10334891, -1.19183221],\n",
       "       [-0.04394735, -0.93585257,  0.77939706,  0.93346299],\n",
       "       [-0.26996228, -0.93585257,  0.29526238,  0.1833588 ],\n",
       "       [-0.26996228, -0.46531217, -0.02749407,  0.1833588 ],\n",
       "       [-0.38296975, -1.40639297,  0.1876769 ,  0.1833588 ],\n",
       "       [ 0.29507505, -0.23004197,  0.51043335,  0.30837617],\n",
       "       [ 1.53815717,  0.24049843,  1.26353174,  0.80844563],\n",
       "       [-0.60898468,  1.41684942, -1.15714165, -1.19183221],\n",
       "       [-1.73905934, -0.23004197, -1.37231262, -1.31684958]])"
      ]
     },
     "execution_count": 43,
     "metadata": {},
     "output_type": "execute_result"
    }
   ],
   "source": [
    "X_train_transformed[0:10]"
   ]
  },
  {
   "cell_type": "code",
   "execution_count": 44,
   "metadata": {
    "collapsed": true
   },
   "outputs": [],
   "source": [
    "clf = svm.SVC(C=1).fit(X_train_transformed, y_train)"
   ]
  },
  {
   "cell_type": "code",
   "execution_count": 62,
   "metadata": {},
   "outputs": [
    {
     "data": {
      "text/plain": [
       "Pipeline(memory=None,\n",
       "     steps=[('standardscaler', StandardScaler(copy=True, with_mean=True, with_std=True)), ('svc', SVC(C=1, cache_size=200, class_weight=None, coef0=0.0,\n",
       "  decision_function_shape='ovr', degree=3, gamma='auto', kernel='rbf',\n",
       "  max_iter=-1, probability=False, random_state=None, shrinking=True,\n",
       "  tol=0.001, verbose=False))])"
      ]
     },
     "execution_count": 62,
     "metadata": {},
     "output_type": "execute_result"
    }
   ],
   "source": [
    "clf"
   ]
  },
  {
   "cell_type": "code",
   "execution_count": 61,
   "metadata": {},
   "outputs": [
    {
     "data": {
      "text/plain": [
       "90"
      ]
     },
     "execution_count": 61,
     "metadata": {},
     "output_type": "execute_result"
    }
   ],
   "source": [
    "len(X_train_transformed)"
   ]
  },
  {
   "cell_type": "code",
   "execution_count": 45,
   "metadata": {
    "collapsed": true
   },
   "outputs": [],
   "source": [
    "X_test_transformed = scaler.transform(X_test)"
   ]
  },
  {
   "cell_type": "code",
   "execution_count": 46,
   "metadata": {},
   "outputs": [
    {
     "data": {
      "text/plain": [
       "0.93333333333333335"
      ]
     },
     "execution_count": 46,
     "metadata": {},
     "output_type": "execute_result"
    }
   ],
   "source": [
    "clf.score(X_test_transformed, y_test)  "
   ]
  },
  {
   "cell_type": "code",
   "execution_count": 47,
   "metadata": {
    "collapsed": true
   },
   "outputs": [],
   "source": [
    "from sklearn.pipeline import make_pipeline"
   ]
  },
  {
   "cell_type": "code",
   "execution_count": 48,
   "metadata": {
    "collapsed": true
   },
   "outputs": [],
   "source": [
    "clf = make_pipeline(preprocessing.StandardScaler(), svm.SVC(C=1))"
   ]
  },
  {
   "cell_type": "code",
   "execution_count": 49,
   "metadata": {},
   "outputs": [
    {
     "data": {
      "text/plain": [
       "Pipeline(memory=None,\n",
       "     steps=[('standardscaler', StandardScaler(copy=True, with_mean=True, with_std=True)), ('svc', SVC(C=1, cache_size=200, class_weight=None, coef0=0.0,\n",
       "  decision_function_shape='ovr', degree=3, gamma='auto', kernel='rbf',\n",
       "  max_iter=-1, probability=False, random_state=None, shrinking=True,\n",
       "  tol=0.001, verbose=False))])"
      ]
     },
     "execution_count": 49,
     "metadata": {},
     "output_type": "execute_result"
    }
   ],
   "source": [
    "clf"
   ]
  },
  {
   "cell_type": "code",
   "execution_count": 51,
   "metadata": {
    "collapsed": true
   },
   "outputs": [],
   "source": [
    "from sklearn.model_selection import ShuffleSplit"
   ]
  },
  {
   "cell_type": "code",
   "execution_count": 52,
   "metadata": {
    "collapsed": true
   },
   "outputs": [],
   "source": [
    "n_samples = iris.data.shape[0]"
   ]
  },
  {
   "cell_type": "code",
   "execution_count": 53,
   "metadata": {},
   "outputs": [
    {
     "data": {
      "text/plain": [
       "150"
      ]
     },
     "execution_count": 53,
     "metadata": {},
     "output_type": "execute_result"
    }
   ],
   "source": [
    "n_samples"
   ]
  },
  {
   "cell_type": "code",
   "execution_count": 54,
   "metadata": {
    "collapsed": true
   },
   "outputs": [],
   "source": [
    "cv = ShuffleSplit(n_splits=3, test_size=0.3, random_state=0)"
   ]
  },
  {
   "cell_type": "code",
   "execution_count": 55,
   "metadata": {},
   "outputs": [
    {
     "data": {
      "text/plain": [
       "ShuffleSplit(n_splits=3, random_state=0, test_size=0.3, train_size=None)"
      ]
     },
     "execution_count": 55,
     "metadata": {},
     "output_type": "execute_result"
    }
   ],
   "source": [
    "cv"
   ]
  },
  {
   "cell_type": "code",
   "execution_count": 56,
   "metadata": {},
   "outputs": [
    {
     "data": {
      "text/plain": [
       "array([ 0.97777778,  0.93333333,  0.95555556])"
      ]
     },
     "execution_count": 56,
     "metadata": {},
     "output_type": "execute_result"
    }
   ],
   "source": [
    "cross_val_score(clf, iris.data, iris.target, cv=cv)"
   ]
  },
  {
   "cell_type": "code",
   "execution_count": 73,
   "metadata": {
    "collapsed": true
   },
   "outputs": [],
   "source": [
    "from sklearn.model_selection import cross_val_predict"
   ]
  },
  {
   "cell_type": "code",
   "execution_count": 74,
   "metadata": {
    "collapsed": true
   },
   "outputs": [],
   "source": [
    "predicted = cross_val_predict(clf, iris.data, iris.target, cv=10) "
   ]
  },
  {
   "cell_type": "code",
   "execution_count": 75,
   "metadata": {},
   "outputs": [
    {
     "data": {
      "text/plain": [
       "array([0, 0, 0, 0, 0, 0, 0, 0, 0, 0, 0, 0, 0, 0, 0, 0, 0, 0, 0, 0, 0, 0, 0,\n",
       "       0, 0, 0, 0, 0, 0, 0, 0, 0, 0, 0, 0, 0, 0, 0, 0, 0, 0, 0, 0, 0, 0, 0,\n",
       "       0, 0, 0, 0, 1, 1, 1, 1, 1, 1, 1, 1, 1, 1, 1, 1, 1, 1, 1, 1, 1, 1, 1,\n",
       "       1, 1, 1, 1, 1, 1, 1, 1, 2, 1, 1, 1, 1, 1, 2, 1, 1, 1, 1, 1, 1, 1, 1,\n",
       "       1, 1, 1, 1, 1, 1, 1, 1, 2, 2, 2, 2, 2, 2, 1, 2, 2, 2, 2, 2, 2, 2, 2,\n",
       "       2, 2, 2, 2, 1, 2, 2, 2, 2, 2, 2, 2, 2, 2, 2, 2, 2, 2, 1, 2, 2, 2, 2,\n",
       "       2, 2, 2, 2, 2, 2, 2, 2, 2, 2, 2, 2])"
      ]
     },
     "execution_count": 75,
     "metadata": {},
     "output_type": "execute_result"
    }
   ],
   "source": [
    "predicted"
   ]
  },
  {
   "cell_type": "code",
   "execution_count": 76,
   "metadata": {},
   "outputs": [
    {
     "data": {
      "text/plain": [
       "array([0, 0, 0, 0, 0, 0, 0, 0, 0, 0, 0, 0, 0, 0, 0, 0, 0, 0, 0, 0, 0, 0, 0,\n",
       "       0, 0, 0, 0, 0, 0, 0, 0, 0, 0, 0, 0, 0, 0, 0, 0, 0, 0, 0, 0, 0, 0, 0,\n",
       "       0, 0, 0, 0, 1, 1, 1, 1, 1, 1, 1, 1, 1, 1, 1, 1, 1, 1, 1, 1, 1, 1, 1,\n",
       "       1, 1, 1, 1, 1, 1, 1, 1, 1, 1, 1, 1, 1, 1, 1, 1, 1, 1, 1, 1, 1, 1, 1,\n",
       "       1, 1, 1, 1, 1, 1, 1, 1, 2, 2, 2, 2, 2, 2, 2, 2, 2, 2, 2, 2, 2, 2, 2,\n",
       "       2, 2, 2, 2, 2, 2, 2, 2, 2, 2, 2, 2, 2, 2, 2, 2, 2, 2, 2, 2, 2, 2, 2,\n",
       "       2, 2, 2, 2, 2, 2, 2, 2, 2, 2, 2, 2])"
      ]
     },
     "execution_count": 76,
     "metadata": {},
     "output_type": "execute_result"
    }
   ],
   "source": [
    "iris.target"
   ]
  },
  {
   "cell_type": "code",
   "execution_count": 77,
   "metadata": {},
   "outputs": [
    {
     "name": "stderr",
     "output_type": "stream",
     "text": [
      "C:\\Users\\AMAMUN\\AppData\\Local\\conda\\conda\\envs\\PythonData\\lib\\site-packages\\sklearn\\cross_validation.py:41: DeprecationWarning: This module was deprecated in version 0.18 in favor of the model_selection module into which all the refactored classes and functions are moved. Also note that the interface of the new CV iterators are different from that of this module. This module will be removed in 0.20.\n",
      "  \"This module will be removed in 0.20.\", DeprecationWarning)\n"
     ]
    }
   ],
   "source": [
    "# imports\n",
    "from sklearn.linear_model import LogisticRegression\n",
    "from sklearn.cross_validation import (StratifiedKFold, cross_val_score,\n",
    "                                      train_test_split)\n",
    "from sklearn import datasets\n",
    "\n",
    "# setup data\n",
    "iris = datasets.load_iris()\n",
    "X = iris.data\n",
    "y = iris.target\n",
    "\n",
    "# setup model\n",
    "cv = StratifiedKFold(y, 10)\n",
    "logreg = LogisticRegression()\n",
    "\n",
    "# cross-validation scores\n",
    "scores = cross_val_score(logreg, X, y, cv=cv)\n",
    "\n",
    "# predict probabilities\n",
    "Xtrain, Xtest, ytrain, ytest = train_test_split(X, y)\n",
    "logreg.fit(Xtrain, ytrain)\n",
    "proba = logreg.predict_proba(Xtest)"
   ]
  },
  {
   "cell_type": "code",
   "execution_count": 79,
   "metadata": {
    "collapsed": true
   },
   "outputs": [],
   "source": [
    "class proba_logreg(LogisticRegression):\n",
    "    def predict(self, X):\n",
    "        return LogisticRegression.predict_proba(self, X)"
   ]
  },
  {
   "cell_type": "code",
   "execution_count": 80,
   "metadata": {
    "collapsed": true
   },
   "outputs": [],
   "source": [
    "# cross validation probabilities\n",
    "probas = cross_val_predict(proba_logreg(), X, y, cv=cv)"
   ]
  },
  {
   "cell_type": "code",
   "execution_count": 81,
   "metadata": {},
   "outputs": [
    {
     "data": {
      "text/plain": [
       "array([[  8.78465722e-01,   1.21515959e-01,   1.83194488e-05],\n",
       "       [  8.06498209e-01,   1.93451531e-01,   5.02597529e-05],\n",
       "       [  8.51590275e-01,   1.48367737e-01,   4.19879953e-05],\n",
       "       [  8.21196553e-01,   1.78713883e-01,   8.95631594e-05],\n",
       "       [  8.92653269e-01,   1.07328048e-01,   1.86830619e-05],\n",
       "       [  9.31255925e-01,   6.87177803e-02,   2.62945267e-05],\n",
       "       [  9.02197715e-01,   9.77278240e-02,   7.44606683e-05],\n",
       "       [  8.65656472e-01,   1.34307478e-01,   3.60495558e-05],\n",
       "       [  8.08522672e-01,   1.91330017e-01,   1.47311502e-04],\n",
       "       [  7.96065034e-01,   2.03888493e-01,   4.64733804e-05],\n",
       "       [  8.88988944e-01,   1.11001618e-01,   9.43743514e-06],\n",
       "       [  8.60692852e-01,   1.39257396e-01,   4.97523713e-05],\n",
       "       [  7.90005740e-01,   2.09953563e-01,   4.06970455e-05],\n",
       "       [  8.33256835e-01,   1.66696591e-01,   4.65741555e-05],\n",
       "       [  9.24412394e-01,   7.55860463e-02,   1.55924436e-06],\n",
       "       [  9.66495396e-01,   3.35009375e-02,   3.66694331e-06],\n",
       "       [  9.44215590e-01,   5.57765688e-02,   7.84123493e-06],\n",
       "       [  8.97277086e-01,   1.02700812e-01,   2.21017632e-05],\n",
       "       [  9.01028950e-01,   9.89602303e-02,   1.08198199e-05],\n",
       "       [  9.27832342e-01,   7.21495239e-02,   1.81340777e-05],\n",
       "       [  8.30093345e-01,   1.69884836e-01,   2.18191946e-05],\n",
       "       [  9.20372659e-01,   7.96020287e-02,   2.53118319e-05],\n",
       "       [  9.25561336e-01,   7.44264125e-02,   1.22515492e-05],\n",
       "       [  8.65867173e-01,   1.34040440e-01,   9.23863963e-05],\n",
       "       [  8.41500342e-01,   1.58397192e-01,   1.02466524e-04],\n",
       "       [  7.76658018e-01,   2.23281685e-01,   6.02965555e-05],\n",
       "       [  8.76807840e-01,   1.23130228e-01,   6.19317707e-05],\n",
       "       [  8.65296337e-01,   1.34685896e-01,   1.77665481e-05],\n",
       "       [  8.57666535e-01,   1.42317291e-01,   1.61745861e-05],\n",
       "       [  8.24085507e-01,   1.75837539e-01,   7.69534820e-05],\n",
       "       [  8.04549936e-01,   1.95385510e-01,   6.45540510e-05],\n",
       "       [  8.71764092e-01,   1.28215504e-01,   2.04033014e-05],\n",
       "       [  9.30485243e-01,   6.95096026e-02,   5.15409921e-06],\n",
       "       [  9.43982758e-01,   5.60145266e-02,   2.71527983e-06],\n",
       "       [  7.90361348e-01,   2.09606982e-01,   3.16700681e-05],\n",
       "       [  8.38998118e-01,   1.60982702e-01,   1.91796342e-05],\n",
       "       [  8.60442494e-01,   1.39550461e-01,   7.04574418e-06],\n",
       "       [  7.91139184e-01,   2.08820532e-01,   4.02835460e-05],\n",
       "       [  8.27591887e-01,   1.72321326e-01,   8.67867957e-05],\n",
       "       [  8.52682284e-01,   1.47292589e-01,   2.51271895e-05],\n",
       "       [  8.91222063e-01,   1.08758896e-01,   1.90410966e-05],\n",
       "       [  6.84512337e-01,   3.15272584e-01,   2.15078777e-04],\n",
       "       [  8.62961161e-01,   1.36974965e-01,   6.38738473e-05],\n",
       "       [  9.03599565e-01,   9.63179130e-02,   8.25221409e-05],\n",
       "       [  9.11724044e-01,   8.82148481e-02,   6.11077723e-05],\n",
       "       [  8.19171578e-01,   1.80757216e-01,   7.12059400e-05],\n",
       "       [  9.10920288e-01,   8.90607761e-02,   1.89361758e-05],\n",
       "       [  8.53007931e-01,   1.46931562e-01,   6.05072109e-05],\n",
       "       [  8.95310233e-01,   1.04677660e-01,   1.21069220e-05],\n",
       "       [  8.51742932e-01,   1.48230319e-01,   2.67491106e-05],\n",
       "       [  3.28594007e-02,   8.31169929e-01,   1.35970671e-01],\n",
       "       [  3.84450509e-02,   6.81674059e-01,   2.79880890e-01],\n",
       "       [  1.28292940e-02,   7.14740309e-01,   2.72430397e-01],\n",
       "       [  1.41857131e-02,   6.30030946e-01,   3.55783341e-01],\n",
       "       [  1.19153754e-02,   6.65194464e-01,   3.22890161e-01],\n",
       "       [  1.16305875e-02,   5.72837783e-01,   4.15531629e-01],\n",
       "       [  2.26597715e-02,   5.09730826e-01,   4.67609402e-01],\n",
       "       [  1.11988714e-01,   7.48657397e-01,   1.39353889e-01],\n",
       "       [  1.84966626e-02,   8.18835275e-01,   1.62668062e-01],\n",
       "       [  3.51386058e-02,   5.00421860e-01,   4.64439534e-01],\n",
       "       [  3.26375413e-02,   7.54723125e-01,   2.12639334e-01],\n",
       "       [  4.48128832e-02,   6.14331738e-01,   3.40855379e-01],\n",
       "       [  2.22511562e-02,   8.62860147e-01,   1.14888697e-01],\n",
       "       [  1.00275207e-02,   5.85379197e-01,   4.04593282e-01],\n",
       "       [  1.75274150e-01,   6.99311398e-01,   1.25414452e-01],\n",
       "       [  4.97704177e-02,   8.28553020e-01,   1.21676563e-01],\n",
       "       [  1.32423854e-02,   4.24369174e-01,   5.62388441e-01],\n",
       "       [  4.09465793e-02,   8.37249207e-01,   1.21804214e-01],\n",
       "       [  3.38987679e-03,   5.87562650e-01,   4.09047473e-01],\n",
       "       [  3.81180980e-02,   7.93119125e-01,   1.68762777e-01],\n",
       "       [  6.46447445e-03,   2.70674661e-01,   7.22860865e-01],\n",
       "       [  5.92816380e-02,   8.06505180e-01,   1.34213182e-01],\n",
       "       [  2.13264921e-03,   5.26415417e-01,   4.71451934e-01],\n",
       "       [  9.16640248e-03,   6.83905522e-01,   3.06928075e-01],\n",
       "       [  3.79567443e-02,   8.24791979e-01,   1.37251277e-01],\n",
       "       [  3.98151634e-02,   8.17119475e-01,   1.43065362e-01],\n",
       "       [  9.35230683e-03,   7.73060029e-01,   2.17587664e-01],\n",
       "       [  5.35823839e-03,   5.25236191e-01,   4.69405571e-01],\n",
       "       [  1.47690290e-02,   5.67950896e-01,   4.17280075e-01],\n",
       "       [  1.36126841e-01,   8.19264020e-01,   4.46091394e-02],\n",
       "       [  3.82440985e-02,   8.00562754e-01,   1.61193148e-01],\n",
       "       [  5.29412513e-02,   8.43611436e-01,   1.03447313e-01],\n",
       "       [  5.95623359e-02,   8.07039450e-01,   1.33398214e-01],\n",
       "       [  1.39135512e-03,   4.06678999e-01,   5.91929646e-01],\n",
       "       [  1.10614622e-02,   3.57306420e-01,   6.31632118e-01],\n",
       "       [  4.58863190e-02,   4.64872940e-01,   4.89240741e-01],\n",
       "       [  2.04291327e-02,   7.32751325e-01,   2.46819543e-01],\n",
       "       [  7.54215731e-03,   7.46105204e-01,   2.46352638e-01],\n",
       "       [  6.02327635e-02,   6.47999782e-01,   2.91767455e-01],\n",
       "       [  2.26950869e-02,   6.51031016e-01,   3.26273897e-01],\n",
       "       [  1.01306661e-02,   5.63240964e-01,   4.26628370e-01],\n",
       "       [  1.67158592e-02,   6.04466570e-01,   3.78817571e-01],\n",
       "       [  3.74589254e-02,   7.78233041e-01,   1.84308033e-01],\n",
       "       [  9.59984908e-02,   7.77830507e-01,   1.26171002e-01],\n",
       "       [  2.16171638e-02,   6.16007806e-01,   3.62375030e-01],\n",
       "       [  5.66394397e-02,   7.03619615e-01,   2.39740945e-01],\n",
       "       [  4.07217416e-02,   6.57332165e-01,   3.01946094e-01],\n",
       "       [  4.01292765e-02,   7.78646361e-01,   1.81224362e-01],\n",
       "       [  2.69832773e-01,   6.72031144e-01,   5.81360834e-02],\n",
       "       [  4.27497483e-02,   6.86551627e-01,   2.70698625e-01],\n",
       "       [  2.08664788e-04,   1.72225294e-01,   8.27566042e-01],\n",
       "       [  8.96366284e-04,   3.05585581e-01,   6.93518053e-01],\n",
       "       [  3.20110303e-04,   3.24727749e-01,   6.74952141e-01],\n",
       "       [  5.12507380e-04,   3.46632919e-01,   6.52854573e-01],\n",
       "       [  2.84378593e-04,   2.66851681e-01,   7.32863940e-01],\n",
       "       [  7.37804839e-05,   3.97062653e-01,   6.02863566e-01],\n",
       "       [  2.39786297e-03,   2.72788755e-01,   7.24813382e-01],\n",
       "       [  1.48450366e-04,   4.39650033e-01,   5.60201517e-01],\n",
       "       [  1.92370190e-04,   4.34821910e-01,   5.64985720e-01],\n",
       "       [  4.31181697e-04,   1.49820142e-01,   8.49748676e-01],\n",
       "       [  3.56695256e-03,   2.91477657e-01,   7.04955391e-01],\n",
       "       [  7.90480586e-04,   3.57361425e-01,   6.41848095e-01],\n",
       "       [  8.35691926e-04,   3.05683480e-01,   6.93480828e-01],\n",
       "       [  7.63305137e-04,   3.02131868e-01,   6.97104827e-01],\n",
       "       [  7.41196033e-04,   1.88339489e-01,   8.10919315e-01],\n",
       "       [  1.22830861e-03,   1.80535066e-01,   8.18236625e-01],\n",
       "       [  9.05144999e-04,   3.57364980e-01,   6.41729875e-01],\n",
       "       [  2.23808784e-04,   2.52233402e-01,   7.47542789e-01],\n",
       "       [  1.57020369e-05,   4.27126870e-01,   5.72857428e-01],\n",
       "       [  7.76337893e-04,   4.72804552e-01,   5.26419110e-01],\n",
       "       [  5.59350607e-04,   2.29118021e-01,   7.70322628e-01],\n",
       "       [  1.46266612e-03,   2.31693524e-01,   7.66843810e-01],\n",
       "       [  4.49435809e-05,   4.26934546e-01,   5.73020510e-01],\n",
       "       [  2.23152025e-03,   3.99012307e-01,   5.98756173e-01],\n",
       "       [  7.43516527e-04,   2.38923115e-01,   7.60333368e-01],\n",
       "       [  5.51613972e-04,   4.11462547e-01,   5.87985839e-01],\n",
       "       [  3.71455851e-03,   3.86099989e-01,   6.10185452e-01],\n",
       "       [  3.92621484e-03,   3.38150085e-01,   6.57923700e-01],\n",
       "       [  3.62825165e-04,   3.01155839e-01,   6.98481336e-01],\n",
       "       [  8.22107694e-04,   5.24305466e-01,   4.74872426e-01],\n",
       "       [  1.91228423e-04,   4.43140293e-01,   5.56668478e-01],\n",
       "       [  7.33786270e-04,   3.73333839e-01,   6.25932374e-01],\n",
       "       [  3.25229096e-04,   2.78026298e-01,   7.21648473e-01],\n",
       "       [  2.32937168e-03,   5.03468075e-01,   4.94202553e-01],\n",
       "       [  4.11189070e-04,   4.54765799e-01,   5.44823012e-01],\n",
       "       [  2.14905396e-04,   3.48150323e-01,   6.51634772e-01],\n",
       "       [  7.57238990e-04,   1.26208021e-01,   8.73034740e-01],\n",
       "       [  1.09641840e-03,   3.14564840e-01,   6.84338741e-01],\n",
       "       [  4.94068483e-03,   3.18235725e-01,   6.76823591e-01],\n",
       "       [  1.35561825e-03,   3.06631098e-01,   6.92013284e-01],\n",
       "       [  5.15997589e-04,   2.24933591e-01,   7.74550412e-01],\n",
       "       [  2.39358099e-03,   2.92419082e-01,   7.05187337e-01],\n",
       "       [  9.48742408e-04,   2.96392028e-01,   7.02659230e-01],\n",
       "       [  3.45615447e-04,   2.35712192e-01,   7.63942192e-01],\n",
       "       [  5.21843440e-04,   1.76920289e-01,   8.22557868e-01],\n",
       "       [  1.51815133e-03,   2.52197976e-01,   7.46283873e-01],\n",
       "       [  1.20220316e-03,   3.86319396e-01,   6.12478401e-01],\n",
       "       [  1.90239318e-03,   3.07351049e-01,   6.90746557e-01],\n",
       "       [  1.44115240e-03,   1.39636369e-01,   8.58922478e-01],\n",
       "       [  2.18121292e-03,   2.80177983e-01,   7.17640804e-01]])"
      ]
     },
     "execution_count": 81,
     "metadata": {},
     "output_type": "execute_result"
    }
   ],
   "source": [
    "probas"
   ]
  },
  {
   "cell_type": "code",
   "execution_count": 3,
   "metadata": {},
   "outputs": [
    {
     "name": "stderr",
     "output_type": "stream",
     "text": [
      "C:\\Users\\AMAMUN\\AppData\\Local\\conda\\conda\\envs\\PythonData\\lib\\site-packages\\sklearn\\cross_validation.py:41: DeprecationWarning: This module was deprecated in version 0.18 in favor of the model_selection module into which all the refactored classes and functions are moved. Also note that the interface of the new CV iterators are different from that of this module. This module will be removed in 0.20.\n",
      "  \"This module will be removed in 0.20.\", DeprecationWarning)\n"
     ]
    }
   ],
   "source": [
    "from xgboost import XGBClassifier"
   ]
  },
  {
   "cell_type": "code",
   "execution_count": 2,
   "metadata": {},
   "outputs": [
    {
     "data": {
      "text/plain": [
       "0.91300000000000003"
      ]
     },
     "execution_count": 2,
     "metadata": {},
     "output_type": "execute_result"
    }
   ],
   "source": [
    "from sklearn.datasets import make_hastie_10_2\n",
    "from sklearn.ensemble import GradientBoostingClassifier\n",
    "\n",
    "X, y = make_hastie_10_2(random_state=0)\n",
    "X_train, X_test = X[:2000], X[2000:]\n",
    "y_train, y_test = y[:2000], y[2000:]\n",
    "\n",
    "model = GradientBoostingClassifier(n_estimators=100, learning_rate=1.0, max_depth=1, random_state=0).fit(X_train, y_train)\n",
    "model.score(X_test, y_test)"
   ]
  },
  {
   "cell_type": "code",
   "execution_count": 6,
   "metadata": {},
   "outputs": [
    {
     "data": {
      "text/plain": [
       "<function sklearn.datasets.samples_generator.make_hastie_10_2>"
      ]
     },
     "execution_count": 6,
     "metadata": {},
     "output_type": "execute_result"
    }
   ],
   "source": [
    "make_hastie_10_2"
   ]
  },
  {
   "cell_type": "code",
   "execution_count": 7,
   "metadata": {},
   "outputs": [
    {
     "data": {
      "text/plain": [
       "(2000, 10)"
      ]
     },
     "execution_count": 7,
     "metadata": {},
     "output_type": "execute_result"
    }
   ],
   "source": [
    "X_train.shape"
   ]
  },
  {
   "cell_type": "code",
   "execution_count": null,
   "metadata": {
    "collapsed": true
   },
   "outputs": [],
   "source": []
  }
 ],
 "metadata": {
  "kernelspec": {
   "display_name": "Python [conda env:PythonData]",
   "language": "python",
   "name": "conda-env-PythonData-py"
  },
  "language_info": {
   "codemirror_mode": {
    "name": "ipython",
    "version": 3
   },
   "file_extension": ".py",
   "mimetype": "text/x-python",
   "name": "python",
   "nbconvert_exporter": "python",
   "pygments_lexer": "ipython3",
   "version": "3.6.2"
  }
 },
 "nbformat": 4,
 "nbformat_minor": 2
}
