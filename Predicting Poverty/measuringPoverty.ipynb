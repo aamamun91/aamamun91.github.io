{
 "cells": [
  {
   "cell_type": "code",
   "execution_count": 114,
   "metadata": {
    "collapsed": true
   },
   "outputs": [],
   "source": [
    "%matplotlib inline\n",
    "\n",
    "import os\n",
    "\n",
    "import numpy as np\n",
    "import pandas as pd\n",
    "\n",
    "import matplotlib.pyplot as plt\n",
    "from sklearn import metrics\n",
    "from sklearn import svm"
   ]
  },
  {
   "cell_type": "code",
   "execution_count": 2,
   "metadata": {
    "collapsed": true
   },
   "outputs": [],
   "source": [
    "# data directory\n",
    "DATA_DIR = os.path.join('C:', 'data\\processed')"
   ]
  },
  {
   "cell_type": "code",
   "execution_count": 3,
   "metadata": {
    "collapsed": true
   },
   "outputs": [],
   "source": [
    "data_paths = {'A': {'train': os.path.join(DATA_DIR, 'A', 'A_hhold_train.csv'), \n",
    "                    'test':  os.path.join(DATA_DIR, 'A', 'A_hhold_test.csv')}, \n",
    "              \n",
    "              'B': {'train': os.path.join(DATA_DIR, 'B', 'B_hhold_train.csv'), \n",
    "                    'test':  os.path.join(DATA_DIR, 'B', 'B_hhold_test.csv')}, \n",
    "              \n",
    "              'C': {'train': os.path.join(DATA_DIR, 'C', 'C_hhold_train.csv'), \n",
    "                    'test':  os.path.join(DATA_DIR, 'C', 'C_hhold_test.csv')}}"
   ]
  },
  {
   "cell_type": "code",
   "execution_count": 4,
   "metadata": {
    "collapsed": true
   },
   "outputs": [],
   "source": [
    "# load training data\n",
    "a_train = pd.read_csv(data_paths['A']['train'], index_col='id')\n",
    "b_train = pd.read_csv(data_paths['B']['train'], index_col='id')\n",
    "c_train = pd.read_csv(data_paths['C']['train'], index_col='id')"
   ]
  },
  {
   "cell_type": "code",
   "execution_count": 5,
   "metadata": {},
   "outputs": [
    {
     "data": {
      "text/html": [
       "<div>\n",
       "<style>\n",
       "    .dataframe thead tr:only-child th {\n",
       "        text-align: right;\n",
       "    }\n",
       "\n",
       "    .dataframe thead th {\n",
       "        text-align: left;\n",
       "    }\n",
       "\n",
       "    .dataframe tbody tr th {\n",
       "        vertical-align: top;\n",
       "    }\n",
       "</style>\n",
       "<table border=\"1\" class=\"dataframe\">\n",
       "  <thead>\n",
       "    <tr style=\"text-align: right;\">\n",
       "      <th></th>\n",
       "      <th>wBXbHZmp</th>\n",
       "      <th>SlDKnCuu</th>\n",
       "      <th>KAJOWiiw</th>\n",
       "      <th>DsKacCdL</th>\n",
       "      <th>rtPrBBPl</th>\n",
       "      <th>tMJrvvut</th>\n",
       "      <th>jdetlNNF</th>\n",
       "      <th>maLAYXwi</th>\n",
       "      <th>vwpsXRGk</th>\n",
       "      <th>sArDRIyX</th>\n",
       "      <th>...</th>\n",
       "      <th>sDGibZrP</th>\n",
       "      <th>CsGvKKBJ</th>\n",
       "      <th>OLpGAaEu</th>\n",
       "      <th>LrDrWRjC</th>\n",
       "      <th>JCDeZBXq</th>\n",
       "      <th>HGPWuGlV</th>\n",
       "      <th>GDUPaBQs</th>\n",
       "      <th>WuwrCsIY</th>\n",
       "      <th>AlDbXTlZ</th>\n",
       "      <th>country</th>\n",
       "    </tr>\n",
       "    <tr>\n",
       "      <th>id</th>\n",
       "      <th></th>\n",
       "      <th></th>\n",
       "      <th></th>\n",
       "      <th></th>\n",
       "      <th></th>\n",
       "      <th></th>\n",
       "      <th></th>\n",
       "      <th></th>\n",
       "      <th></th>\n",
       "      <th></th>\n",
       "      <th></th>\n",
       "      <th></th>\n",
       "      <th></th>\n",
       "      <th></th>\n",
       "      <th></th>\n",
       "      <th></th>\n",
       "      <th></th>\n",
       "      <th></th>\n",
       "      <th></th>\n",
       "      <th></th>\n",
       "      <th></th>\n",
       "    </tr>\n",
       "  </thead>\n",
       "  <tbody>\n",
       "    <tr>\n",
       "      <th>46107</th>\n",
       "      <td>JhtDR</td>\n",
       "      <td>GUusz</td>\n",
       "      <td>TuovO</td>\n",
       "      <td>ZYabk</td>\n",
       "      <td>feupP</td>\n",
       "      <td>PHMVg</td>\n",
       "      <td>NDTCU</td>\n",
       "      <td>cLAGr</td>\n",
       "      <td>XAmOF</td>\n",
       "      <td>MwLvg</td>\n",
       "      <td>...</td>\n",
       "      <td>JqHnW</td>\n",
       "      <td>MaXfS</td>\n",
       "      <td>etZsD</td>\n",
       "      <td>idRwx</td>\n",
       "      <td>LPtkN</td>\n",
       "      <td>vkbkA</td>\n",
       "      <td>qQxrL</td>\n",
       "      <td>AITFl</td>\n",
       "      <td>aQeIm</td>\n",
       "      <td>A</td>\n",
       "    </tr>\n",
       "    <tr>\n",
       "      <th>82739</th>\n",
       "      <td>JhtDR</td>\n",
       "      <td>GUusz</td>\n",
       "      <td>TuovO</td>\n",
       "      <td>ZYabk</td>\n",
       "      <td>feupP</td>\n",
       "      <td>PHMVg</td>\n",
       "      <td>NDTCU</td>\n",
       "      <td>sehIp</td>\n",
       "      <td>lwCkE</td>\n",
       "      <td>MwLvg</td>\n",
       "      <td>...</td>\n",
       "      <td>JqHnW</td>\n",
       "      <td>MaXfS</td>\n",
       "      <td>HxnJy</td>\n",
       "      <td>idRwx</td>\n",
       "      <td>UyAms</td>\n",
       "      <td>vkbkA</td>\n",
       "      <td>qQxrL</td>\n",
       "      <td>AITFl</td>\n",
       "      <td>cecIq</td>\n",
       "      <td>A</td>\n",
       "    </tr>\n",
       "    <tr>\n",
       "      <th>9646</th>\n",
       "      <td>JhtDR</td>\n",
       "      <td>GUusz</td>\n",
       "      <td>BIZns</td>\n",
       "      <td>ZYabk</td>\n",
       "      <td>uxuSS</td>\n",
       "      <td>PHMVg</td>\n",
       "      <td>NDTCU</td>\n",
       "      <td>sehIp</td>\n",
       "      <td>qNABl</td>\n",
       "      <td>MwLvg</td>\n",
       "      <td>...</td>\n",
       "      <td>JqHnW</td>\n",
       "      <td>MaXfS</td>\n",
       "      <td>USRak</td>\n",
       "      <td>idRwx</td>\n",
       "      <td>UyAms</td>\n",
       "      <td>vkbkA</td>\n",
       "      <td>qQxrL</td>\n",
       "      <td>AITFl</td>\n",
       "      <td>cecIq</td>\n",
       "      <td>A</td>\n",
       "    </tr>\n",
       "    <tr>\n",
       "      <th>10975</th>\n",
       "      <td>JhtDR</td>\n",
       "      <td>GUusz</td>\n",
       "      <td>TuovO</td>\n",
       "      <td>ZYabk</td>\n",
       "      <td>feupP</td>\n",
       "      <td>PHMVg</td>\n",
       "      <td>NDTCU</td>\n",
       "      <td>sehIp</td>\n",
       "      <td>sPNOc</td>\n",
       "      <td>MwLvg</td>\n",
       "      <td>...</td>\n",
       "      <td>JqHnW</td>\n",
       "      <td>MaXfS</td>\n",
       "      <td>USRak</td>\n",
       "      <td>idRwx</td>\n",
       "      <td>UyAms</td>\n",
       "      <td>vkbkA</td>\n",
       "      <td>qQxrL</td>\n",
       "      <td>AITFl</td>\n",
       "      <td>cecIq</td>\n",
       "      <td>A</td>\n",
       "    </tr>\n",
       "    <tr>\n",
       "      <th>16463</th>\n",
       "      <td>JhtDR</td>\n",
       "      <td>alLXR</td>\n",
       "      <td>TuovO</td>\n",
       "      <td>ZYabk</td>\n",
       "      <td>feupP</td>\n",
       "      <td>PHMVg</td>\n",
       "      <td>NDTCU</td>\n",
       "      <td>cLAGr</td>\n",
       "      <td>NdlDR</td>\n",
       "      <td>MwLvg</td>\n",
       "      <td>...</td>\n",
       "      <td>JqHnW</td>\n",
       "      <td>MaXfS</td>\n",
       "      <td>etZsD</td>\n",
       "      <td>idRwx</td>\n",
       "      <td>UyAms</td>\n",
       "      <td>vkbkA</td>\n",
       "      <td>qQxrL</td>\n",
       "      <td>GAZGl</td>\n",
       "      <td>aQeIm</td>\n",
       "      <td>A</td>\n",
       "    </tr>\n",
       "  </tbody>\n",
       "</table>\n",
       "<p>5 rows × 345 columns</p>\n",
       "</div>"
      ],
      "text/plain": [
       "      wBXbHZmp SlDKnCuu KAJOWiiw DsKacCdL rtPrBBPl tMJrvvut jdetlNNF maLAYXwi  \\\n",
       "id                                                                              \n",
       "46107    JhtDR    GUusz    TuovO    ZYabk    feupP    PHMVg    NDTCU    cLAGr   \n",
       "82739    JhtDR    GUusz    TuovO    ZYabk    feupP    PHMVg    NDTCU    sehIp   \n",
       "9646     JhtDR    GUusz    BIZns    ZYabk    uxuSS    PHMVg    NDTCU    sehIp   \n",
       "10975    JhtDR    GUusz    TuovO    ZYabk    feupP    PHMVg    NDTCU    sehIp   \n",
       "16463    JhtDR    alLXR    TuovO    ZYabk    feupP    PHMVg    NDTCU    cLAGr   \n",
       "\n",
       "      vwpsXRGk sArDRIyX   ...   sDGibZrP CsGvKKBJ OLpGAaEu LrDrWRjC JCDeZBXq  \\\n",
       "id                        ...                                                  \n",
       "46107    XAmOF    MwLvg   ...      JqHnW    MaXfS    etZsD    idRwx    LPtkN   \n",
       "82739    lwCkE    MwLvg   ...      JqHnW    MaXfS    HxnJy    idRwx    UyAms   \n",
       "9646     qNABl    MwLvg   ...      JqHnW    MaXfS    USRak    idRwx    UyAms   \n",
       "10975    sPNOc    MwLvg   ...      JqHnW    MaXfS    USRak    idRwx    UyAms   \n",
       "16463    NdlDR    MwLvg   ...      JqHnW    MaXfS    etZsD    idRwx    UyAms   \n",
       "\n",
       "      HGPWuGlV GDUPaBQs WuwrCsIY AlDbXTlZ country  \n",
       "id                                                 \n",
       "46107    vkbkA    qQxrL    AITFl    aQeIm       A  \n",
       "82739    vkbkA    qQxrL    AITFl    cecIq       A  \n",
       "9646     vkbkA    qQxrL    AITFl    cecIq       A  \n",
       "10975    vkbkA    qQxrL    AITFl    cecIq       A  \n",
       "16463    vkbkA    qQxrL    GAZGl    aQeIm       A  \n",
       "\n",
       "[5 rows x 345 columns]"
      ]
     },
     "execution_count": 5,
     "metadata": {},
     "output_type": "execute_result"
    }
   ],
   "source": [
    "a_train.head()"
   ]
  },
  {
   "cell_type": "code",
   "execution_count": 6,
   "metadata": {},
   "outputs": [
    {
     "data": {
      "text/plain": [
       "<matplotlib.axes._subplots.AxesSubplot at 0x1929eacc0b8>"
      ]
     },
     "execution_count": 6,
     "metadata": {},
     "output_type": "execute_result"
    },
    {
     "data": {
      "image/png": "[encoded data removed]",
      "text/plain": [
       "<matplotlib.figure.Figure at 0x1929eb957b8>"
      ]
     },
     "metadata": {},
     "output_type": "display_data"
    }
   ],
   "source": [
    "a_train.poor.value_counts().plot.bar(title='Number of Poor for country A')"
   ]
  },
  {
   "cell_type": "code",
   "execution_count": 7,
   "metadata": {},
   "outputs": [
    {
     "name": "stdout",
     "output_type": "stream",
     "text": [
      "<class 'pandas.core.frame.DataFrame'>\n",
      "Int64Index: 8203 entries, 46107 to 39832\n",
      "Columns: 345 entries, wBXbHZmp to country\n",
      "dtypes: bool(1), float64(2), int64(2), object(340)\n",
      "memory usage: 21.6+ MB\n"
     ]
    }
   ],
   "source": [
    "a_train.info()"
   ]
  },
  {
   "cell_type": "code",
   "execution_count": 8,
   "metadata": {
    "collapsed": true
   },
   "outputs": [],
   "source": [
    "# Standardize features\n",
    "def standardize(df, numeric_only=True):\n",
    "    numeric = df.select_dtypes(include=['int64', 'float64'])\n",
    "    \n",
    "    # subtracy mean and divide by std\n",
    "    df[numeric.columns] = (numeric - numeric.mean()) / numeric.std()\n",
    "    \n",
    "    return df\n",
    "    \n",
    "\n",
    "def pre_process_data(df, enforce_cols=None):\n",
    "    print(\"Input shape:\\t{}\".format(df.shape))\n",
    "        \n",
    "\n",
    "    df = standardize(df)\n",
    "    print(\"After standardization {}\".format(df.shape))\n",
    "        \n",
    "    # create dummy variables for categoricals\n",
    "    df = pd.get_dummies(df)\n",
    "    print(\"After converting categoricals:\\t{}\".format(df.shape))\n",
    "    \n",
    "\n",
    "    # match test set and training set columns\n",
    "    if enforce_cols is not None:\n",
    "        to_drop = np.setdiff1d(df.columns, enforce_cols)\n",
    "        to_add = np.setdiff1d(enforce_cols, df.columns)\n",
    "\n",
    "        df.drop(to_drop, axis=1, inplace=True)\n",
    "        df = df.assign(**{c: 0 for c in to_add})\n",
    "    \n",
    "    df.fillna(0, inplace=True)\n",
    "    \n",
    "    return df"
   ]
  },
  {
   "cell_type": "code",
   "execution_count": 9,
   "metadata": {},
   "outputs": [
    {
     "name": "stdout",
     "output_type": "stream",
     "text": [
      "Country A\n",
      "Input shape:\t(8203, 344)\n",
      "After standardization (8203, 344)\n",
      "After converting categoricals:\t(8203, 859)\n",
      "\n",
      "Country B\n",
      "Input shape:\t(3255, 441)\n",
      "After standardization (3255, 441)\n",
      "After converting categoricals:\t(3255, 1432)\n",
      "\n",
      "Country C\n",
      "Input shape:\t(6469, 163)\n",
      "After standardization (6469, 163)\n",
      "After converting categoricals:\t(6469, 795)\n"
     ]
    }
   ],
   "source": [
    "print(\"Country A\")\n",
    "aX_train = pre_process_data(a_train.drop('poor', axis=1))\n",
    "ay_train = np.ravel(a_train.poor)\n",
    "\n",
    "print(\"\\nCountry B\")\n",
    "bX_train = pre_process_data(b_train.drop('poor', axis=1))\n",
    "by_train = np.ravel(b_train.poor)\n",
    "\n",
    "print(\"\\nCountry C\")\n",
    "cX_train = pre_process_data(c_train.drop('poor', axis=1))\n",
    "cy_train = np.ravel(c_train.poor)"
   ]
  },
  {
   "cell_type": "code",
   "execution_count": 10,
   "metadata": {
    "collapsed": true
   },
   "outputs": [],
   "source": [
    "from sklearn.ensemble import RandomForestClassifier\n",
    "\n",
    "def train_model(features, labels, **kwargs):\n",
    "    \n",
    "    # instantiate model\n",
    "    model = RandomForestClassifier(n_estimators=50, random_state=0)\n",
    "    \n",
    "    # train model\n",
    "    model.fit(features, labels)\n",
    "    \n",
    "    # get a (not-very-useful) sense of performance\n",
    "    accuracy = model.score(features, labels)\n",
    "    print(f\"In-sample accuracy: {accuracy:0.2%}\")\n",
    "    \n",
    "    return model"
   ]
  },
  {
   "cell_type": "code",
   "execution_count": 11,
   "metadata": {},
   "outputs": [
    {
     "name": "stdout",
     "output_type": "stream",
     "text": [
      "In-sample accuracy: 100.00%\n",
      "In-sample accuracy: 99.94%\n",
      "In-sample accuracy: 100.00%\n"
     ]
    }
   ],
   "source": [
    "model_a = train_model(aX_train, ay_train)\n",
    "model_b = train_model(bX_train, by_train)\n",
    "model_c = train_model(cX_train, cy_train)"
   ]
  },
  {
   "cell_type": "code",
   "execution_count": 12,
   "metadata": {
    "collapsed": true
   },
   "outputs": [],
   "source": [
    "a_test = pd.read_csv(data_paths['A']['test'], index_col='id')\n",
    "b_test = pd.read_csv(data_paths['B']['test'], index_col='id')\n",
    "c_test = pd.read_csv(data_paths['C']['test'], index_col='id')"
   ]
  },
  {
   "cell_type": "code",
   "execution_count": 13,
   "metadata": {},
   "outputs": [
    {
     "name": "stdout",
     "output_type": "stream",
     "text": [
      "Input shape:\t(4041, 344)\n",
      "After standardization (4041, 344)\n",
      "After converting categoricals:\t(4041, 851)\n",
      "Input shape:\t(1604, 441)\n",
      "After standardization (1604, 441)\n",
      "After converting categoricals:\t(1604, 1419)\n",
      "Input shape:\t(3187, 163)\n",
      "After standardization (3187, 163)\n",
      "After converting categoricals:\t(3187, 773)\n"
     ]
    }
   ],
   "source": [
    "a_test = pre_process_data(a_test, enforce_cols=aX_train.columns)\n",
    "b_test = pre_process_data(b_test, enforce_cols=bX_train.columns)\n",
    "c_test = pre_process_data(c_test, enforce_cols=cX_train.columns)"
   ]
  },
  {
   "cell_type": "code",
   "execution_count": 14,
   "metadata": {
    "collapsed": true
   },
   "outputs": [],
   "source": [
    "a_preds = model_a.predict_proba(a_test)\n",
    "b_preds = model_b.predict_proba(b_test)\n",
    "c_preds = model_c.predict_proba(c_test)"
   ]
  },
  {
   "cell_type": "code",
   "execution_count": 15,
   "metadata": {
    "collapsed": true
   },
   "outputs": [],
   "source": [
    "def make_country_sub(preds, test_feat, country):\n",
    "    # make sure we code the country correctly\n",
    "    country_codes = ['A', 'B', 'C']\n",
    "    \n",
    "    # get just the poor probabilities\n",
    "    country_sub = pd.DataFrame(data=preds[:, 1],  # proba p=1\n",
    "                               columns=['poor'], \n",
    "                               index=test_feat.index)\n",
    "\n",
    "    \n",
    "    # add the country code for joining later\n",
    "    country_sub[\"country\"] = country\n",
    "    return country_sub[[\"country\", \"poor\"]]"
   ]
  },
  {
   "cell_type": "code",
   "execution_count": 16,
   "metadata": {
    "collapsed": true
   },
   "outputs": [],
   "source": [
    "# convert preds to data frames\n",
    "a_sub = make_country_sub(a_preds, a_test, 'A')\n",
    "b_sub = make_country_sub(b_preds, b_test, 'B')\n",
    "c_sub = make_country_sub(c_preds, c_test, 'C')"
   ]
  },
  {
   "cell_type": "code",
   "execution_count": 17,
   "metadata": {
    "collapsed": true
   },
   "outputs": [],
   "source": [
    "submission = pd.concat([a_sub, b_sub, c_sub])"
   ]
  },
  {
   "cell_type": "code",
   "execution_count": 76,
   "metadata": {
    "collapsed": true
   },
   "outputs": [],
   "source": [
    "from sklearn.model_selection import train_test_split\n",
    "aX_sp_train, aX_test, ay_sp_train, ay_test = train_test_split(aX_train, ay_train, random_state=42)\n",
    "bX_sp_train, bX_test, by_sp_train, by_test = train_test_split(bX_train, by_train, random_state=42)\n",
    "cX_sp_train, cX_test, cy_sp_train, cy_test = train_test_split(cX_train, cy_train, random_state=42)"
   ]
  },
  {
   "cell_type": "code",
   "execution_count": 146,
   "metadata": {},
   "outputs": [
    {
     "name": "stdout",
     "output_type": "stream",
     "text": [
      "[ 0.86288848  0.8702011   0.8622791   0.875       0.85365854]\n",
      "[ 0.87730061  0.86328725  0.87250384  0.86635945  0.87692308]\n",
      "[ 0.91814672  0.89953632  0.9072643   0.90796597  0.92420727]\n"
     ]
    }
   ],
   "source": [
    "from sklearn.model_selection import cross_val_score\n",
    "a_clf = svm.SVC(kernel='linear', C=1, probability=True)\n",
    "a_scores = cross_val_score(a_clf, aX_train, ay_train, cv=5)\n",
    "a_clf.fit(aX_train, ay_train)\n",
    "print(a_scores)\n",
    "\n",
    "b_clf = svm.SVC(kernel='linear', C=1, probability=True)\n",
    "b_scores = cross_val_score(b_clf, bX_train, by_train, cv=5)\n",
    "b_clf.fit(bX_train, by_train)\n",
    "print(b_scores)\n",
    "\n",
    "c_clf = svm.SVC(kernel='linear', C=1, probability=True)\n",
    "c_scores = cross_val_score(c_clf, cX_train, cy_train, cv=5)\n",
    "c_clf.fit(cX_train, cy_train)\n",
    "print(c_scores)\n",
    "\n",
    "a_pred = a_clf.predict_proba(a_test)\n",
    "b_pred = b_clf.predict_proba(b_test)\n",
    "c_pred = c_clf.predict_proba(c_test)\n",
    "\n",
    "a_sub = make_country_sub(a_pred, a_test, 'A')\n",
    "b_sub = make_country_sub(b_pred, b_test, 'B')\n",
    "c_sub = make_country_sub(c_pred, c_test, 'C')\n",
    "\n",
    "submission5 = pd.concat([a_sub, b_sub, c_sub])\n",
    "submission5.rename(columns={'country':'country_y', 'poor':'poor_y'}, inplace=True)\n",
    "s5 = submission.join(submission5, sort=False)\n",
    "s5.drop(['country_y', 'poor'], axis=1, inplace=True)\n",
    "s5.rename(columns={'poor_y':'poor'}, inplace=True)"
   ]
  },
  {
   "cell_type": "code",
   "execution_count": 153,
   "metadata": {},
   "outputs": [
    {
     "name": "stdout",
     "output_type": "stream",
     "text": [
      "[ 0.85946385  0.83509342  0.87002437  0.85853659  0.8551668 ]\n",
      "Country A:  0.875670404681\n",
      "             precision    recall  f1-score   support\n",
      "\n",
      "      False       0.89      0.88      0.89      1146\n",
      "       True       0.85      0.87      0.86       905\n",
      "\n",
      "avg / total       0.88      0.88      0.88      2051\n",
      "\n",
      "[ 0.85071575  0.87321063  0.85040984  0.88114754  0.8788501 ]\n",
      "Country B:  0.900491400491\n",
      "             precision    recall  f1-score   support\n",
      "\n",
      "      False       0.96      0.94      0.95       770\n",
      "       True       0.18      0.23      0.20        44\n",
      "\n",
      "avg / total       0.91      0.90      0.91       814\n",
      "\n",
      "[ 0.90525232  0.89083419  0.89587629  0.90309278  0.8998968 ]\n",
      "Country C:  0.914091470952\n",
      "             precision    recall  f1-score   support\n",
      "\n",
      "      False       0.95      0.95      0.95      1382\n",
      "       True       0.70      0.73      0.71       236\n",
      "\n",
      "avg / total       0.92      0.91      0.91      1618\n",
      "\n"
     ]
    }
   ],
   "source": [
    "clf = svm.SVC(kernel='linear', C=1, probability=True)\n",
    "a_scores = cross_val_score(clf, aX_sp_train, ay_sp_train, cv=5)\n",
    "clf.fit(aX_sp_train, ay_sp_train)\n",
    "print(a_scores)\n",
    "a_predict = clf.predict(aX_test)\n",
    "a_accuracy = accuracy_score(ay_test, a_predict)\n",
    "print(\"Country A: \", a_accuracy)\n",
    "print(metrics.classification_report(ay_test, a_predict))\n",
    "\n",
    "\n",
    "b_scores = cross_val_score(clf, bX_sp_train, by_sp_train, cv=5)\n",
    "clf.fit(bX_sp_train, by_sp_train)\n",
    "print(b_scores)\n",
    "b_predict = clf.predict(bX_test)\n",
    "b_accuracy = accuracy_score(by_test, b_predict)\n",
    "print(\"Country B: \", b_accuracy)\n",
    "print(metrics.classification_report(by_test, b_predict))\n",
    "\n",
    "\n",
    "c_scores = cross_val_score(clf, cX_sp_train, cy_sp_train, cv=5)\n",
    "clf.fit(cX_sp_train, cy_sp_train)\n",
    "print(c_scores)\n",
    "c_predict = clf.predict(cX_test)\n",
    "c_accuracy = accuracy_score(cy_test, c_predict)\n",
    "print(\"Country C: \", c_accuracy)\n",
    "print(metrics.classification_report(cy_test, c_predict))\n"
   ]
  },
  {
   "cell_type": "code",
   "execution_count": 147,
   "metadata": {},
   "outputs": [
    {
     "data": {
      "text/html": [
       "<div>\n",
       "<style>\n",
       "    .dataframe thead tr:only-child th {\n",
       "        text-align: right;\n",
       "    }\n",
       "\n",
       "    .dataframe thead th {\n",
       "        text-align: left;\n",
       "    }\n",
       "\n",
       "    .dataframe tbody tr th {\n",
       "        vertical-align: top;\n",
       "    }\n",
       "</style>\n",
       "<table border=\"1\" class=\"dataframe\">\n",
       "  <thead>\n",
       "    <tr style=\"text-align: right;\">\n",
       "      <th></th>\n",
       "      <th>country</th>\n",
       "      <th>poor</th>\n",
       "    </tr>\n",
       "    <tr>\n",
       "      <th>id</th>\n",
       "      <th></th>\n",
       "      <th></th>\n",
       "    </tr>\n",
       "  </thead>\n",
       "  <tbody>\n",
       "    <tr>\n",
       "      <th>418</th>\n",
       "      <td>A</td>\n",
       "      <td>3.246421e-07</td>\n",
       "    </tr>\n",
       "    <tr>\n",
       "      <th>41249</th>\n",
       "      <td>A</td>\n",
       "      <td>1.000000e-07</td>\n",
       "    </tr>\n",
       "    <tr>\n",
       "      <th>16205</th>\n",
       "      <td>A</td>\n",
       "      <td>1.293609e-05</td>\n",
       "    </tr>\n",
       "    <tr>\n",
       "      <th>97501</th>\n",
       "      <td>A</td>\n",
       "      <td>1.000000e-07</td>\n",
       "    </tr>\n",
       "    <tr>\n",
       "      <th>67756</th>\n",
       "      <td>A</td>\n",
       "      <td>2.258200e-06</td>\n",
       "    </tr>\n",
       "  </tbody>\n",
       "</table>\n",
       "</div>"
      ],
      "text/plain": [
       "      country          poor\n",
       "id                         \n",
       "418         A  3.246421e-07\n",
       "41249       A  1.000000e-07\n",
       "16205       A  1.293609e-05\n",
       "97501       A  1.000000e-07\n",
       "67756       A  2.258200e-06"
      ]
     },
     "execution_count": 147,
     "metadata": {},
     "output_type": "execute_result"
    }
   ],
   "source": [
    "a_clf = svm.SVC(kernel='linear', C=1, probability=True)\n",
    "a_scores = cross_val_score(a_clf, aX_train, ay_train, cv=10)\n",
    "b_clf = svm.SVC(kernel='linear', C=1, probability=True)\n",
    "b_scores = cross_val_score(b_clf, bX_train, by_train, cv=10)\n",
    "c_clf = svm.SVC(kernel='linear', C=1, probability=True)\n",
    "c_scores = cross_val_score(c_clf, cX_train, cy_train, cv=10)\n",
    "\n",
    "a_clf.fit(aX_train, ay_train)\n",
    "b_clf.fit(bX_train, by_train)\n",
    "c_clf.fit(cX_train, cy_train)\n",
    "\n",
    "a_pred = a_clf.predict_proba(a_test)\n",
    "b_pred = b_clf.predict_proba(b_test)\n",
    "c_pred = c_clf.predict_proba(c_test)\n",
    "\n",
    "a_sub = make_country_sub(a_pred, a_test, 'A')\n",
    "b_sub = make_country_sub(b_pred, b_test, 'B')\n",
    "c_sub = make_country_sub(c_pred, c_test, 'C')\n",
    "\n",
    "submission6 = pd.concat([a_sub, b_sub, c_sub])\n",
    "submission6.rename(columns={'country':'country_y', 'poor':'poor_y'}, inplace=True)\n",
    "s6 = submission.join(submission6, sort=False)\n",
    "s6.drop(['country_y', 'poor'], axis=1, inplace=True)\n",
    "s6.rename(columns={'poor_y':'poor'}, inplace=True)\n",
    "s6.head()"
   ]
  },
  {
   "cell_type": "code",
   "execution_count": 148,
   "metadata": {},
   "outputs": [],
   "source": [
    "from sklearn.datasets import make_classification\n",
    "from sklearn.svm import SVC\n",
    "from sklearn.grid_search import GridSearchCV\n",
    "\n",
    "# unbalanced classification\n",
    "#X, y = make_classification(n_samples=1000, weights=[0.1, 0.9])\n",
    "\n",
    "# use grid search for tuning hyperparameters\n",
    "svc = SVC(class_weight='balanced', probability=True)\n",
    "params_space = {'kernel': ['linear', 'poly', 'rbf']}\n",
    "# set cv to your K-fold cross-validation\n",
    "gs = GridSearchCV(svc, params_space, n_jobs=-1, cv=5)\n",
    "# fit the estimator"
   ]
  },
  {
   "cell_type": "code",
   "execution_count": 149,
   "metadata": {},
   "outputs": [
    {
     "data": {
      "text/html": [
       "<div>\n",
       "<style>\n",
       "    .dataframe thead tr:only-child th {\n",
       "        text-align: right;\n",
       "    }\n",
       "\n",
       "    .dataframe thead th {\n",
       "        text-align: left;\n",
       "    }\n",
       "\n",
       "    .dataframe tbody tr th {\n",
       "        vertical-align: top;\n",
       "    }\n",
       "</style>\n",
       "<table border=\"1\" class=\"dataframe\">\n",
       "  <thead>\n",
       "    <tr style=\"text-align: right;\">\n",
       "      <th></th>\n",
       "      <th>country</th>\n",
       "      <th>poor</th>\n",
       "    </tr>\n",
       "    <tr>\n",
       "      <th>id</th>\n",
       "      <th></th>\n",
       "      <th></th>\n",
       "    </tr>\n",
       "  </thead>\n",
       "  <tbody>\n",
       "    <tr>\n",
       "      <th>418</th>\n",
       "      <td>A</td>\n",
       "      <td>1.128305e-06</td>\n",
       "    </tr>\n",
       "    <tr>\n",
       "      <th>41249</th>\n",
       "      <td>A</td>\n",
       "      <td>1.000000e-07</td>\n",
       "    </tr>\n",
       "    <tr>\n",
       "      <th>16205</th>\n",
       "      <td>A</td>\n",
       "      <td>2.426247e-05</td>\n",
       "    </tr>\n",
       "    <tr>\n",
       "      <th>97501</th>\n",
       "      <td>A</td>\n",
       "      <td>1.000000e-07</td>\n",
       "    </tr>\n",
       "    <tr>\n",
       "      <th>67756</th>\n",
       "      <td>A</td>\n",
       "      <td>4.856018e-06</td>\n",
       "    </tr>\n",
       "  </tbody>\n",
       "</table>\n",
       "</div>"
      ],
      "text/plain": [
       "      country          poor\n",
       "id                         \n",
       "418         A  1.128305e-06\n",
       "41249       A  1.000000e-07\n",
       "16205       A  2.426247e-05\n",
       "97501       A  1.000000e-07\n",
       "67756       A  4.856018e-06"
      ]
     },
     "execution_count": 149,
     "metadata": {},
     "output_type": "execute_result"
    }
   ],
   "source": [
    "gs.fit(aX_train, ay_train)\n",
    "a_prob = gs.predict_proba(a_test)\n",
    "\n",
    "gs.fit(bX_train, by_train)\n",
    "b_prob = gs.predict_proba(b_test)\n",
    "\n",
    "gs.fit(cX_train, cy_train)\n",
    "c_prob = gs.predict_proba(c_test)\n",
    "\n",
    "a_sub = make_country_sub(a_prob, a_test, 'A')\n",
    "b_sub = make_country_sub(b_prob, b_test, 'B')\n",
    "c_sub = make_country_sub(c_prob, c_test, 'C')\n",
    "\n",
    "submission7 = pd.concat([a_sub, b_sub, c_sub])\n",
    "submission7.rename(columns={'country':'country_y', 'poor':'poor_y'}, inplace=True)\n",
    "s7 = submission.join(submission7, sort=False)\n",
    "s7.drop(['country_y', 'poor'], axis=1, inplace=True)\n",
    "s7.rename(columns={'poor_y':'poor'}, inplace=True)\n",
    "s7.head()"
   ]
  },
  {
   "cell_type": "code",
   "execution_count": 145,
   "metadata": {},
   "outputs": [
    {
     "name": "stdout",
     "output_type": "stream",
     "text": [
      "Country A:  0.873720136519\n",
      "             precision    recall  f1-score   support\n",
      "\n",
      "      False       0.90      0.87      0.88      1146\n",
      "       True       0.84      0.88      0.86       905\n",
      "\n",
      "avg / total       0.88      0.87      0.87      2051\n",
      "\n",
      "Country B:  0.902948402948\n",
      "             precision    recall  f1-score   support\n",
      "\n",
      "      False       0.96      0.94      0.95       770\n",
      "       True       0.19      0.25      0.22        44\n",
      "\n",
      "avg / total       0.92      0.90      0.91       814\n",
      "\n",
      "Country C:  0.894932014833\n",
      "             precision    recall  f1-score   support\n",
      "\n",
      "      False       0.97      0.90      0.94      1382\n",
      "       True       0.60      0.86      0.71       236\n",
      "\n",
      "avg / total       0.92      0.89      0.90      1618\n",
      "\n"
     ]
    }
   ],
   "source": [
    "gs.fit(aX_sp_train, ay_sp_train)\n",
    "a_prob = gs.predict_proba(aX_test)\n",
    "a_predict = gs.predict(aX_test)\n",
    "a_accuracy = accuracy_score(ay_test, a_predict)\n",
    "print(\"Country A: \", a_accuracy)\n",
    "print(metrics.classification_report(ay_test, a_predict))\n",
    "\n",
    "gs.fit(bX_sp_train, by_sp_train)\n",
    "b_prob = gs.predict_proba(bX_test)\n",
    "b_predict = gs.predict(bX_test)\n",
    "b_accuracy = accuracy_score(by_test, b_predict)\n",
    "print(\"Country B: \", b_accuracy)\n",
    "print(metrics.classification_report(by_test, b_predict))\n",
    "\n",
    "gs.fit(cX_sp_train, cy_sp_train)\n",
    "c_prob = gs.predict_proba(cX_test)\n",
    "c_predict = gs.predict(cX_test)\n",
    "c_accuracy = accuracy_score(cy_test, c_predict)\n",
    "print(\"Country C: \", c_accuracy)\n",
    "print(metrics.classification_report(cy_test, c_predict))"
   ]
  },
  {
   "cell_type": "code",
   "execution_count": 38,
   "metadata": {
    "collapsed": true
   },
   "outputs": [],
   "source": [
    "data_paths_ind = {'A': {'train': os.path.join(DATA_DIR, 'A', 'A_indiv_train.csv'), \n",
    "                        'test':  os.path.join(DATA_DIR, 'A', 'A_indiv_test.csv')}, \n",
    "              \n",
    "                  'B': {'train': os.path.join(DATA_DIR, 'B', 'B_indiv_train.csv'), \n",
    "                        'test':  os.path.join(DATA_DIR, 'B', 'B_indiv_test.csv')}, \n",
    "              \n",
    "                  'C': {'train': os.path.join(DATA_DIR, 'C', 'C_indiv_train.csv'), \n",
    "                        'test':  os.path.join(DATA_DIR, 'C', 'C_indiv_test.csv')}}"
   ]
  },
  {
   "cell_type": "code",
   "execution_count": 39,
   "metadata": {
    "collapsed": true
   },
   "outputs": [],
   "source": [
    "# load training data\n",
    "a_indiv_train = pd.read_csv(data_paths_ind['A']['train'], index_col=['id','iid'])\n",
    "b_indiv_train = pd.read_csv(data_paths_ind['B']['train'], index_col=['id','iid'])\n",
    "c_indiv_train = pd.read_csv(data_paths_ind['C']['train'], index_col=['id','iid'])"
   ]
  },
  {
   "cell_type": "code",
   "execution_count": 40,
   "metadata": {},
   "outputs": [
    {
     "name": "stdout",
     "output_type": "stream",
     "text": [
      "Country A\n",
      "Input shape:\t(37560, 41)\n",
      "After standardization (37560, 41)\n",
      "After converting categoricals:\t(37560, 274)\n",
      "\n",
      "Country B\n",
      "Input shape:\t(20252, 224)\n",
      "After standardization (20252, 224)\n",
      "After converting categoricals:\t(20252, 1641)\n",
      "\n",
      "Country C\n",
      "Input shape:\t(29913, 41)\n",
      "After standardization (29913, 41)\n",
      "After converting categoricals:\t(29913, 300)\n"
     ]
    }
   ],
   "source": [
    "print(\"Country A\")\n",
    "aX_indiv_train = pre_process_data(a_indiv_train.drop('poor', axis=1))\n",
    "ay_indiv_train = np.ravel(a_indiv_train.poor)\n",
    "\n",
    "print(\"\\nCountry B\")\n",
    "bX_indiv_train = pre_process_data(b_indiv_train.drop('poor', axis=1))\n",
    "by_indiv_train = np.ravel(b_indiv_train.poor)\n",
    "\n",
    "print(\"\\nCountry C\")\n",
    "cX_indiv_train = pre_process_data(c_indiv_train.drop('poor', axis=1))\n",
    "cy_indiv_train = np.ravel(c_indiv_train.poor)"
   ]
  },
  {
   "cell_type": "code",
   "execution_count": 41,
   "metadata": {
    "collapsed": true
   },
   "outputs": [],
   "source": [
    "aX_indiv_train_group = aX_indiv_train.groupby(['id']).sum()\n",
    "bX_indiv_train_group = bX_indiv_train.groupby(['id']).sum()\n",
    "cX_indiv_train_group = cX_indiv_train.groupby(['id']).sum()"
   ]
  },
  {
   "cell_type": "code",
   "execution_count": 42,
   "metadata": {
    "collapsed": true
   },
   "outputs": [],
   "source": [
    "aX_train_merge = aX_train.merge(aX_indiv_train_group, how='outer', left_index=True, right_index=True)\n",
    "bX_train_merge = bX_train.merge(bX_indiv_train_group, how='outer', left_index=True, right_index=True)\n",
    "cX_train_merge = cX_train.merge(cX_indiv_train_group, how='outer', left_index=True, right_index=True)"
   ]
  },
  {
   "cell_type": "code",
   "execution_count": 43,
   "metadata": {
    "collapsed": true
   },
   "outputs": [],
   "source": [
    "a_indiv_test = pd.read_csv(data_paths_ind['A']['test'], index_col=['id','iid'])\n",
    "b_indiv_test = pd.read_csv(data_paths_ind['B']['test'], index_col=['id','iid'])\n",
    "c_indiv_test = pd.read_csv(data_paths_ind['C']['test'], index_col=['id','iid'])"
   ]
  },
  {
   "cell_type": "code",
   "execution_count": 44,
   "metadata": {},
   "outputs": [
    {
     "name": "stdout",
     "output_type": "stream",
     "text": [
      "Input shape:\t(18535, 41)\n",
      "After standardization (18535, 41)\n",
      "After converting categoricals:\t(18535, 273)\n",
      "Input shape:\t(10066, 224)\n",
      "After standardization (10066, 224)\n",
      "After converting categoricals:\t(10066, 1534)\n",
      "Input shape:\t(14701, 41)\n",
      "After standardization (14701, 41)\n",
      "After converting categoricals:\t(14701, 301)\n"
     ]
    }
   ],
   "source": [
    "a_indiv_test = pre_process_data(a_indiv_test, enforce_cols=aX_indiv_train.columns)\n",
    "b_indiv_test = pre_process_data(b_indiv_test, enforce_cols=bX_indiv_train.columns)\n",
    "c_indiv_test = pre_process_data(c_indiv_test, enforce_cols=cX_indiv_train.columns)"
   ]
  },
  {
   "cell_type": "code",
   "execution_count": 45,
   "metadata": {
    "collapsed": true
   },
   "outputs": [],
   "source": [
    "a_indiv_test_group = a_indiv_test.groupby(['id']).sum()\n",
    "b_indiv_test_group = b_indiv_test.groupby(['id']).sum()\n",
    "c_indiv_test_group = c_indiv_test.groupby(['id']).sum()"
   ]
  },
  {
   "cell_type": "code",
   "execution_count": 46,
   "metadata": {
    "collapsed": true
   },
   "outputs": [],
   "source": [
    "a_test_merge = a_test.merge(a_indiv_test_group, how='outer', left_index=True, right_index=True)\n",
    "b_test_merge = b_test.merge(b_indiv_test_group, how='outer', left_index=True, right_index=True)\n",
    "c_test_merge = c_test.merge(c_indiv_test_group, how='outer', left_index=True, right_index=True)"
   ]
  },
  {
   "cell_type": "code",
   "execution_count": 47,
   "metadata": {},
   "outputs": [
    {
     "name": "stdout",
     "output_type": "stream",
     "text": [
      "In-sample accuracy: 100.00%\n",
      "In-sample accuracy: 99.88%\n",
      "In-sample accuracy: 99.92%\n"
     ]
    }
   ],
   "source": [
    "model_a = train_model(aX_train_merge, ay_train)\n",
    "model_b = train_model(bX_train_merge, by_train)\n",
    "model_c = train_model(cX_train_merge, cy_train)\n",
    "\n",
    "a_pred = model_a.predict_proba(a_test_merge)\n",
    "b_pred = model_b.predict_proba(b_test_merge)\n",
    "c_pred = model_c.predict_proba(c_test_merge)\n",
    "\n",
    "# convert preds to data frames\n",
    "a_merge_sub = make_country_sub(a_pred, a_test_merge, 'A')\n",
    "b_merge_sub = make_country_sub(b_pred, b_test_merge, 'B')\n",
    "c_merge_sub = make_country_sub(c_pred, c_test_merge, 'C')\n",
    "\n",
    "submission2 = pd.concat([a_merge_sub, b_merge_sub, c_merge_sub])\n",
    "submission2.rename(columns={'country':'country_y', 'poor':'poor_y'}, inplace=True)\n",
    "s2 = submission.join(submission2, sort=False)\n",
    "s2.drop(['country_y', 'poor'], axis=1, inplace=True)\n",
    "s2.rename(columns={'poor_y':'poor'}, inplace=True)\n",
    "s2.head()"
   ]
  },
  {
   "cell_type": "code",
   "execution_count": null,
   "metadata": {
    "collapsed": true
   },
   "outputs": [],
   "source": [
    "# Applying gridsearch method on merge dataset\n",
    "gs.fit(aX_train_merge, ay_train)\n",
    "a_prob = gs.predict_proba(a_test_merge)\n",
    "\n",
    "gs.fit(bX_train_merge, by_train)\n",
    "b_prob = gs.predict_proba(b_test_merge)\n",
    "\n",
    "gs.fit(cX_train_merge, cy_train)\n",
    "c_prob = gs.predict_proba(c_test_merge)\n",
    "\n",
    "a_sub = make_country_sub(a_prob, a_test_merge, 'A')\n",
    "b_sub = make_country_sub(b_prob, b_test_merge, 'B')\n",
    "c_sub = make_country_sub(c_prob, c_test_merge, 'C')\n",
    "\n",
    "submission8 = pd.concat([a_sub, b_sub, c_sub])\n",
    "submission8.rename(columns={'country':'country_y', 'poor':'poor_y'}, inplace=True)\n",
    "s8 = submission.join(submission8, sort=False)\n",
    "s8.drop(['country_y', 'poor'], axis=1, inplace=True)\n",
    "s8.rename(columns={'poor_y':'poor'}, inplace=True)"
   ]
  },
  {
   "cell_type": "code",
   "execution_count": 143,
   "metadata": {},
   "outputs": [],
   "source": [
    "from sklearn.ensemble import AdaBoostClassifier\n",
    "model = AdaBoostClassifier(n_estimators=100)\n",
    "scores = cross_val_score(model, aX_train, ay_train)\n",
    "scores\n",
    "model.fit(aX_train, ay_train)\n",
    "a_prob = model.predict_proba(a_test)\n",
    "model.fit(bX_train, by_train)\n",
    "b_prob = model.predict_proba(b_test)\n",
    "model.fit(cX_train, cy_train)\n",
    "c_prob = model.predict_proba(c_test)\n",
    "\n",
    "a_sub = make_country_sub(a_prob, a_test, 'A')\n",
    "b_sub = make_country_sub(b_prob, b_test, 'B')\n",
    "c_sub = make_country_sub(c_prob, c_test, 'C')\n",
    "\n",
    "submission11 = pd.concat([a_sub, b_sub, c_sub])\n",
    "submission11.rename(columns={'country':'country_y', 'poor':'poor_y'}, inplace=True)\n",
    "s11 = submission.join(submission11, sort=False)\n",
    "s11.drop(['country_y', 'poor'], axis=1, inplace=True)\n",
    "s11.rename(columns={'poor_y':'poor'}, inplace=True)"
   ]
  },
  {
   "cell_type": "code",
   "execution_count": 142,
   "metadata": {},
   "outputs": [
    {
     "name": "stdout",
     "output_type": "stream",
     "text": [
      "Country A:  0.866894197952\n",
      "             precision    recall  f1-score   support\n",
      "\n",
      "      False       0.88      0.88      0.88      1146\n",
      "       True       0.85      0.85      0.85       905\n",
      "\n",
      "avg / total       0.87      0.87      0.87      2051\n",
      "\n",
      "Country B:  0.927518427518\n",
      "             precision    recall  f1-score   support\n",
      "\n",
      "      False       0.96      0.96      0.96       770\n",
      "       True       0.32      0.30      0.31        44\n",
      "\n",
      "avg / total       0.93      0.93      0.93       814\n",
      "\n",
      "Country C:  0.876390605686\n",
      "             precision    recall  f1-score   support\n",
      "\n",
      "      False       0.89      0.98      0.93      1382\n",
      "       True       0.70      0.27      0.39       236\n",
      "\n",
      "avg / total       0.86      0.88      0.85      1618\n",
      "\n"
     ]
    }
   ],
   "source": [
    "from sklearn.ensemble import AdaBoostClassifier\n",
    "model = AdaBoostClassifier(n_estimators=100)\n",
    "\n",
    "model.fit(aX_sp_train, ay_sp_train)\n",
    "a_prob = model.predict_proba(aX_test)\n",
    "a_predict = model.predict(aX_test)\n",
    "a_accuracy = accuracy_score(ay_test, a_predict)\n",
    "print(\"Country A: \", a_accuracy)\n",
    "print(metrics.classification_report(ay_test, a_predict))\n",
    "\n",
    "\n",
    "model.fit(bX_sp_train, by_sp_train)\n",
    "b_prob = model.predict_proba(bX_test)\n",
    "b_predict = model.predict(bX_test)\n",
    "b_accuracy = accuracy_score(by_test, b_predict)\n",
    "print(\"Country B: \", b_accuracy)\n",
    "print(metrics.classification_report(by_test, b_predict))\n",
    "\n",
    "\n",
    "model.fit(cX_sp_train, cy_sp_train)\n",
    "c_prob = model.predict_proba(cX_test)\n",
    "c_predict = knn.predict(cX_test)\n",
    "c_accuracy = accuracy_score(cy_test, c_predict)\n",
    "print(\"Country C: \", c_accuracy)\n",
    "print(metrics.classification_report(cy_test, c_predict))"
   ]
  },
  {
   "cell_type": "code",
   "execution_count": 57,
   "metadata": {},
   "outputs": [
    {
     "data": {
      "text/html": [
       "<div>\n",
       "<style>\n",
       "    .dataframe thead tr:only-child th {\n",
       "        text-align: right;\n",
       "    }\n",
       "\n",
       "    .dataframe thead th {\n",
       "        text-align: left;\n",
       "    }\n",
       "\n",
       "    .dataframe tbody tr th {\n",
       "        vertical-align: top;\n",
       "    }\n",
       "</style>\n",
       "<table border=\"1\" class=\"dataframe\">\n",
       "  <thead>\n",
       "    <tr style=\"text-align: right;\">\n",
       "      <th></th>\n",
       "      <th>country</th>\n",
       "      <th>poor</th>\n",
       "    </tr>\n",
       "    <tr>\n",
       "      <th>id</th>\n",
       "      <th></th>\n",
       "      <th></th>\n",
       "    </tr>\n",
       "  </thead>\n",
       "  <tbody>\n",
       "    <tr>\n",
       "      <th>418</th>\n",
       "      <td>A</td>\n",
       "      <td>0.499313</td>\n",
       "    </tr>\n",
       "    <tr>\n",
       "      <th>41249</th>\n",
       "      <td>A</td>\n",
       "      <td>0.509709</td>\n",
       "    </tr>\n",
       "    <tr>\n",
       "      <th>16205</th>\n",
       "      <td>A</td>\n",
       "      <td>0.502378</td>\n",
       "    </tr>\n",
       "    <tr>\n",
       "      <th>97501</th>\n",
       "      <td>A</td>\n",
       "      <td>0.595738</td>\n",
       "    </tr>\n",
       "    <tr>\n",
       "      <th>67756</th>\n",
       "      <td>A</td>\n",
       "      <td>0.498687</td>\n",
       "    </tr>\n",
       "  </tbody>\n",
       "</table>\n",
       "</div>"
      ],
      "text/plain": [
       "      country      poor\n",
       "id                     \n",
       "418         A  0.499313\n",
       "41249       A  0.509709\n",
       "16205       A  0.502378\n",
       "97501       A  0.595738\n",
       "67756       A  0.498687"
      ]
     },
     "execution_count": 57,
     "metadata": {},
     "output_type": "execute_result"
    }
   ],
   "source": [
    "model = AdaBoostClassifier(n_estimators=100)\n",
    "scores = cross_val_score(model, aX_train_merge, ay_train)\n",
    "scores\n",
    "\n",
    "model.fit(aX_train_merge, ay_train)\n",
    "a_prob = model.predict_proba(a_test_merge)\n",
    "model.fit(bX_train_merge, by_train)\n",
    "\n",
    "b_prob = model.predict_proba(b_test_merge)\n",
    "model.fit(cX_train_merge, cy_train)\n",
    "c_prob = model.predict_proba(c_test_merge)\n",
    "\n",
    "a_sub = make_country_sub(a_prob, a_test, 'A')\n",
    "b_sub = make_country_sub(b_prob, b_test, 'B')\n",
    "c_sub = make_country_sub(c_prob, c_test, 'C')\n",
    "\n",
    "submission12 = pd.concat([a_sub, b_sub, c_sub])\n",
    "submission12.rename(columns={'country':'country_y', 'poor':'poor_y'}, inplace=True)\n",
    "s12 = submission.join(submission12, sort=False)\n",
    "s12.drop(['country_y', 'poor'], axis=1, inplace=True)\n",
    "s12.rename(columns={'poor_y':'poor'}, inplace=True)"
   ]
  },
  {
   "cell_type": "code",
   "execution_count": 59,
   "metadata": {
    "collapsed": true
   },
   "outputs": [],
   "source": [
    "#from sklearn.ensemble import GradientBoostingClassifier\n",
    "\n",
    "#X, y = make_hastie_10_2(random_state=0)\n",
    "#X_train, X_test = X[:2000], X[2000:]\n",
    "#y_train, y_test = y[:2000], y[2000:]\n",
    "\n",
    "#model = GradientBoostingClassifier(n_estimators=100, learning_rate=1.0, max_depth=1, random_state=0).fit(X_train, y_train)\n",
    "#model.score(X_test, y_test)"
   ]
  },
  {
   "cell_type": "code",
   "execution_count": 60,
   "metadata": {},
   "outputs": [
    {
     "data": {
      "text/html": [
       "<div>\n",
       "<style>\n",
       "    .dataframe thead tr:only-child th {\n",
       "        text-align: right;\n",
       "    }\n",
       "\n",
       "    .dataframe thead th {\n",
       "        text-align: left;\n",
       "    }\n",
       "\n",
       "    .dataframe tbody tr th {\n",
       "        vertical-align: top;\n",
       "    }\n",
       "</style>\n",
       "<table border=\"1\" class=\"dataframe\">\n",
       "  <thead>\n",
       "    <tr style=\"text-align: right;\">\n",
       "      <th></th>\n",
       "      <th>country</th>\n",
       "      <th>poor</th>\n",
       "    </tr>\n",
       "    <tr>\n",
       "      <th>id</th>\n",
       "      <th></th>\n",
       "      <th></th>\n",
       "    </tr>\n",
       "  </thead>\n",
       "  <tbody>\n",
       "    <tr>\n",
       "      <th>418</th>\n",
       "      <td>A</td>\n",
       "      <td>0.0</td>\n",
       "    </tr>\n",
       "    <tr>\n",
       "      <th>41249</th>\n",
       "      <td>A</td>\n",
       "      <td>0.0</td>\n",
       "    </tr>\n",
       "    <tr>\n",
       "      <th>16205</th>\n",
       "      <td>A</td>\n",
       "      <td>0.0</td>\n",
       "    </tr>\n",
       "    <tr>\n",
       "      <th>97501</th>\n",
       "      <td>A</td>\n",
       "      <td>0.0</td>\n",
       "    </tr>\n",
       "    <tr>\n",
       "      <th>67756</th>\n",
       "      <td>A</td>\n",
       "      <td>0.0</td>\n",
       "    </tr>\n",
       "  </tbody>\n",
       "</table>\n",
       "</div>"
      ],
      "text/plain": [
       "      country  poor\n",
       "id                 \n",
       "418         A   0.0\n",
       "41249       A   0.0\n",
       "16205       A   0.0\n",
       "97501       A   0.0\n",
       "67756       A   0.0"
      ]
     },
     "execution_count": 60,
     "metadata": {},
     "output_type": "execute_result"
    }
   ],
   "source": [
    "from sklearn import tree\n",
    "model = tree.DecisionTreeClassifier()\n",
    "model = model.fit(aX_train, ay_train)\n",
    "a_prob = model.predict_proba(a_test)\n",
    "\n",
    "model = model.fit(bX_train, by_train)\n",
    "b_prob = model.predict_proba(b_test)\n",
    "\n",
    "model = model.fit(cX_train, cy_train)\n",
    "c_prob = model.predict_proba(c_test)\n",
    "\n",
    "\n",
    "a_sub = make_country_sub(a_prob, a_test, 'A')\n",
    "b_sub = make_country_sub(b_prob, b_test, 'B')\n",
    "c_sub = make_country_sub(c_prob, c_test, 'C')\n",
    "\n",
    "submission13 = pd.concat([a_sub, b_sub, c_sub])\n",
    "submission13.rename(columns={'country':'country_y', 'poor':'poor_y'}, inplace=True)\n",
    "s13 = submission.join(submission13, sort=False)\n",
    "s13.drop(['country_y', 'poor'], axis=1, inplace=True)\n",
    "s13.rename(columns={'poor_y':'poor'}, inplace=True)\n",
    "s13.head()"
   ]
  },
  {
   "cell_type": "code",
   "execution_count": 136,
   "metadata": {},
   "outputs": [
    {
     "name": "stdout",
     "output_type": "stream",
     "text": [
      "k: 1, Train/Test Score: 1.000/0.706\n",
      "k: 3, Train/Test Score: 0.839/0.710\n",
      "k: 5, Train/Test Score: 0.792/0.717\n",
      "k: 7, Train/Test Score: 0.773/0.715\n",
      "k: 9, Train/Test Score: 0.762/0.722\n",
      "k: 11, Train/Test Score: 0.754/0.727\n",
      "k: 13, Train/Test Score: 0.746/0.727\n",
      "k: 15, Train/Test Score: 0.740/0.722\n",
      "k: 17, Train/Test Score: 0.732/0.724\n",
      "k: 19, Train/Test Score: 0.726/0.719\n"
     ]
    },
    {
     "data": {
      "image/png": "[encoded data removed]",
      "text/plain": [
       "<matplotlib.figure.Figure at 0x192af7f85c0>"
      ]
     },
     "metadata": {},
     "output_type": "display_data"
    }
   ],
   "source": [
    "from sklearn.cluster import KMeans\n",
    "from sklearn.neighbors import KNeighborsClassifier\n",
    "kmeans = KMeans(n_clusters=4)\n",
    "\n",
    "train_scores = []\n",
    "test_scores = []\n",
    "for k in range(1, 20, 2):\n",
    "    knn = KNeighborsClassifier(n_neighbors=k)\n",
    "    knn.fit(aX_sp_train, ay_sp_train)\n",
    "    train_score = knn.score(aX_sp_train, ay_sp_train)\n",
    "    test_score = knn.score(aX_test, ay_test)\n",
    "    train_scores.append(train_score)\n",
    "    test_scores.append(test_score)\n",
    "    print(f\"k: {k}, Train/Test Score: {train_score:.3f}/{test_score:.3f}\")\n",
    "\n",
    "plt.plot(range(1, 20, 2), train_scores, marker='o')\n",
    "plt.plot(range(1, 20, 2), test_scores, marker=\"x\")\n",
    "plt.xlabel(\"k neighbors\")\n",
    "plt.ylabel(\"Testing accuracy Score\")\n",
    "plt.show()"
   ]
  },
  {
   "cell_type": "code",
   "execution_count": 137,
   "metadata": {},
   "outputs": [
    {
     "name": "stdout",
     "output_type": "stream",
     "text": [
      "Country A:  0.723549488055\n",
      "             precision    recall  f1-score   support\n",
      "\n",
      "      False       0.95      0.54      0.68      1146\n",
      "       True       0.62      0.96      0.75       905\n",
      "\n",
      "avg / total       0.80      0.72      0.72      2051\n",
      "\n"
     ]
    }
   ],
   "source": [
    "knn = KNeighborsClassifier(n_neighbors=17)\n",
    "knn.fit(aX_sp_train, ay_sp_train)\n",
    "a_prob = knn.predict_proba(aX_test)\n",
    "a_predict = knn.predict(aX_test)\n",
    "\n",
    "a_accuracy = accuracy_score(ay_test, a_predict)\n",
    "print(\"Country A: \", a_accuracy)\n",
    "print(metrics.classification_report(ay_test, a_predict))"
   ]
  },
  {
   "cell_type": "code",
   "execution_count": 138,
   "metadata": {},
   "outputs": [
    {
     "name": "stdout",
     "output_type": "stream",
     "text": [
      "k: 1, Train/Test Score: 1.000/0.889\n",
      "k: 3, Train/Test Score: 0.935/0.920\n",
      "k: 5, Train/Test Score: 0.932/0.929\n",
      "k: 7, Train/Test Score: 0.921/0.935\n",
      "k: 9, Train/Test Score: 0.921/0.937\n",
      "k: 11, Train/Test Score: 0.918/0.941\n",
      "k: 13, Train/Test Score: 0.919/0.942\n",
      "k: 15, Train/Test Score: 0.919/0.942\n",
      "k: 17, Train/Test Score: 0.918/0.941\n",
      "k: 19, Train/Test Score: 0.919/0.945\n"
     ]
    },
    {
     "data": {
      "image/png": "[encoded data removed]",
      "text/plain": [
       "<matplotlib.figure.Figure at 0x192b57d8e80>"
      ]
     },
     "metadata": {},
     "output_type": "display_data"
    }
   ],
   "source": [
    "train_scores = []\n",
    "test_scores = []\n",
    "for k in range(1, 20, 2):\n",
    "    knn = KNeighborsClassifier(n_neighbors=k)\n",
    "    knn.fit(bX_sp_train, by_sp_train)\n",
    "    train_score = knn.score(bX_sp_train, by_sp_train)\n",
    "    test_score = knn.score(bX_test, by_test)\n",
    "    train_scores.append(train_score)\n",
    "    test_scores.append(test_score)\n",
    "    print(f\"k: {k}, Train/Test Score: {train_score:.3f}/{test_score:.3f}\")\n",
    "\n",
    "plt.plot(range(1, 20, 2), train_scores, marker='o')\n",
    "plt.plot(range(1, 20, 2), test_scores, marker=\"x\")\n",
    "plt.xlabel(\"k neighbors\")\n",
    "plt.ylabel(\"Testing accuracy Score\")\n",
    "plt.show()"
   ]
  },
  {
   "cell_type": "code",
   "execution_count": 139,
   "metadata": {},
   "outputs": [
    {
     "name": "stdout",
     "output_type": "stream",
     "text": [
      "Country B:  0.941031941032\n",
      "             precision    recall  f1-score   support\n",
      "\n",
      "      False       0.95      0.99      0.97       770\n",
      "       True       0.33      0.09      0.14        44\n",
      "\n",
      "avg / total       0.92      0.94      0.92       814\n",
      "\n"
     ]
    }
   ],
   "source": [
    "knn = KNeighborsClassifier(n_neighbors=11)\n",
    "knn.fit(bX_sp_train, by_sp_train)\n",
    "b_prob = knn.predict_proba(bX_test)\n",
    "b_predict = knn.predict(bX_test)\n",
    "\n",
    "b_accuracy = accuracy_score(by_test, b_predict)\n",
    "print(\"Country B: \", b_accuracy)\n",
    "print(metrics.classification_report(by_test, b_predict))"
   ]
  },
  {
   "cell_type": "code",
   "execution_count": 140,
   "metadata": {},
   "outputs": [
    {
     "name": "stdout",
     "output_type": "stream",
     "text": [
      "k: 1, Train/Test Score: 1.000/0.831\n",
      "k: 3, Train/Test Score: 0.928/0.862\n",
      "k: 5, Train/Test Score: 0.908/0.870\n",
      "k: 7, Train/Test Score: 0.898/0.870\n",
      "k: 9, Train/Test Score: 0.897/0.871\n",
      "k: 11, Train/Test Score: 0.890/0.872\n",
      "k: 13, Train/Test Score: 0.889/0.873\n",
      "k: 15, Train/Test Score: 0.886/0.876\n",
      "k: 17, Train/Test Score: 0.884/0.873\n",
      "k: 19, Train/Test Score: 0.882/0.873\n"
     ]
    },
    {
     "data": {
      "image/png": "[encoded data removed]",
      "text/plain": [
       "<matplotlib.figure.Figure at 0x192b584fa58>"
      ]
     },
     "metadata": {},
     "output_type": "display_data"
    }
   ],
   "source": [
    "train_scores = []\n",
    "test_scores = []\n",
    "for k in range(1, 20, 2):\n",
    "    knn = KNeighborsClassifier(n_neighbors=k)\n",
    "    knn.fit(cX_sp_train, cy_sp_train)\n",
    "    train_score = knn.score(cX_sp_train, cy_sp_train)\n",
    "    test_score = knn.score(cX_test, cy_test)\n",
    "    train_scores.append(train_score)\n",
    "    test_scores.append(test_score)\n",
    "    print(f\"k: {k}, Train/Test Score: {train_score:.3f}/{test_score:.3f}\")\n",
    "\n",
    "plt.plot(range(1, 20, 2), train_scores, marker='o')\n",
    "plt.plot(range(1, 20, 2), test_scores, marker=\"x\")\n",
    "plt.xlabel(\"k neighbors\")\n",
    "plt.ylabel(\"Testing accuracy Score\")\n",
    "plt.show()"
   ]
  },
  {
   "cell_type": "code",
   "execution_count": 141,
   "metadata": {},
   "outputs": [
    {
     "name": "stdout",
     "output_type": "stream",
     "text": [
      "Country C:  0.876390605686\n",
      "             precision    recall  f1-score   support\n",
      "\n",
      "      False       0.89      0.98      0.93      1382\n",
      "       True       0.70      0.27      0.39       236\n",
      "\n",
      "avg / total       0.86      0.88      0.85      1618\n",
      "\n"
     ]
    }
   ],
   "source": [
    "knn = KNeighborsClassifier(n_neighbors=15)\n",
    "knn.fit(cX_sp_train, cy_sp_train)\n",
    "c_prob = knn.predict_proba(cX_test)\n",
    "c_predict = knn.predict(cX_test)\n",
    "\n",
    "c_accuracy = accuracy_score(cy_test, c_predict)\n",
    "print(\"Country C: \", c_accuracy)\n",
    "print(metrics.classification_report(cy_test, c_predict))"
   ]
  },
  {
   "cell_type": "code",
   "execution_count": 68,
   "metadata": {},
   "outputs": [
    {
     "data": {
      "text/html": [
       "<div>\n",
       "<style>\n",
       "    .dataframe thead tr:only-child th {\n",
       "        text-align: right;\n",
       "    }\n",
       "\n",
       "    .dataframe thead th {\n",
       "        text-align: left;\n",
       "    }\n",
       "\n",
       "    .dataframe tbody tr th {\n",
       "        vertical-align: top;\n",
       "    }\n",
       "</style>\n",
       "<table border=\"1\" class=\"dataframe\">\n",
       "  <thead>\n",
       "    <tr style=\"text-align: right;\">\n",
       "      <th></th>\n",
       "      <th>country</th>\n",
       "      <th>poor</th>\n",
       "    </tr>\n",
       "    <tr>\n",
       "      <th>id</th>\n",
       "      <th></th>\n",
       "      <th></th>\n",
       "    </tr>\n",
       "  </thead>\n",
       "  <tbody>\n",
       "    <tr>\n",
       "      <th>418</th>\n",
       "      <td>A</td>\n",
       "      <td>0.176471</td>\n",
       "    </tr>\n",
       "    <tr>\n",
       "      <th>41249</th>\n",
       "      <td>A</td>\n",
       "      <td>0.117647</td>\n",
       "    </tr>\n",
       "    <tr>\n",
       "      <th>16205</th>\n",
       "      <td>A</td>\n",
       "      <td>0.470588</td>\n",
       "    </tr>\n",
       "    <tr>\n",
       "      <th>97501</th>\n",
       "      <td>A</td>\n",
       "      <td>0.176471</td>\n",
       "    </tr>\n",
       "    <tr>\n",
       "      <th>67756</th>\n",
       "      <td>A</td>\n",
       "      <td>0.529412</td>\n",
       "    </tr>\n",
       "  </tbody>\n",
       "</table>\n",
       "</div>"
      ],
      "text/plain": [
       "      country      poor\n",
       "id                     \n",
       "418         A  0.176471\n",
       "41249       A  0.117647\n",
       "16205       A  0.470588\n",
       "97501       A  0.176471\n",
       "67756       A  0.529412"
      ]
     },
     "execution_count": 68,
     "metadata": {},
     "output_type": "execute_result"
    }
   ],
   "source": [
    "a_sub = make_country_sub(a_prob, a_test, 'A')\n",
    "b_sub = make_country_sub(b_prob, b_test, 'B')\n",
    "c_sub = make_country_sub(c_prob, c_test, 'C')\n",
    "\n",
    "submission14 = pd.concat([a_sub, b_sub, c_sub])\n",
    "submission14.rename(columns={'country':'country_y', 'poor':'poor_y'}, inplace=True)\n",
    "s14 = submission.join(submission14, sort=False)\n",
    "s14.drop(['country_y', 'poor'], axis=1, inplace=True)\n",
    "s14.rename(columns={'poor_y':'poor'}, inplace=True)\n",
    "s14.head()"
   ]
  },
  {
   "cell_type": "code",
   "execution_count": 69,
   "metadata": {
    "collapsed": true
   },
   "outputs": [],
   "source": [
    "from sklearn.linear_model import LogisticRegression\n",
    "from sklearn.cross_validation import (StratifiedKFold, cross_val_score,\n",
    "                                      train_test_split)"
   ]
  },
  {
   "cell_type": "code",
   "execution_count": 84,
   "metadata": {},
   "outputs": [
    {
     "data": {
      "text/html": [
       "<div>\n",
       "<style>\n",
       "    .dataframe thead tr:only-child th {\n",
       "        text-align: right;\n",
       "    }\n",
       "\n",
       "    .dataframe thead th {\n",
       "        text-align: left;\n",
       "    }\n",
       "\n",
       "    .dataframe tbody tr th {\n",
       "        vertical-align: top;\n",
       "    }\n",
       "</style>\n",
       "<table border=\"1\" class=\"dataframe\">\n",
       "  <thead>\n",
       "    <tr style=\"text-align: right;\">\n",
       "      <th></th>\n",
       "      <th>country</th>\n",
       "      <th>poor</th>\n",
       "    </tr>\n",
       "    <tr>\n",
       "      <th>id</th>\n",
       "      <th></th>\n",
       "      <th></th>\n",
       "    </tr>\n",
       "  </thead>\n",
       "  <tbody>\n",
       "    <tr>\n",
       "      <th>418</th>\n",
       "      <td>A</td>\n",
       "      <td>1.310081e-07</td>\n",
       "    </tr>\n",
       "    <tr>\n",
       "      <th>41249</th>\n",
       "      <td>A</td>\n",
       "      <td>2.166442e-11</td>\n",
       "    </tr>\n",
       "    <tr>\n",
       "      <th>16205</th>\n",
       "      <td>A</td>\n",
       "      <td>2.179036e-06</td>\n",
       "    </tr>\n",
       "    <tr>\n",
       "      <th>97501</th>\n",
       "      <td>A</td>\n",
       "      <td>1.291727e-11</td>\n",
       "    </tr>\n",
       "    <tr>\n",
       "      <th>67756</th>\n",
       "      <td>A</td>\n",
       "      <td>1.184744e-07</td>\n",
       "    </tr>\n",
       "  </tbody>\n",
       "</table>\n",
       "</div>"
      ],
      "text/plain": [
       "      country          poor\n",
       "id                         \n",
       "418         A  1.310081e-07\n",
       "41249       A  2.166442e-11\n",
       "16205       A  2.179036e-06\n",
       "97501       A  1.291727e-11\n",
       "67756       A  1.184744e-07"
      ]
     },
     "execution_count": 84,
     "metadata": {},
     "output_type": "execute_result"
    }
   ],
   "source": [
    "logreg = LogisticRegression()\n",
    "\n",
    "logreg.fit(aX_train, ay_train)\n",
    "a_prob = logreg.predict_proba(a_test)\n",
    "logreg.fit(bX_train, by_train)\n",
    "b_prob = logreg.predict_proba(b_test)\n",
    "logreg.fit(cX_train, cy_train)\n",
    "c_prob = logreg.predict_proba(c_test)\n",
    "\n",
    "a_sub=make_country_sub(a_prob, a_test, 'A')\n",
    "b_sub= make_country_sub(b_prob, b_test, 'B')\n",
    "c_sub = make_country_sub(c_prob, c_test, 'C')\n",
    "\n",
    "submission3 = pd.concat([a_sub, b_sub, c_sub])\n",
    "submission3.rename(columns={'country':'country_y', 'poor':'poor_y'}, inplace=True)\n",
    "s3 = submission.join(submission3, sort=False)\n",
    "s3.drop(['country_y', 'poor'], axis=1, inplace=True)\n",
    "s3.rename(columns={'poor_y':'poor'}, inplace=True)\n",
    "s3.head()"
   ]
  },
  {
   "cell_type": "code",
   "execution_count": 94,
   "metadata": {},
   "outputs": [
    {
     "data": {
      "text/html": [
       "<div>\n",
       "<style>\n",
       "    .dataframe thead tr:only-child th {\n",
       "        text-align: right;\n",
       "    }\n",
       "\n",
       "    .dataframe thead th {\n",
       "        text-align: left;\n",
       "    }\n",
       "\n",
       "    .dataframe tbody tr th {\n",
       "        vertical-align: top;\n",
       "    }\n",
       "</style>\n",
       "<table border=\"1\" class=\"dataframe\">\n",
       "  <thead>\n",
       "    <tr style=\"text-align: right;\">\n",
       "      <th></th>\n",
       "      <th>country</th>\n",
       "      <th>poor</th>\n",
       "    </tr>\n",
       "    <tr>\n",
       "      <th>id</th>\n",
       "      <th></th>\n",
       "      <th></th>\n",
       "    </tr>\n",
       "  </thead>\n",
       "  <tbody>\n",
       "    <tr>\n",
       "      <th>418</th>\n",
       "      <td>A</td>\n",
       "      <td>1.769687e-07</td>\n",
       "    </tr>\n",
       "    <tr>\n",
       "      <th>41249</th>\n",
       "      <td>A</td>\n",
       "      <td>2.577805e-11</td>\n",
       "    </tr>\n",
       "    <tr>\n",
       "      <th>16205</th>\n",
       "      <td>A</td>\n",
       "      <td>2.246612e-06</td>\n",
       "    </tr>\n",
       "    <tr>\n",
       "      <th>97501</th>\n",
       "      <td>A</td>\n",
       "      <td>1.180038e-11</td>\n",
       "    </tr>\n",
       "    <tr>\n",
       "      <th>67756</th>\n",
       "      <td>A</td>\n",
       "      <td>1.495484e-07</td>\n",
       "    </tr>\n",
       "  </tbody>\n",
       "</table>\n",
       "</div>"
      ],
      "text/plain": [
       "      country          poor\n",
       "id                         \n",
       "418         A  1.769687e-07\n",
       "41249       A  2.577805e-11\n",
       "16205       A  2.246612e-06\n",
       "97501       A  1.180038e-11\n",
       "67756       A  1.495484e-07"
      ]
     },
     "execution_count": 94,
     "metadata": {},
     "output_type": "execute_result"
    }
   ],
   "source": [
    "logreg = LogisticRegression(class_weight = 'balanced')\n",
    "\n",
    "logreg.fit(aX_train, ay_train)\n",
    "a_prob = logreg.predict_proba(a_test)\n",
    "logreg.fit(bX_train, by_train)\n",
    "b_prob = logreg.predict_proba(b_test)\n",
    "logreg.fit(cX_train, cy_train)\n",
    "c_prob = logreg.predict_proba(c_test)\n",
    "\n",
    "a_sub=make_country_sub(a_prob, a_test, 'A')\n",
    "b_sub= make_country_sub(b_prob, b_test, 'B')\n",
    "c_sub = make_country_sub(c_prob, c_test, 'C')\n",
    "\n",
    "submission3_2 = pd.concat([a_sub, b_sub, c_sub])\n",
    "submission3_2.rename(columns={'country':'country_y', 'poor':'poor_y'}, inplace=True)\n",
    "s3_2 = submission.join(submission3_2, sort=False)\n",
    "s3_2.drop(['country_y', 'poor'], axis=1, inplace=True)\n",
    "s3_2.rename(columns={'poor_y':'poor'}, inplace=True)\n",
    "s3_2.head()"
   ]
  },
  {
   "cell_type": "code",
   "execution_count": 86,
   "metadata": {},
   "outputs": [
    {
     "data": {
      "text/html": [
       "<div>\n",
       "<style>\n",
       "    .dataframe thead tr:only-child th {\n",
       "        text-align: right;\n",
       "    }\n",
       "\n",
       "    .dataframe thead th {\n",
       "        text-align: left;\n",
       "    }\n",
       "\n",
       "    .dataframe tbody tr th {\n",
       "        vertical-align: top;\n",
       "    }\n",
       "</style>\n",
       "<table border=\"1\" class=\"dataframe\">\n",
       "  <thead>\n",
       "    <tr style=\"text-align: right;\">\n",
       "      <th></th>\n",
       "      <th>country</th>\n",
       "      <th>poor</th>\n",
       "    </tr>\n",
       "    <tr>\n",
       "      <th>id</th>\n",
       "      <th></th>\n",
       "      <th></th>\n",
       "    </tr>\n",
       "  </thead>\n",
       "  <tbody>\n",
       "    <tr>\n",
       "      <th>418</th>\n",
       "      <td>A</td>\n",
       "      <td>0.999922</td>\n",
       "    </tr>\n",
       "    <tr>\n",
       "      <th>41249</th>\n",
       "      <td>A</td>\n",
       "      <td>0.025788</td>\n",
       "    </tr>\n",
       "    <tr>\n",
       "      <th>16205</th>\n",
       "      <td>A</td>\n",
       "      <td>0.999807</td>\n",
       "    </tr>\n",
       "    <tr>\n",
       "      <th>97501</th>\n",
       "      <td>A</td>\n",
       "      <td>0.413522</td>\n",
       "    </tr>\n",
       "    <tr>\n",
       "      <th>67756</th>\n",
       "      <td>A</td>\n",
       "      <td>0.541310</td>\n",
       "    </tr>\n",
       "  </tbody>\n",
       "</table>\n",
       "</div>"
      ],
      "text/plain": [
       "      country      poor\n",
       "id                     \n",
       "418         A  0.999922\n",
       "41249       A  0.025788\n",
       "16205       A  0.999807\n",
       "97501       A  0.413522\n",
       "67756       A  0.541310"
      ]
     },
     "execution_count": 86,
     "metadata": {},
     "output_type": "execute_result"
    }
   ],
   "source": [
    "logreg = LogisticRegression()\n",
    "\n",
    "logreg.fit(aX_train_merge, ay_train)\n",
    "a_prob = logreg.predict_proba(a_test_merge)\n",
    "logreg.fit(bX_train_merge, by_train)\n",
    "b_prob = logreg.predict_proba(b_test_merge)\n",
    "logreg.fit(cX_train_merge, cy_train)\n",
    "c_prob = logreg.predict_proba(c_test_merge)\n",
    "\n",
    "a_sub=make_country_sub(a_prob, a_test_merge, 'A')\n",
    "b_sub= make_country_sub(b_prob, b_test_merge, 'B')\n",
    "c_sub = make_country_sub(c_prob, c_test_merge, 'C')\n",
    "\n",
    "submission4 = pd.concat([a_sub, b_sub, c_sub])\n",
    "submission4.rename(columns={'country':'country_y', 'poor':'poor_y'}, inplace=True)\n",
    "s4 = submission.join(submission4, sort=False)\n",
    "s4.drop(['country_y', 'poor'], axis=1, inplace=True)\n",
    "s4.rename(columns={'poor_y':'poor'}, inplace=True)\n",
    "s4.head()"
   ]
  },
  {
   "cell_type": "code",
   "execution_count": 88,
   "metadata": {},
   "outputs": [
    {
     "data": {
      "text/html": [
       "<div>\n",
       "<style>\n",
       "    .dataframe thead tr:only-child th {\n",
       "        text-align: right;\n",
       "    }\n",
       "\n",
       "    .dataframe thead th {\n",
       "        text-align: left;\n",
       "    }\n",
       "\n",
       "    .dataframe tbody tr th {\n",
       "        vertical-align: top;\n",
       "    }\n",
       "</style>\n",
       "<table border=\"1\" class=\"dataframe\">\n",
       "  <thead>\n",
       "    <tr style=\"text-align: right;\">\n",
       "      <th></th>\n",
       "      <th>country</th>\n",
       "      <th>poor</th>\n",
       "    </tr>\n",
       "    <tr>\n",
       "      <th>id</th>\n",
       "      <th></th>\n",
       "      <th></th>\n",
       "    </tr>\n",
       "  </thead>\n",
       "  <tbody>\n",
       "    <tr>\n",
       "      <th>418</th>\n",
       "      <td>A</td>\n",
       "      <td>0.999943</td>\n",
       "    </tr>\n",
       "    <tr>\n",
       "      <th>41249</th>\n",
       "      <td>A</td>\n",
       "      <td>0.029359</td>\n",
       "    </tr>\n",
       "    <tr>\n",
       "      <th>16205</th>\n",
       "      <td>A</td>\n",
       "      <td>0.999874</td>\n",
       "    </tr>\n",
       "    <tr>\n",
       "      <th>97501</th>\n",
       "      <td>A</td>\n",
       "      <td>0.456938</td>\n",
       "    </tr>\n",
       "    <tr>\n",
       "      <th>67756</th>\n",
       "      <td>A</td>\n",
       "      <td>0.600870</td>\n",
       "    </tr>\n",
       "  </tbody>\n",
       "</table>\n",
       "</div>"
      ],
      "text/plain": [
       "      country      poor\n",
       "id                     \n",
       "418         A  0.999943\n",
       "41249       A  0.029359\n",
       "16205       A  0.999874\n",
       "97501       A  0.456938\n",
       "67756       A  0.600870"
      ]
     },
     "execution_count": 88,
     "metadata": {},
     "output_type": "execute_result"
    }
   ],
   "source": [
    "logreg = LogisticRegression(class_weight='balanced')\n",
    "\n",
    "logreg.fit(aX_train_merge, ay_train)\n",
    "a_prob = logreg.predict_proba(a_test_merge)\n",
    "logreg.fit(bX_train_merge, by_train)\n",
    "b_prob = logreg.predict_proba(b_test_merge)\n",
    "logreg.fit(cX_train_merge, cy_train)\n",
    "c_prob = logreg.predict_proba(c_test_merge)\n",
    "\n",
    "a_sub=make_country_sub(a_prob, a_test_merge, 'A')\n",
    "b_sub= make_country_sub(b_prob, b_test_merge, 'B')\n",
    "c_sub = make_country_sub(c_prob, c_test_merge, 'C')\n",
    "\n",
    "submission4_2 = pd.concat([a_sub, b_sub, c_sub])\n",
    "submission4_2.rename(columns={'country':'country_y', 'poor':'poor_y'}, inplace=True)\n",
    "s4_2 = submission.join(submission4_2, sort=False)\n",
    "s4_2.drop(['country_y', 'poor'], axis=1, inplace=True)\n",
    "s4_2.rename(columns={'poor_y':'poor'}, inplace=True)\n",
    "s4_2.head()"
   ]
  },
  {
   "cell_type": "code",
   "execution_count": 196,
   "metadata": {},
   "outputs": [
    {
     "name": "stdout",
     "output_type": "stream",
     "text": [
      "Country A\n",
      "Accuracy of country A :  0.870307167235\n",
      "ROC of country A :  0.871396064139\n",
      "             precision    recall  f1-score   support\n",
      "\n",
      "      False       0.90      0.86      0.88      1146\n",
      "       True       0.83      0.88      0.86       905\n",
      "\n",
      "avg / total       0.87      0.87      0.87      2051\n",
      "\n",
      "Country B\n",
      "Accuracy of country B :  0.89312039312\n",
      "ROC of country B :  0.632792207792\n",
      "             precision    recall  f1-score   support\n",
      "\n",
      "      False       0.96      0.92      0.94       770\n",
      "       True       0.21      0.34      0.26        44\n",
      "\n",
      "avg / total       0.92      0.89      0.91       814\n",
      "\n",
      "Country C\n",
      "Accuracy of country C :  0.879480840544\n",
      "ROC of country C :  0.883771983615\n",
      "             precision    recall  f1-score   support\n",
      "\n",
      "      False       0.98      0.88      0.93      1382\n",
      "       True       0.55      0.89      0.68       236\n",
      "\n",
      "avg / total       0.92      0.88      0.89      1618\n",
      "\n"
     ]
    }
   ],
   "source": [
    "from sklearn.metrics import accuracy_score  \n",
    "from sklearn.preprocessing import StandardScaler\n",
    "from sklearn.metrics import roc_auc_score\n",
    "from sklearn.metrics import classification_report\n",
    "\n",
    "logreg = LogisticRegression(class_weight = 'balanced')\n",
    "\n",
    "logreg.fit(aX_sp_train, ay_sp_train)\n",
    "a_prob = logreg.predict_proba(aX_test)\n",
    "a_predict = logreg.predict(aX_test)\n",
    "a_accuracy = accuracy_score(ay_test, a_predict)\n",
    "print (\"Country A\")\n",
    "print(\"Accuracy of country A : \", a_accuracy)\n",
    "a_roc = roc_auc_score(ay_test, a_predict)\n",
    "print(\"ROC of country A : \", a_roc)\n",
    "print(metrics.classification_report(ay_test, a_predict))\n",
    "\n",
    "logreg.fit(bX_sp_train, by_sp_train)\n",
    "b_prob = logreg.predict_proba(bX_test)\n",
    "b_predict = logreg.predict(bX_test)\n",
    "b_accuracy = accuracy_score(by_test, b_predict)\n",
    "print (\"Country B\")\n",
    "print(\"Accuracy of country B : \", b_accuracy)\n",
    "b_roc = roc_auc_score(by_test, b_predict)\n",
    "print(\"ROC of country B : \", b_roc)\n",
    "print(metrics.classification_report(by_test, b_predict))\n",
    "\n",
    "logreg.fit(cX_sp_train, cy_sp_train)\n",
    "c_prob = logreg.predict_proba(cX_test)\n",
    "c_predict = logreg.predict(cX_test)\n",
    "c_accuracy = accuracy_score(cy_test, c_predict)\n",
    "print (\"Country C\")\n",
    "print(\"Accuracy of country C : \", c_accuracy)\n",
    "c_roc = roc_auc_score(cy_test, c_predict)\n",
    "print(\"ROC of country C : \", c_roc)\n",
    "print(metrics.classification_report(cy_test, c_predict))"
   ]
  },
  {
   "cell_type": "code",
   "execution_count": 202,
   "metadata": {},
   "outputs": [
    {
     "ename": "ModuleNotFoundError",
     "evalue": "No module named 'ggplot'",
     "output_type": "error",
     "traceback": [
      "\u001b[1;31m---------------------------------------------------------------------------\u001b[0m",
      "\u001b[1;31mModuleNotFoundError\u001b[0m                       Traceback (most recent call last)",
      "\u001b[1;32m<ipython-input-202-ee8c9ed6bc14>\u001b[0m in \u001b[0;36m<module>\u001b[1;34m()\u001b[0m\n\u001b[0;32m      1\u001b[0m \u001b[1;32mfrom\u001b[0m \u001b[0msklearn\u001b[0m \u001b[1;32mimport\u001b[0m \u001b[0mmetrics\u001b[0m\u001b[1;33m\u001b[0m\u001b[0m\n\u001b[0;32m      2\u001b[0m \u001b[1;32mimport\u001b[0m \u001b[0mpandas\u001b[0m \u001b[1;32mas\u001b[0m \u001b[0mpd\u001b[0m\u001b[1;33m\u001b[0m\u001b[0m\n\u001b[1;32m----> 3\u001b[1;33m \u001b[1;32mfrom\u001b[0m \u001b[0mggplot\u001b[0m \u001b[1;32mimport\u001b[0m \u001b[1;33m*\u001b[0m\u001b[1;33m\u001b[0m\u001b[0m\n\u001b[0m\u001b[0;32m      4\u001b[0m \u001b[1;33m\u001b[0m\u001b[0m\n\u001b[0;32m      5\u001b[0m \u001b[0ma_pred\u001b[0m \u001b[1;33m=\u001b[0m \u001b[0mlogreg\u001b[0m\u001b[1;33m.\u001b[0m\u001b[0mpredict_proba\u001b[0m\u001b[1;33m(\u001b[0m\u001b[0mXtest\u001b[0m\u001b[1;33m)\u001b[0m\u001b[1;33m[\u001b[0m\u001b[1;33m:\u001b[0m\u001b[1;33m,\u001b[0m\u001b[1;36m1\u001b[0m\u001b[1;33m]\u001b[0m\u001b[1;33m\u001b[0m\u001b[0m\n",
      "\u001b[1;31mModuleNotFoundError\u001b[0m: No module named 'ggplot'"
     ]
    }
   ],
   "source": [
    "from sklearn import metrics\n",
    "import pandas as pd\n",
    "from ggplot import *\n",
    "\n",
    "a_pred = logreg.predict_proba(Xtest)[:,1]\n",
    "fpr, tpr, _ = metrics.roc_curve(ay_test, a_pred)\n",
    "\n",
    "df = pd.DataFrame(dict(fpr=fpr, tpr=tpr))\n",
    "ggplot(df, aes(x='fpr', y='tpr')) +\\\n",
    "    geom_line() +\\\n",
    "    geom_abline(linetype='dashed')"
   ]
  },
  {
   "cell_type": "code",
   "execution_count": 154,
   "metadata": {},
   "outputs": [
    {
     "name": "stdout",
     "output_type": "stream",
     "text": [
      "Country A:  0.857630424183\n",
      "             precision    recall  f1-score   support\n",
      "\n",
      "      False       0.87      0.87      0.87      1146\n",
      "       True       0.84      0.84      0.84       905\n",
      "\n",
      "avg / total       0.86      0.86      0.86      2051\n",
      "\n",
      "Country B:  0.944717444717\n",
      "             precision    recall  f1-score   support\n",
      "\n",
      "      False       0.95      0.99      0.97       770\n",
      "       True       0.45      0.11      0.18        44\n",
      "\n",
      "avg / total       0.92      0.94      0.93       814\n",
      "\n",
      "Country C:  0.996291718171\n",
      "             precision    recall  f1-score   support\n",
      "\n",
      "      False       1.00      1.00      1.00      1382\n",
      "       True       0.99      0.98      0.99       236\n",
      "\n",
      "avg / total       1.00      1.00      1.00      1618\n",
      "\n"
     ]
    }
   ],
   "source": [
    "from xgboost import XGBClassifier\n",
    "from sklearn.metrics import log_loss\n",
    "\n",
    "model = XGBClassifier()\n",
    "model.fit(aX_sp_train, ay_sp_train)\n",
    "a_predict = model.predict(aX_test)\n",
    "\n",
    "a_accuracy = accuracy_score(ay_test, a_predict)\n",
    "print(\"Country A: \", a_accuracy)\n",
    "print(metrics.classification_report(ay_test, a_predict))\n",
    "\n",
    "model.fit(bX_sp_train, by_sp_train)\n",
    "b_predict = model.predict(bX_test)\n",
    "\n",
    "b_accuracy = accuracy_score(by_test, b_predict)\n",
    "print(\"Country B: \", b_accuracy)\n",
    "print(metrics.classification_report(by_test, b_predict))\n",
    "\n",
    "model.fit(cX_sp_train, cy_sp_train)\n",
    "c_predict = model.predict(cX_test)\n",
    "\n",
    "c_accuracy = accuracy_score(cy_test, c_predict)\n",
    "print(\"Country C: \", c_accuracy)\n",
    "print(metrics.classification_report(cy_test, c_predict))\n"
   ]
  },
  {
   "cell_type": "code",
   "execution_count": 155,
   "metadata": {},
   "outputs": [
    {
     "name": "stdout",
     "output_type": "stream",
     "text": [
      "With isotonic calibration: 0.094\n",
      "With isotonic calibration: 0.049\n",
      "With isotonic calibration: 0.062\n",
      "Country A:  0.873232569478\n",
      "             precision    recall  f1-score   support\n",
      "\n",
      "      False       0.90      0.88      0.89      1146\n",
      "       True       0.85      0.87      0.86       905\n",
      "\n",
      "avg / total       0.87      0.87      0.87      2051\n",
      "\n",
      "Country B:  0.945945945946\n",
      "             precision    recall  f1-score   support\n",
      "\n",
      "      False       0.95      1.00      0.97       770\n",
      "       True       0.50      0.02      0.04        44\n",
      "\n",
      "avg / total       0.92      0.95      0.92       814\n",
      "\n",
      "Country C:  0.912237330037\n",
      "             precision    recall  f1-score   support\n",
      "\n",
      "      False       0.94      0.96      0.95      1382\n",
      "       True       0.73      0.63      0.68       236\n",
      "\n",
      "avg / total       0.91      0.91      0.91      1618\n",
      "\n"
     ]
    }
   ],
   "source": [
    "from sklearn.calibration import CalibratedClassifierCV\n",
    "from sklearn.metrics import brier_score_loss\n",
    "\n",
    "clf = svm.SVC(kernel='linear', C=1, probability=True)\n",
    "a_clf_isotonic = CalibratedClassifierCV(clf, cv=5, method='isotonic')\n",
    "a_clf_isotonic.fit(aX_sp_train, ay_sp_train)\n",
    "\n",
    "a_prob_pos_isotonic = a_clf_isotonic.predict_proba(aX_test)[:, 1]\n",
    "a_clf_isotonic_score = brier_score_loss(ay_test, a_prob_pos_isotonic)\n",
    "print(\"With isotonic calibration: %1.3f\" % a_clf_isotonic_score)\n",
    "\n",
    "\n",
    "b_clf_isotonic = CalibratedClassifierCV(clf, cv=5, method='isotonic')\n",
    "b_clf_isotonic.fit(bX_sp_train, by_sp_train)\n",
    "\n",
    "b_prob_pos_isotonic = b_clf_isotonic.predict_proba(bX_test)[:, 1]\n",
    "b_clf_isotonic_score = brier_score_loss(by_test, b_prob_pos_isotonic)\n",
    "print(\"With isotonic calibration: %1.3f\" % b_clf_isotonic_score)\n",
    "\n",
    "c_clf_isotonic = CalibratedClassifierCV(clf, cv=5, method='isotonic')\n",
    "c_clf_isotonic.fit(cX_sp_train, cy_sp_train)\n",
    "\n",
    "c_prob_pos_isotonic = c_clf_isotonic.predict_proba(cX_test)[:, 1]\n",
    "c_clf_isotonic_score = brier_score_loss(cy_test, c_prob_pos_isotonic)\n",
    "print(\"With isotonic calibration: %1.3f\" % c_clf_isotonic_score)\n",
    "\n",
    "a_predict = a_clf_isotonic.predict(aX_test)\n",
    "b_predict = b_clf_isotonic.predict(bX_test)\n",
    "c_predict = c_clf_isotonic.predict(cX_test)\n",
    "\n",
    "a_accuracy = accuracy_score(ay_test, a_predict)\n",
    "print(\"Country A: \", a_accuracy)\n",
    "print(metrics.classification_report(ay_test, a_predict))\n",
    "\n",
    "b_accuracy = accuracy_score(by_test, b_predict)\n",
    "print(\"Country B: \", b_accuracy)\n",
    "print(metrics.classification_report(by_test, b_predict))\n",
    "\n",
    "c_accuracy = accuracy_score(cy_test, c_predict)\n",
    "print(\"Country C: \", c_accuracy)\n",
    "print(metrics.classification_report(cy_test, c_predict))"
   ]
  },
  {
   "cell_type": "code",
   "execution_count": 164,
   "metadata": {},
   "outputs": [
    {
     "data": {
      "image/png": "[encoded data removed]",
      "text/plain": [
       "<matplotlib.figure.Figure at 0x192b49110b8>"
      ]
     },
     "metadata": {},
     "output_type": "display_data"
    }
   ],
   "source": [
    "import numpy as np\n",
    "import matplotlib.pyplot as plt\n",
    "from itertools import cycle\n",
    "\n",
    "from sklearn import svm, datasets\n",
    "from sklearn.metrics import roc_curve, auc\n",
    "from sklearn.model_selection import train_test_split\n",
    "from sklearn.preprocessing import label_binarize\n",
    "from sklearn.multiclass import OneVsRestClassifier\n",
    "from scipy import interp\n",
    "\n",
    "# Import some data to play with\n",
    "iris = datasets.load_iris()\n",
    "X = iris.data\n",
    "y = iris.target\n",
    "\n",
    "# Binarize the output\n",
    "y = label_binarize(y, classes=[0, 1, 2])\n",
    "n_classes = y.shape[1]\n",
    "\n",
    "# Add noisy features to make the problem harder\n",
    "random_state = np.random.RandomState(0)\n",
    "n_samples, n_features = X.shape\n",
    "X = np.c_[X, random_state.randn(n_samples, 200 * n_features)]\n",
    "\n",
    "# shuffle and split training and test sets\n",
    "X_train, X_test, y_train, y_test = train_test_split(X, y, test_size=.5,\n",
    "                                                    random_state=0)\n",
    "\n",
    "# Learn to predict each class against the other\n",
    "classifier = OneVsRestClassifier(svm.SVC(kernel='linear', probability=True,\n",
    "                                 random_state=random_state))\n",
    "y_score = classifier.fit(X_train, y_train).decision_function(X_test)\n",
    "\n",
    "# Compute ROC curve and ROC area for each class\n",
    "fpr = dict()\n",
    "tpr = dict()\n",
    "roc_auc = dict()\n",
    "for i in range(n_classes):\n",
    "    fpr[i], tpr[i], _ = roc_curve(y_test[:, i], y_score[:, i])\n",
    "    roc_auc[i] = auc(fpr[i], tpr[i])\n",
    "\n",
    "# Compute micro-average ROC curve and ROC area\n",
    "fpr[\"micro\"], tpr[\"micro\"], _ = roc_curve(y_test.ravel(), y_score.ravel())\n",
    "roc_auc[\"micro\"] = auc(fpr[\"micro\"], tpr[\"micro\"])\n",
    "\n",
    "plt.figure()\n",
    "lw = 2\n",
    "plt.plot(fpr[2], tpr[2], color='darkorange',\n",
    "         lw=lw, label='ROC curve (area = %0.2f)' % roc_auc[2])\n",
    "plt.plot([0, 1], [0, 1], color='navy', lw=lw, linestyle='--')\n",
    "plt.xlim([0.0, 1.0])\n",
    "plt.ylim([0.0, 1.05])\n",
    "plt.xlabel('False Positive Rate')\n",
    "plt.ylabel('True Positive Rate')\n",
    "plt.title('Receiver operating characteristic example')\n",
    "plt.legend(loc=\"lower right\")\n",
    "plt.show()"
   ]
  },
  {
   "cell_type": "code",
   "execution_count": 168,
   "metadata": {},
   "outputs": [
    {
     "data": {
      "text/plain": [
       "array([[0, 0, 1],\n",
       "       [0, 1, 0],\n",
       "       [1, 0, 0],\n",
       "       [0, 0, 1],\n",
       "       [1, 0, 0],\n",
       "       [0, 0, 1],\n",
       "       [1, 0, 0],\n",
       "       [0, 1, 0],\n",
       "       [0, 1, 0],\n",
       "       [0, 1, 0]])"
      ]
     },
     "execution_count": 168,
     "metadata": {},
     "output_type": "execute_result"
    }
   ],
   "source": [
    "y_test[0:10]"
   ]
  },
  {
   "cell_type": "code",
   "execution_count": 185,
   "metadata": {},
   "outputs": [],
   "source": [
    "ay_binary_test = label_binarize(ay_test, classes=[0, 1])\n",
    "n_classes = ay_binary_test.shape[1]"
   ]
  },
  {
   "cell_type": "code",
   "execution_count": 193,
   "metadata": {
    "collapsed": true
   },
   "outputs": [],
   "source": [
    "#building 7 models\n",
    "def Super_Fit_Models():\n",
    "    from sklearn.linear_model import LogisticRegression\n",
    "    from sklearn.tree import DecisionTreeClassifier\n",
    "    from sklearn.ensemble import RandomForestClassifier\n",
    "    from sklearn.neighbors import KNeighborsClassifier\n",
    "    from sklearn.discriminant_analysis import LinearDiscriminantAnalysis, QuadraticDiscriminantAnalysis\n",
    "    from sklearn.svm import SVC\n",
    "    from sklearn.naive_bayes import GaussianNB   \n",
    "  # prepare configuration for cross validation test harness\n",
    "    seed = 7\n",
    "  # prepare models\n",
    "    models = []\n",
    "    models.append(('LR', LogisticRegression()))\n",
    "    models.append(('LDA', LinearDiscriminantAnalysis()))\n",
    "    models.append(('KNN', KNeighborsClassifier()))\n",
    "    models.append(('CART', DecisionTreeClassifier()))\n",
    "    models.append(('NB', GaussianNB()))\n",
    "    models.append(('SVM', SVC()))\n",
    "    models.append(('RF', RandomForestClassifier()))\n",
    "  # evaluate each model in turn\n",
    "    results = []\n",
    "    names = []\n",
    "    scoring = 'accuracy'\n",
    "    for name, model in models:\n",
    "        kfold = model_selection.KFold(n_splits=5, random_state=seed)\n",
    "        cv_results = model_selection.cross_val_score(model, aX_sp_train, ay_sp_train, cv=kfold, scoring=scoring)\n",
    "        results.append(cv_results)\n",
    "        names.append(name)\n",
    "        msg = \"%s: %f (%f)\" % (name, cv_results.mean(), cv_results.std())\n",
    "        print(msg)\n",
    "  # boxplot algorithm comparison\n",
    "    fig = plt.figure()\n",
    "    fig.suptitle('Algorithm Comparison')\n",
    "    ax = fig.add_subplot(111)\n",
    "    plt.boxplot(results)\n",
    "    ax.set_xticklabels(names)\n",
    "    plt.show()"
   ]
  },
  {
   "cell_type": "code",
   "execution_count": null,
   "metadata": {
    "collapsed": true
   },
   "outputs": [],
   "source": []
  }
 ],
 "metadata": {
  "kernelspec": {
   "display_name": "Python [conda env:PythonData]",
   "language": "python",
   "name": "conda-env-PythonData-py"
  },
  "language_info": {
   "codemirror_mode": {
    "name": "ipython",
    "version": 3
   },
   "file_extension": ".py",
   "mimetype": "text/x-python",
   "name": "python",
   "nbconvert_exporter": "python",
   "pygments_lexer": "ipython3",
   "version": "3.6.2"
  }
 },
 "nbformat": 4,
 "nbformat_minor": 2
}
