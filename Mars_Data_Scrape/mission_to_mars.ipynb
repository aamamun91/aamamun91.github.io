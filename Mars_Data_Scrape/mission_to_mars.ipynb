{
 "cells": [
  {
   "cell_type": "code",
   "execution_count": 1,
   "metadata": {
    "collapsed": true
   },
   "outputs": [],
   "source": [
    "from bs4 import BeautifulSoup\n",
    "import requests\n",
    "import pymongo\n",
    "import time\n",
    "from splinter import Browser\n",
    "import pandas as pd"
   ]
  },
  {
   "cell_type": "code",
   "execution_count": 2,
   "metadata": {},
   "outputs": [],
   "source": [
    "marsDict={}\n",
    "executable_path = {'executable_path': 'chromedriver'}\n",
    "browser = Browser('chrome', **executable_path, headless=True)"
   ]
  },
  {
   "cell_type": "code",
   "execution_count": 3,
   "metadata": {
    "collapsed": true
   },
   "outputs": [],
   "source": [
    "nasa_url = 'https://mars.nasa.gov/news/'\n",
    "browser.visit(nasa_url)\n",
    "time.sleep(1)\n",
    "html = browser.html"
   ]
  },
  {
   "cell_type": "code",
   "execution_count": 4,
   "metadata": {
    "collapsed": true
   },
   "outputs": [],
   "source": [
    "# Create BeautifulSoup object; parse with 'html.parser'\n",
    "nasa_soup = BeautifulSoup(html, 'html.parser')\n",
    "news_title = nasa_soup.find(\"div\", class_=\"content_title\").get_text()\n",
    "news_p = nasa_soup.find(\"div\", class_=\"rollover_description\").get_text()"
   ]
  },
  {
   "cell_type": "code",
   "execution_count": 5,
   "metadata": {},
   "outputs": [
    {
     "data": {
      "text/plain": [
       "'Mars Mission Sheds Light on Habitability of Distant Planets'"
      ]
     },
     "execution_count": 5,
     "metadata": {},
     "output_type": "execute_result"
    }
   ],
   "source": [
    "news_title"
   ]
  },
  {
   "cell_type": "code",
   "execution_count": 6,
   "metadata": {},
   "outputs": [
    {
     "data": {
      "text/plain": [
       "'How long might a rocky, Mars-like planet be habitable if it were orbiting a red dwarf star?'"
      ]
     },
     "execution_count": 6,
     "metadata": {},
     "output_type": "execute_result"
    }
   ],
   "source": [
    "news_p"
   ]
  },
  {
   "cell_type": "code",
   "execution_count": 7,
   "metadata": {},
   "outputs": [
    {
     "name": "stdout",
     "output_type": "stream",
     "text": [
      "News scraped\n"
     ]
    }
   ],
   "source": [
    "marsDict['news_title'] = news_title\n",
    "marsDict['news_teaser'] = news_p\n",
    "print(\"News scraped\")"
   ]
  },
  {
   "cell_type": "code",
   "execution_count": 8,
   "metadata": {},
   "outputs": [],
   "source": [
    "jpl_url = 'https://www.jpl.nasa.gov/spaceimages/?search=&category=Mars'\n",
    "baseUrl = 'https://www.jpl.nasa.gov'\n",
    "browser.visit(jpl_url)\n",
    "browser.click_link_by_partial_text('FULL IMAGE')\n",
    "jplhtml = browser.html"
   ]
  },
  {
   "cell_type": "code",
   "execution_count": 9,
   "metadata": {},
   "outputs": [
    {
     "name": "stdout",
     "output_type": "stream",
     "text": [
      "Featured image scraped\n"
     ]
    }
   ],
   "source": [
    "jpl_soup = BeautifulSoup(jplhtml, 'html.parser')\n",
    "more_info = jpl_soup.find('a', class_='button fancybox').get('data-link')\n",
    "more_info = baseUrl + more_info\n",
    "browser.visit(more_info)\n",
    "moreinfohtml = browser.html\n",
    "moreinfosoup = BeautifulSoup(moreinfohtml, 'html.parser')\n",
    "figure = moreinfosoup.find('figure', class_='lede')\n",
    "featured_image_url = figure.find('a').get('href')\n",
    "featured_image_url = baseUrl + featured_image_url\n",
    "marsDict['featured_image_url'] = featured_image_url\n",
    "print(\"Featured image scraped\")"
   ]
  },
  {
   "cell_type": "code",
   "execution_count": 10,
   "metadata": {},
   "outputs": [
    {
     "data": {
      "text/plain": [
       "{'featured_image_url': 'https://www.jpl.nasa.gov/spaceimages/images/largesize/PIA18899_hires.jpg',\n",
       " 'news_teaser': 'How long might a rocky, Mars-like planet be habitable if it were orbiting a red dwarf star?',\n",
       " 'news_title': 'Mars Mission Sheds Light on Habitability of Distant Planets'}"
      ]
     },
     "execution_count": 10,
     "metadata": {},
     "output_type": "execute_result"
    }
   ],
   "source": [
    "marsDict"
   ]
  },
  {
   "cell_type": "code",
   "execution_count": 11,
   "metadata": {
    "collapsed": true
   },
   "outputs": [],
   "source": [
    "mars_weather_url ='https://twitter.com/marswxreport?lang=en'\n",
    "browser.visit(mars_weather_url)\n",
    "mars_weather_html = browser.html\n",
    "mars_weather_soup = BeautifulSoup(mars_weather_html, 'html.parser')\n",
    "mars_weather_tweet = mars_weather_soup.find(\"p\", class_=\"TweetTextSize TweetTextSize--normal js-tweet-text tweet-text\").get_text()\n",
    "mars_weather = mars_weather_tweet"
   ]
  },
  {
   "cell_type": "code",
   "execution_count": 12,
   "metadata": {},
   "outputs": [
    {
     "data": {
      "text/plain": [
       "'Sol 1924 (Jan 03, 2018), Sunny, high -21C/-5F, low -78C/-108F, pressure at 7.77 hPa, daylight 05:47-17:30'"
      ]
     },
     "execution_count": 12,
     "metadata": {},
     "output_type": "execute_result"
    }
   ],
   "source": [
    "mars_weather_tweet"
   ]
  },
  {
   "cell_type": "code",
   "execution_count": 13,
   "metadata": {},
   "outputs": [
    {
     "name": "stdout",
     "output_type": "stream",
     "text": [
      "Weather scraped\n"
     ]
    }
   ],
   "source": [
    "marsDict['mars_weather'] = mars_weather_tweet\n",
    "print(\"Weather scraped\")"
   ]
  },
  {
   "cell_type": "code",
   "execution_count": 14,
   "metadata": {
    "collapsed": true
   },
   "outputs": [],
   "source": [
    "imageurl = 'https://space-facts.com/mars/'\n",
    "browser.visit(imageurl)\n",
    "soup = BeautifulSoup(browser.html,'html5lib')\n",
    "table = soup.find('table',class_=\"tablepress tablepress-id-mars\")\n",
    "df = pd.read_html(str(table))\n",
    "tableHTML = df[0].to_html(index=False, escape=True, header=None)"
   ]
  },
  {
   "cell_type": "code",
   "execution_count": 15,
   "metadata": {},
   "outputs": [
    {
     "name": "stdout",
     "output_type": "stream",
     "text": [
      "Fact table scraped\n"
     ]
    }
   ],
   "source": [
    "htmlTable = tableHTML.replace('\\n', '')\n",
    "marsDict['factTable'] = htmlTable\n",
    "print(\"Fact table scraped\")"
   ]
  },
  {
   "cell_type": "code",
   "execution_count": 16,
   "metadata": {},
   "outputs": [
    {
     "data": {
      "text/plain": [
       "{'factTable': '<table border=\"1\" class=\"dataframe\">  <tbody>    <tr>      <td>Equatorial Diameter:</td>      <td>6,792 km</td>    </tr>    <tr>      <td>Polar Diameter:</td>      <td>6,752 km</td>    </tr>    <tr>      <td>Mass:</td>      <td>6.42 x 10^23 kg (10.7% Earth)</td>    </tr>    <tr>      <td>Moons:</td>      <td>2 (Phobos &amp; Deimos)</td>    </tr>    <tr>      <td>Orbit Distance:</td>      <td>227,943,824 km (1.52 AU)</td>    </tr>    <tr>      <td>Orbit Period:</td>      <td>687 days (1.9 years)</td>    </tr>    <tr>      <td>Surface Temperature:</td>      <td>-153 to 20 °C</td>    </tr>    <tr>      <td>First Record:</td>      <td>2nd millennium BC</td>    </tr>    <tr>      <td>Recorded By:</td>      <td>Egyptian astronomers</td>    </tr>  </tbody></table>',\n",
       " 'featured_image_url': 'https://www.jpl.nasa.gov/spaceimages/images/largesize/PIA18899_hires.jpg',\n",
       " 'mars_weather': 'Sol 1924 (Jan 03, 2018), Sunny, high -21C/-5F, low -78C/-108F, pressure at 7.77 hPa, daylight 05:47-17:30',\n",
       " 'news_teaser': 'How long might a rocky, Mars-like planet be habitable if it were orbiting a red dwarf star?',\n",
       " 'news_title': 'Mars Mission Sheds Light on Habitability of Distant Planets'}"
      ]
     },
     "execution_count": 16,
     "metadata": {},
     "output_type": "execute_result"
    }
   ],
   "source": [
    "marsDict"
   ]
  },
  {
   "cell_type": "code",
   "execution_count": 17,
   "metadata": {
    "collapsed": true
   },
   "outputs": [],
   "source": [
    "hemispheresurl = 'https://astrogeology.usgs.gov/search/results?q=hemisphere+enhanced&k1=target&v1=Mars'\n",
    "hemisphereBaseUrl = 'https://astrogeology.usgs.gov'\n",
    "browser.visit(hemispheresurl)\n",
    "soup = BeautifulSoup(browser.html,'html5lib')\n",
    "hemispheres = soup.find('div', class_='collapsible results').find_all('a')\n",
    "hemisphere_image_urls = []\n",
    "hemispheredict = {}"
   ]
  },
  {
   "cell_type": "code",
   "execution_count": 18,
   "metadata": {
    "collapsed": true
   },
   "outputs": [],
   "source": [
    "for hemisphere in hemispheres:\n",
    "    hemisphereLink = hemisphere.get('href')\n",
    "    browser.visit(hemisphereBaseUrl + hemisphereLink)\n",
    "    soup = BeautifulSoup(browser.html, 'html.parser')\n",
    "    title = soup.find('title').text\n",
    "    hemisphereTitle = title.split('|')\n",
    "    hemisphereTitle = hemisphereTitle[0].replace(' Enhanced ','')\n",
    "    imgUrl = soup.find('img',class_='wide-image').get('src')\n",
    "    imgUrl = hemisphereBaseUrl + imgUrl\n",
    "    hemispheredict = {\"title\": hemisphereTitle, \"img_url\":imgUrl}\n",
    "    hemisphere_image_urls.append(hemispheredict)"
   ]
  },
  {
   "cell_type": "code",
   "execution_count": 19,
   "metadata": {},
   "outputs": [
    {
     "name": "stdout",
     "output_type": "stream",
     "text": [
      "Hemispheres scraped\n",
      "{'news_title': 'Mars Mission Sheds Light on Habitability of Distant Planets', 'news_teaser': 'How long might a rocky, Mars-like planet be habitable if it were orbiting a red dwarf star?', 'featured_image_url': 'https://www.jpl.nasa.gov/spaceimages/images/largesize/PIA18899_hires.jpg', 'mars_weather': 'Sol 1924 (Jan 03, 2018), Sunny, high -21C/-5F, low -78C/-108F, pressure at 7.77 hPa, daylight 05:47-17:30', 'factTable': '<table border=\"1\" class=\"dataframe\">  <tbody>    <tr>      <td>Equatorial Diameter:</td>      <td>6,792 km</td>    </tr>    <tr>      <td>Polar Diameter:</td>      <td>6,752 km</td>    </tr>    <tr>      <td>Mass:</td>      <td>6.42 x 10^23 kg (10.7% Earth)</td>    </tr>    <tr>      <td>Moons:</td>      <td>2 (Phobos &amp; Deimos)</td>    </tr>    <tr>      <td>Orbit Distance:</td>      <td>227,943,824 km (1.52 AU)</td>    </tr>    <tr>      <td>Orbit Period:</td>      <td>687 days (1.9 years)</td>    </tr>    <tr>      <td>Surface Temperature:</td>      <td>-153 to 20 °C</td>    </tr>    <tr>      <td>First Record:</td>      <td>2nd millennium BC</td>    </tr>    <tr>      <td>Recorded By:</td>      <td>Egyptian astronomers</td>    </tr>  </tbody></table>', 'HemisphereImages': [{'title': 'Cerberus Hemisphere', 'img_url': 'https://astrogeology.usgs.gov/cache/images/cfa62af2557222a02478f1fcd781d445_cerberus_enhanced.tif_full.jpg'}, {'title': 'Schiaparelli Hemisphere', 'img_url': 'https://astrogeology.usgs.gov/cache/images/3cdd1cbf5e0813bba925c9030d13b62e_schiaparelli_enhanced.tif_full.jpg'}, {'title': 'Syrtis Major Hemisphere', 'img_url': 'https://astrogeology.usgs.gov/cache/images/ae209b4e408bb6c3e67b6af38168cf28_syrtis_major_enhanced.tif_full.jpg'}, {'title': 'Valles Marineris Hemisphere', 'img_url': 'https://astrogeology.usgs.gov/cache/images/7cf2da4bf549ed01c17f206327be4db7_valles_marineris_enhanced.tif_full.jpg'}]}\n"
     ]
    }
   ],
   "source": [
    "marsDict['HemisphereImages'] = hemisphere_image_urls\n",
    "print(\"Hemispheres scraped\")\n",
    "print(marsDict)"
   ]
  },
  {
   "cell_type": "code",
   "execution_count": null,
   "metadata": {
    "collapsed": true
   },
   "outputs": [],
   "source": []
  }
 ],
 "metadata": {
  "kernelspec": {
   "display_name": "Python [conda env:PythonData]",
   "language": "python",
   "name": "conda-env-PythonData-py"
  },
  "language_info": {
   "codemirror_mode": {
    "name": "ipython",
    "version": 3
   },
   "file_extension": ".py",
   "mimetype": "text/x-python",
   "name": "python",
   "nbconvert_exporter": "python",
   "pygments_lexer": "ipython3",
   "version": "3.6.2"
  }
 },
 "nbformat": 4,
 "nbformat_minor": 2
}
