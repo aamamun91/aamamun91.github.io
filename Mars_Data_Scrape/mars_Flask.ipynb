{
 "cells": [
  {
   "cell_type": "code",
   "execution_count": 1,
   "metadata": {
    "collapsed": true
   },
   "outputs": [],
   "source": [
    "from flask import Flask, jsonify, render_template, redirect\n",
    "import scrape_mars\n",
    "import pymongo\n",
    "import subprocess\n",
    "import os\n",
    "from pprint import pprint"
   ]
  },
  {
   "cell_type": "code",
   "execution_count": 2,
   "metadata": {
    "collapsed": true
   },
   "outputs": [],
   "source": [
    "# Flask setup\n",
    "app = Flask(__name__)"
   ]
  },
  {
   "cell_type": "code",
   "execution_count": 3,
   "metadata": {
    "collapsed": true
   },
   "outputs": [],
   "source": [
    "mongod = subprocess.Popen(\"mongod --dbpath {0}\".format(\"c:\\data\\db\"), shell=False)"
   ]
  },
  {
   "cell_type": "code",
   "execution_count": 4,
   "metadata": {
    "collapsed": true
   },
   "outputs": [],
   "source": [
    "conn = 'mongodb://localhost:27017'\n",
    "client = pymongo.MongoClient(conn)\n",
    "db = client.mars_scrape\n",
    "collection = db.mars"
   ]
  },
  {
   "cell_type": "code",
   "execution_count": 5,
   "metadata": {},
   "outputs": [
    {
     "name": "stdout",
     "output_type": "stream",
     "text": [
      "None\n"
     ]
    }
   ],
   "source": [
    "mars = collection.find_one()\n",
    "print(mars)\n",
    "mongod.terminate()"
   ]
  },
  {
   "cell_type": "code",
   "execution_count": 6,
   "metadata": {},
   "outputs": [
    {
     "name": "stdout",
     "output_type": "stream",
     "text": [
      "Scraping Mars data...\n"
     ]
    }
   ],
   "source": [
    "print('Scraping Mars data...')"
   ]
  },
  {
   "cell_type": "code",
   "execution_count": 7,
   "metadata": {
    "collapsed": true
   },
   "outputs": [],
   "source": [
    "# if we don't do this, we need to manually kick off mongod in cmd line\n",
    "mongod = subprocess.Popen(\"mongod --dbpath {0}\".format(\"c:\\data\\db\"),shell=False)"
   ]
  },
  {
   "cell_type": "code",
   "execution_count": 8,
   "metadata": {
    "collapsed": true
   },
   "outputs": [],
   "source": [
    "conn = 'mongodb://localhost:27017'\n",
    "client = pymongo.MongoClient(conn)\n",
    "db = client.mars_scrape\n",
    "collection = db.mars"
   ]
  },
  {
   "cell_type": "code",
   "execution_count": 9,
   "metadata": {},
   "outputs": [
    {
     "name": "stdout",
     "output_type": "stream",
     "text": [
      "News scraped\n",
      "Featured image scraped\n",
      "Weather scraped\n",
      "Fact table scraped\n",
      "Hemispheres scraped\n",
      "{'news_title': \"\\n\\nNext Mars Rover Will Have 23 'Eyes'\\n\\n\", 'news_teaser': \"\\n\\nWhen NASA's Mars Pathfinder touched down in 1997, it had five cameras: two on a mast that popped up from the lander, and three on NASA's first rover, Sojourner.\\n\\n\\n\\n\\n\", 'featured_image_url': 'https://www.jpl.nasa.gov/spaceimages/images/largesize/PIA17551_hires.jpg', 'mars_weather': 'Sol 1924 (Jan 03, 2018), Sunny, high -21C/-5F, low -78C/-108F, pressure at 7.77 hPa, daylight 05:47-17:30', 'factTable': '<table border=\"1\" class=\"dataframe\">  <tbody>    <tr>      <td>Equatorial Diameter:</td>      <td>6,792 km</td>    </tr>    <tr>      <td>Polar Diameter:</td>      <td>6,752 km</td>    </tr>    <tr>      <td>Mass:</td>      <td>6.42 x 10^23 kg (10.7% Earth)</td>    </tr>    <tr>      <td>Moons:</td>      <td>2 (Phobos &amp; Deimos)</td>    </tr>    <tr>      <td>Orbit Distance:</td>      <td>227,943,824 km (1.52 AU)</td>    </tr>    <tr>      <td>Orbit Period:</td>      <td>687 days (1.9 years)</td>    </tr>    <tr>      <td>Surface Temperature:</td>      <td>-153 to 20 °C</td>    </tr>    <tr>      <td>First Record:</td>      <td>2nd millennium BC</td>    </tr>    <tr>      <td>Recorded By:</td>      <td>Egyptian astronomers</td>    </tr>  </tbody></table>', 'HemisphereImages': [{'title': 'Cerberus Hemisphere', 'img_url': 'https://astrogeology.usgs.gov/cache/images/cfa62af2557222a02478f1fcd781d445_cerberus_enhanced.tif_full.jpg'}, {'title': 'Schiaparelli Hemisphere', 'img_url': 'https://astrogeology.usgs.gov/cache/images/3cdd1cbf5e0813bba925c9030d13b62e_schiaparelli_enhanced.tif_full.jpg'}, {'title': 'Syrtis Major Hemisphere', 'img_url': 'https://astrogeology.usgs.gov/cache/images/ae209b4e408bb6c3e67b6af38168cf28_syrtis_major_enhanced.tif_full.jpg'}, {'title': 'Valles Marineris Hemisphere', 'img_url': 'https://astrogeology.usgs.gov/cache/images/7cf2da4bf549ed01c17f206327be4db7_valles_marineris_enhanced.tif_full.jpg'}]}\n",
      "Scrape return:\n",
      "{'news_title': \"\\n\\nNext Mars Rover Will Have 23 'Eyes'\\n\\n\", 'news_teaser': \"\\n\\nWhen NASA's Mars Pathfinder touched down in 1997, it had five cameras: two on a mast that popped up from the lander, and three on NASA's first rover, Sojourner.\\n\\n\\n\\n\\n\", 'featured_image_url': 'https://www.jpl.nasa.gov/spaceimages/images/largesize/PIA17551_hires.jpg', 'mars_weather': 'Sol 1924 (Jan 03, 2018), Sunny, high -21C/-5F, low -78C/-108F, pressure at 7.77 hPa, daylight 05:47-17:30', 'factTable': '<table border=\"1\" class=\"dataframe\">  <tbody>    <tr>      <td>Equatorial Diameter:</td>      <td>6,792 km</td>    </tr>    <tr>      <td>Polar Diameter:</td>      <td>6,752 km</td>    </tr>    <tr>      <td>Mass:</td>      <td>6.42 x 10^23 kg (10.7% Earth)</td>    </tr>    <tr>      <td>Moons:</td>      <td>2 (Phobos &amp; Deimos)</td>    </tr>    <tr>      <td>Orbit Distance:</td>      <td>227,943,824 km (1.52 AU)</td>    </tr>    <tr>      <td>Orbit Period:</td>      <td>687 days (1.9 years)</td>    </tr>    <tr>      <td>Surface Temperature:</td>      <td>-153 to 20 °C</td>    </tr>    <tr>      <td>First Record:</td>      <td>2nd millennium BC</td>    </tr>    <tr>      <td>Recorded By:</td>      <td>Egyptian astronomers</td>    </tr>  </tbody></table>', 'HemisphereImages': [{'title': 'Cerberus Hemisphere', 'img_url': 'https://astrogeology.usgs.gov/cache/images/cfa62af2557222a02478f1fcd781d445_cerberus_enhanced.tif_full.jpg'}, {'title': 'Schiaparelli Hemisphere', 'img_url': 'https://astrogeology.usgs.gov/cache/images/3cdd1cbf5e0813bba925c9030d13b62e_schiaparelli_enhanced.tif_full.jpg'}, {'title': 'Syrtis Major Hemisphere', 'img_url': 'https://astrogeology.usgs.gov/cache/images/ae209b4e408bb6c3e67b6af38168cf28_syrtis_major_enhanced.tif_full.jpg'}, {'title': 'Valles Marineris Hemisphere', 'img_url': 'https://astrogeology.usgs.gov/cache/images/7cf2da4bf549ed01c17f206327be4db7_valles_marineris_enhanced.tif_full.jpg'}]}\n"
     ]
    }
   ],
   "source": [
    "data = scrape_mars.scrape()\n",
    "print(\"Scrape return:\")\n",
    "print(data)"
   ]
  },
  {
   "cell_type": "code",
   "execution_count": 10,
   "metadata": {},
   "outputs": [
    {
     "name": "stdout",
     "output_type": "stream",
     "text": [
      "Find in Mongo\n",
      "None\n"
     ]
    }
   ],
   "source": [
    "test = collection.find_one({\"uniqueID\":\"1\"})\n",
    "print(\"Find in Mongo\")\n",
    "pprint(test)"
   ]
  },
  {
   "cell_type": "code",
   "execution_count": 11,
   "metadata": {},
   "outputs": [
    {
     "name": "stderr",
     "output_type": "stream",
     "text": [
      "C:\\Users\\AMAMUN\\AppData\\Local\\conda\\conda\\envs\\PythonData\\lib\\site-packages\\ipykernel\\__main__.py:1: DeprecationWarning: update is deprecated. Use replace_one, update_one or update_many instead.\n",
      "  if __name__ == '__main__':\n"
     ]
    },
    {
     "data": {
      "text/plain": [
       "{'n': 1,\n",
       " 'nModified': 0,\n",
       " 'ok': 1.0,\n",
       " 'updatedExisting': False,\n",
       " 'upserted': ObjectId('5a52934e0be94e714d91d81a')}"
      ]
     },
     "execution_count": 11,
     "metadata": {},
     "output_type": "execute_result"
    }
   ],
   "source": [
    "collection.update({\"uniqueID\":\"1\"},{'$set':data}, upsert=True) "
   ]
  },
  {
   "cell_type": "code",
   "execution_count": 12,
   "metadata": {},
   "outputs": [
    {
     "name": "stdout",
     "output_type": "stream",
     "text": [
      "After update\n",
      "{'HemisphereImages': [{'img_url': 'https://astrogeology.usgs.gov/cache/images/cfa62af2557222a02478f1fcd781d445_cerberus_enhanced.tif_full.jpg',\n",
      "                       'title': 'Cerberus Hemisphere'},\n",
      "                      {'img_url': 'https://astrogeology.usgs.gov/cache/images/3cdd1cbf5e0813bba925c9030d13b62e_schiaparelli_enhanced.tif_full.jpg',\n",
      "                       'title': 'Schiaparelli Hemisphere'},\n",
      "                      {'img_url': 'https://astrogeology.usgs.gov/cache/images/ae209b4e408bb6c3e67b6af38168cf28_syrtis_major_enhanced.tif_full.jpg',\n",
      "                       'title': 'Syrtis Major Hemisphere'},\n",
      "                      {'img_url': 'https://astrogeology.usgs.gov/cache/images/7cf2da4bf549ed01c17f206327be4db7_valles_marineris_enhanced.tif_full.jpg',\n",
      "                       'title': 'Valles Marineris Hemisphere'}],\n",
      " '_id': ObjectId('5a52934e0be94e714d91d81a'),\n",
      " 'factTable': '<table border=\"1\" class=\"dataframe\">  <tbody>    <tr>      '\n",
      "              '<td>Equatorial Diameter:</td>      <td>6,792 km</td>    '\n",
      "              '</tr>    <tr>      <td>Polar Diameter:</td>      <td>6,752 '\n",
      "              'km</td>    </tr>    <tr>      <td>Mass:</td>      <td>6.42 x '\n",
      "              '10^23 kg (10.7% Earth)</td>    </tr>    <tr>      '\n",
      "              '<td>Moons:</td>      <td>2 (Phobos &amp; Deimos)</td>    '\n",
      "              '</tr>    <tr>      <td>Orbit Distance:</td>      '\n",
      "              '<td>227,943,824 km (1.52 AU)</td>    </tr>    <tr>      '\n",
      "              '<td>Orbit Period:</td>      <td>687 days (1.9 years)</td>    '\n",
      "              '</tr>    <tr>      <td>Surface Temperature:</td>      <td>-153 '\n",
      "              'to 20 °C</td>    </tr>    <tr>      <td>First Record:</td>      '\n",
      "              '<td>2nd millennium BC</td>    </tr>    <tr>      <td>Recorded '\n",
      "              'By:</td>      <td>Egyptian astronomers</td>    </tr>  '\n",
      "              '</tbody></table>',\n",
      " 'featured_image_url': 'https://www.jpl.nasa.gov/spaceimages/images/largesize/PIA17551_hires.jpg',\n",
      " 'mars_weather': 'Sol 1924 (Jan 03, 2018), Sunny, high -21C/-5F, low '\n",
      "                 '-78C/-108F, pressure at 7.77 hPa, daylight 05:47-17:30',\n",
      " 'news_teaser': '\\n'\n",
      "                '\\n'\n",
      "                \"When NASA's Mars Pathfinder touched down in 1997, it had five \"\n",
      "                'cameras: two on a mast that popped up from the lander, and '\n",
      "                \"three on NASA's first rover, Sojourner.\\n\"\n",
      "                '\\n'\n",
      "                '\\n'\n",
      "                '\\n'\n",
      "                '\\n',\n",
      " 'news_title': \"\\n\\nNext Mars Rover Will Have 23 'Eyes'\\n\\n\",\n",
      " 'uniqueID': '1'}\n"
     ]
    }
   ],
   "source": [
    "print(\"After update\")\n",
    "test = collection.find_one({\"uniqueID\":\"1\"})\n",
    "pprint(test)"
   ]
  },
  {
   "cell_type": "code",
   "execution_count": 14,
   "metadata": {},
   "outputs": [
    {
     "name": "stdout",
     "output_type": "stream",
     "text": [
      "MongoDB updated\n"
     ]
    }
   ],
   "source": [
    "print(\"MongoDB updated\")\n",
    "mongod.terminate()\n",
    "#return redirect(\"http://localhost:5000/\", code=302)"
   ]
  },
  {
   "cell_type": "code",
   "execution_count": null,
   "metadata": {
    "collapsed": true
   },
   "outputs": [],
   "source": []
  }
 ],
 "metadata": {
  "kernelspec": {
   "display_name": "Python [conda env:PythonData]",
   "language": "python",
   "name": "conda-env-PythonData-py"
  },
  "language_info": {
   "codemirror_mode": {
    "name": "ipython",
    "version": 3
   },
   "file_extension": ".py",
   "mimetype": "text/x-python",
   "name": "python",
   "nbconvert_exporter": "python",
   "pygments_lexer": "ipython3",
   "version": "3.6.2"
  }
 },
 "nbformat": 4,
 "nbformat_minor": 2
}
